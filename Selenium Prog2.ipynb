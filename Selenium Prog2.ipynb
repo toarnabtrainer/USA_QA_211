{
 "cells": [
  {
   "cell_type": "markdown",
   "id": "e9c27b56-8245-4e94-819b-c38ce8c5c651",
   "metadata": {},
   "source": [
    "## Selenium Code Example - 2"
   ]
  },
  {
   "cell_type": "markdown",
   "id": "f5109c37-ed85-4068-8406-c9828e69153c",
   "metadata": {},
   "source": [
    "### Selenium control options to write text, button press, select menu and others"
   ]
  },
  {
   "cell_type": "code",
   "execution_count": 1,
   "id": "4d8ba8e7-8ff9-44db-b1c9-7be9e218cf63",
   "metadata": {},
   "outputs": [],
   "source": [
    "# importing all required modules\n",
    "from selenium import webdriver\n",
    "from selenium.webdriver.chrome.service import Service"
   ]
  },
  {
   "cell_type": "code",
   "execution_count": 2,
   "id": "461a2702-090c-477a-8137-800cdeff4fe1",
   "metadata": {},
   "outputs": [
    {
     "name": "stdout",
     "output_type": "stream",
     "text": [
      "4.10.0\n"
     ]
    }
   ],
   "source": [
    "# now check the current version of the selenium\n",
    "print (webdriver.__version__)"
   ]
  },
  {
   "cell_type": "code",
   "execution_count": 3,
   "id": "0c9718e0-e1ce-4646-8220-caaeeb88c916",
   "metadata": {},
   "outputs": [],
   "source": [
    "# we shoud now use the webdriver to control the chrome browser\n",
    "service = Service(executable_path=\"./chromedriver.exe\")\n",
    "options = webdriver.ChromeOptions()\n",
    "driver = webdriver.Chrome(service=service, options=options)"
   ]
  },
  {
   "cell_type": "code",
   "execution_count": 5,
   "id": "061f283e-00cf-4b6e-a97c-ae3aa59ecd54",
   "metadata": {},
   "outputs": [],
   "source": [
    "# open the webportal to calculate nCr operations\n",
    "URL = \"https://www.calculatorsoup.com/calculators/discretemathematics/combinations.php\"\n",
    "driver.get(URL)"
   ]
  },
  {
   "cell_type": "code",
   "execution_count": 11,
   "id": "42524aac-bc40-4446-94b2-9dd5bbc6bfe3",
   "metadata": {},
   "outputs": [],
   "source": [
    "n_input = driver.find_element(\"id\", \"n\")\n",
    "n_input.clear()\n",
    "n_input.send_keys(\"10\")"
   ]
  },
  {
   "cell_type": "code",
   "execution_count": 10,
   "id": "88c526f7-92de-48cf-8719-e998339b82fe",
   "metadata": {},
   "outputs": [],
   "source": [
    "# r_input = driver.find_element(\"id\", \"r\")\n",
    "# r_input.clear()\n",
    "# r_input.send_keys(\"8\")"
   ]
  },
  {
   "cell_type": "code",
   "execution_count": 12,
   "id": "688d6505-fc86-439d-a271-6834cada205e",
   "metadata": {},
   "outputs": [],
   "source": [
    "# to press keys, we can use the following library\n",
    "from selenium.webdriver.common.keys import Keys\n",
    "\n",
    "# to press Tab key to go to the next input area\n",
    "n_input.send_keys(Keys.TAB)\n",
    "\n",
    "# select currently selected input area\n",
    "r_input = driver.switch_to.active_element\n",
    "\n",
    "# now put the r value in that activated text box\n",
    "r_input.send_keys(\"5\")"
   ]
  },
  {
   "cell_type": "code",
   "execution_count": 13,
   "id": "2462bb5f-8309-4f69-b9f9-4f846eccca6f",
   "metadata": {},
   "outputs": [],
   "source": [
    "# now go to the calculate button and click on it\n",
    "calculate_button = driver.find_element(\"id\", \"calculateButton\")\n",
    "calculate_button.click()"
   ]
  },
  {
   "cell_type": "code",
   "execution_count": 20,
   "id": "53660758-3db9-4497-98a6-01fb0b9434ec",
   "metadata": {},
   "outputs": [
    {
     "name": "stdout",
     "output_type": "stream",
     "text": [
      "['Answer:', '=', '252', 'Solution:', 'C', '(', 'n', ',', 'r', ')', '=', '?', 'C', '(', 'n', ',', 'r', ')', '=', 'C', '(', '10', ',', '5', ')', '=', '10', '!', '(', '5', '!', '(', '10', '−', '5', ')', '!', ')', '=', '10', '!', '5', '!', '×', '5', '!', '=', '252']\n",
      "252 <class 'int'>\n"
     ]
    }
   ],
   "source": [
    "# read the answer from the result area\n",
    "result_area = driver.find_element(\"id\", \"calculatorAnswer\")\n",
    "result = result_area.text\n",
    "# print (result)\n",
    "answer = result.split()\n",
    "print (answer)\n",
    "final_answer = int(answer[2])\n",
    "print (final_answer, type(final_answer))"
   ]
  },
  {
   "cell_type": "code",
   "execution_count": 21,
   "id": "572e96aa-f39e-42c9-846a-b1f660947f10",
   "metadata": {},
   "outputs": [],
   "source": [
    "driver.quit()"
   ]
  },
  {
   "cell_type": "code",
   "execution_count": null,
   "id": "9932929d-ad5c-4a5e-82a2-c0eb10880620",
   "metadata": {},
   "outputs": [],
   "source": []
  }
 ],
 "metadata": {
  "kernelspec": {
   "display_name": "Python 3 (ipykernel)",
   "language": "python",
   "name": "python3"
  },
  "language_info": {
   "codemirror_mode": {
    "name": "ipython",
    "version": 3
   },
   "file_extension": ".py",
   "mimetype": "text/x-python",
   "name": "python",
   "nbconvert_exporter": "python",
   "pygments_lexer": "ipython3",
   "version": "3.10.9"
  }
 },
 "nbformat": 4,
 "nbformat_minor": 5
}
