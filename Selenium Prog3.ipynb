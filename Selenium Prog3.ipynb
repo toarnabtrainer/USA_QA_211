{
 "cells": [
  {
   "cell_type": "markdown",
   "id": "7a1680a3-8a43-4016-b6c9-6f884c385e64",
   "metadata": {},
   "source": [
    "### Selenium Code Example - 3/3"
   ]
  },
  {
   "cell_type": "markdown",
   "id": "e0b021ab-5bb9-4b42-a89a-eb9b3d835603",
   "metadata": {},
   "source": [
    "### Selenium control options to write text, button press, dropdown list, check box and others"
   ]
  },
  {
   "cell_type": "code",
   "execution_count": 1,
   "id": "914a7075-aade-4c82-953a-0492ad3658ce",
   "metadata": {},
   "outputs": [],
   "source": [
    "# importing all the required modules\n",
    "from selenium import webdriver\n",
    "from selenium.webdriver.chrome.service import Service"
   ]
  },
  {
   "cell_type": "code",
   "execution_count": 2,
   "id": "1c26f4b6-8caf-4dde-bd48-aa6f235488bf",
   "metadata": {},
   "outputs": [
    {
     "name": "stdout",
     "output_type": "stream",
     "text": [
      "4.10.0\n"
     ]
    }
   ],
   "source": [
    "# checking with the current selenium version\n",
    "print (webdriver.__version__)"
   ]
  },
  {
   "cell_type": "code",
   "execution_count": 4,
   "id": "6bd46c6f-6840-4808-9183-628ba69c313b",
   "metadata": {},
   "outputs": [],
   "source": [
    "# Checking the presence of the webdriver\n",
    "service = Service(executable_path=\"./chromedriver.exe\")\n",
    "options = webdriver.ChromeOptions()\n",
    "driver = webdriver.Chrome(service=service, options=options)"
   ]
  },
  {
   "cell_type": "code",
   "execution_count": 5,
   "id": "d1ec3b9e-361c-489c-9296-34115803aee1",
   "metadata": {},
   "outputs": [],
   "source": [
    "# now we shall go for another web-portal for currency conversion\n",
    "driver.get(\"https://www.calculator.net/currency-calculator.html\")"
   ]
  },
  {
   "cell_type": "code",
   "execution_count": 6,
   "id": "11919a42-97d8-4523-aec4-57c83f05e72c",
   "metadata": {},
   "outputs": [],
   "source": [
    "# import select from selenium library to get HTML select tags\n",
    "from selenium.webdriver.support.ui import Select"
   ]
  },
  {
   "cell_type": "code",
   "execution_count": 7,
   "id": "6c9dd081-ec49-4261-9ac9-dd337d41ab3f",
   "metadata": {},
   "outputs": [],
   "source": [
    "# now select the FROM currency as INR and TO currency as USD from the drop down menu\n",
    "from_currency = Select(driver.find_element(\"id\", \"efrom\"))\n",
    "from_currency.select_by_visible_text(\"INR: Indian Rupee\")   # text visible to the user"
   ]
  },
  {
   "cell_type": "code",
   "execution_count": 10,
   "id": "9c7a5c7d-50d5-4bcc-9dc3-da1cf75184a4",
   "metadata": {},
   "outputs": [],
   "source": [
    "to_currency = Select(driver.find_element(\"id\", \"eto\"))\n",
    "to_currency.select_by_value(\"USD\")"
   ]
  },
  {
   "cell_type": "code",
   "execution_count": 11,
   "id": "8bd7f6ce-4437-43bc-932f-b22001bee295",
   "metadata": {},
   "outputs": [],
   "source": [
    "# put the amount as 500\n",
    "amount_textbox = driver.find_element(\"id\", \"eamount\")\n",
    "# clear the text field at first and put the value there\n",
    "amount_textbox.clear()\n",
    "amount_textbox.send_keys(\"500\")"
   ]
  },
  {
   "cell_type": "code",
   "execution_count": 12,
   "id": "1619d36d-6397-48a5-a472-418bd76ad543",
   "metadata": {},
   "outputs": [],
   "source": [
    "# click on the calculate button\n",
    "calculate_button = driver.find_element(\"xpath\", '//*[@id=\"standard\"]/tbody/tr[5]/td[2]/input[2]')\n",
    "calculate_button.click()"
   ]
  },
  {
   "cell_type": "code",
   "execution_count": 13,
   "id": "58059c8f-a54a-4b7a-a5c8-1749bf495444",
   "metadata": {},
   "outputs": [],
   "source": [
    "checkbox = driver.find_element('xpath', '//*[@id=\"ccmajorccsettingbox\"]')\n",
    "# if this is already checked the uncheck it by the help the java script\n",
    "if checkbox.is_selected():\n",
    "    driver.execute_script(\"arguments[0].click()\", checkbox)"
   ]
  },
  {
   "cell_type": "code",
   "execution_count": 14,
   "id": "cd59e9d3-d9de-405c-af20-93e2aff2fe85",
   "metadata": {},
   "outputs": [],
   "source": [
    "# change the from currency text to 'ZWL: Zimbabwean Dollar'\n",
    "from_currency = Select(driver.find_element(\"id\", \"efrom\"))\n",
    "from_currency.select_by_value(\"ZWL\")"
   ]
  },
  {
   "cell_type": "code",
   "execution_count": 15,
   "id": "d0521caa-afc4-47fe-ab0f-d8bc8fca76be",
   "metadata": {},
   "outputs": [],
   "source": [
    "# clear the textbox field and then insert value 1000\n",
    "amount_textbox = driver.find_element(\"id\", \"eamount\")\n",
    "amount_textbox.clear()\n",
    "amount_textbox.send_keys(\"1000\")"
   ]
  },
  {
   "cell_type": "code",
   "execution_count": 16,
   "id": "ffb79e9a-9baa-4004-b7b3-daaf1467131d",
   "metadata": {},
   "outputs": [],
   "source": [
    "calculate_button = driver.find_element(\"xpath\", '//*[@id=\"standard\"]/tbody/tr[5]/td[2]/input[2]')\n",
    "calculate_button.click()"
   ]
  },
  {
   "cell_type": "code",
   "execution_count": 17,
   "id": "d21841f2-4733-4b63-a5cf-725a9845fb20",
   "metadata": {},
   "outputs": [],
   "source": [
    "driver.quit()"
   ]
  },
  {
   "cell_type": "code",
   "execution_count": null,
   "id": "e32e4c99-7e0d-4e43-8b36-b84031f180e7",
   "metadata": {},
   "outputs": [],
   "source": []
  }
 ],
 "metadata": {
  "kernelspec": {
   "display_name": "Python 3 (ipykernel)",
   "language": "python",
   "name": "python3"
  },
  "language_info": {
   "codemirror_mode": {
    "name": "ipython",
    "version": 3
   },
   "file_extension": ".py",
   "mimetype": "text/x-python",
   "name": "python",
   "nbconvert_exporter": "python",
   "pygments_lexer": "ipython3",
   "version": "3.10.9"
  }
 },
 "nbformat": 4,
 "nbformat_minor": 5
}
