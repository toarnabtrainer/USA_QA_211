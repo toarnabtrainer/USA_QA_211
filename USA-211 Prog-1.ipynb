{
 "cells": [
  {
   "cell_type": "markdown",
   "id": "2196df4e-6451-48cb-8bf9-b3ec60cd2a8e",
   "metadata": {},
   "source": [
    "## **Inroduction to Python**"
   ]
  },
  {
   "cell_type": "markdown",
   "id": "2de5aa25-1d2b-404a-abd2-b2132ba49d7a",
   "metadata": {},
   "source": [
    "### Comment lines"
   ]
  },
  {
   "cell_type": "code",
   "execution_count": null,
   "id": "074e38fd-3f5e-4ab2-a412-6c2016a016e0",
   "metadata": {},
   "outputs": [],
   "source": [
    "# This is the first comment line\n",
    "# This is the second comment line\n",
    "# This is the third comment line"
   ]
  },
  {
   "cell_type": "markdown",
   "id": "fd76a3c1-9b09-40d6-8d5b-358e2e044c05",
   "metadata": {},
   "source": [
    "### Inputs and Outputs"
   ]
  },
  {
   "cell_type": "code",
   "execution_count": 3,
   "id": "98ac9fae-fe1a-401c-8598-0c3c1856bba4",
   "metadata": {},
   "outputs": [
    {
     "name": "stdin",
     "output_type": "stream",
     "text": [
      "Please enter the first number:  100\n",
      "Please enter the second number:  400\n"
     ]
    },
    {
     "name": "stdout",
     "output_type": "stream",
     "text": [
      "100 <class 'str'> 400 <class 'str'>\n",
      "So the result is 100400\n",
      "So the result is 500\n",
      "End of the program...\n"
     ]
    }
   ],
   "source": [
    "num1 = input(\"Please enter the first number: \")\n",
    "num2 = input(\"Please enter the second number: \")\n",
    "print (num1, type(num1), num2, type(num2))\n",
    "result = num1 + num2\n",
    "print (\"So the result is\", result)\n",
    "result = int(num1) + int(num2)\n",
    "print (\"So the result is\", result)\n",
    "print (\"End of the program...\")"
   ]
  },
  {
   "cell_type": "code",
   "execution_count": 4,
   "id": "680f1c51-877a-4a84-9c5c-097196f851b5",
   "metadata": {},
   "outputs": [
    {
     "name": "stdin",
     "output_type": "stream",
     "text": [
      "Please enter the first number:  100\n",
      "Please enter the second number:  400\n"
     ]
    },
    {
     "name": "stdout",
     "output_type": "stream",
     "text": [
      "100 <class 'int'> 400 <class 'int'>\n",
      "So the result is 500\n",
      "End of the program...\n"
     ]
    }
   ],
   "source": [
    "num1 = int(input(\"Please enter the first number: \"))\n",
    "num2 = int(input(\"Please enter the second number: \"))\n",
    "print (num1, type(num1), num2, type(num2))\n",
    "result = num1 + num2\n",
    "print (\"So the result is\", result)\n",
    "print (\"End of the program...\")"
   ]
  },
  {
   "cell_type": "code",
   "execution_count": 21,
   "id": "09ac7f8a-5dd5-44cc-9657-5b87b258a7e9",
   "metadata": {},
   "outputs": [
    {
     "name": "stdout",
     "output_type": "stream",
     "text": [
      "Here 100 + 400 = 500\n",
      "Here 100 + 400 = 500\n",
      "Here 100 + 400 = 500\n",
      "Here 100 + 400 = 500\n",
      "Here 100 + 400 = 500\n",
      "Here 100 + 400 = 500\n",
      "Here 100 + 400 = 500\n",
      "Here 100 + 400.000000 = 500\n",
      "Here 100 + 400.000000 = 500\n",
      "Here 100 +   400.00 = 500\n",
      "Here 100 + 400 = 500\n"
     ]
    }
   ],
   "source": [
    "print (\"Here\", num1, \"+\", num2, \"=\", result)\n",
    "print (\"Here \" + str(num1) + \" + \" + str(num2) + \" = \" + str(result))\n",
    "print (\"Here {0} + {1} = {2}\".format(num1, num2, result))  # {} is indexed variable placeholder\n",
    "print (\"Here {2} + {1} = {0}\".format(result, num2, num1))\n",
    "print (\"Here {fnum} + {snum} = {tot}\".format(fnum = num1, snum = num2, tot = result))  # {} is labeled variable placeholder\n",
    "print (\"Here {fnum} + {snum} = {tot}\".format(snum = num2, fnum = num1, tot = result))\n",
    "print (\"Here %d + %d = %d\"%(num1, num2, result))\n",
    "print (\"Here %d + %f = %d\"%(num1, num2, result))\n",
    "print (\"Here %d + %10.6f = %d\"%(num1, num2, result))\n",
    "print (\"Here %d + %8.2f = %d\"%(num1, num2, result))\n",
    "print (f\"Here {num1} + {num2} = {result}\")    # smart formatting"
   ]
  },
  {
   "cell_type": "markdown",
   "id": "c525a400-4673-41a8-be93-94e3f893156f",
   "metadata": {},
   "source": [
    "### Operators"
   ]
  },
  {
   "cell_type": "code",
   "execution_count": 26,
   "id": "33dd596a-ffce-4d2e-9d79-7ba7ba0a56ad",
   "metadata": {},
   "outputs": [
    {
     "name": "stdout",
     "output_type": "stream",
     "text": [
      "140\n",
      "60\n",
      "4000\n",
      "2.5\n",
      "2\n",
      "20\n",
      "100000000\n"
     ]
    }
   ],
   "source": [
    "# Arithmetic Operators: + - * / // % **\n",
    "print(100 + 40)\n",
    "print (100 - 40)\n",
    "print (100 * 40)\n",
    "print (100 / 40)   # float division\n",
    "print (100 // 40)   # integer division\n",
    "print (100 % 40)   # modulus or mod division\n",
    "print (100 ** 4)   # exponentiation"
   ]
  },
  {
   "cell_type": "code",
   "execution_count": 27,
   "id": "f608370a-7799-4fba-b738-34d6f89167c8",
   "metadata": {},
   "outputs": [
    {
     "name": "stdout",
     "output_type": "stream",
     "text": [
      "True True False\n"
     ]
    }
   ],
   "source": [
    "# Relational Operators: > >= < <= = !=\n",
    "print (100 >= 40, 100 == 100, 100 != 100)"
   ]
  },
  {
   "cell_type": "code",
   "execution_count": 30,
   "id": "ac89b261-8bb4-448d-be90-7395aef2d8fc",
   "metadata": {},
   "outputs": [
    {
     "name": "stdout",
     "output_type": "stream",
     "text": [
      "True False False False\n",
      "True False True True\n",
      "False True\n"
     ]
    }
   ],
   "source": [
    "# Logical Operators: and, or, not\n",
    "print (True and True, False and False, False and True, True and False)\n",
    "print (True or True, False or False, False or True, True or False)\n",
    "print (not True, not False)"
   ]
  },
  {
   "cell_type": "markdown",
   "id": "24ebe26e-a929-42dd-bd28-6f1676cf9649",
   "metadata": {},
   "source": [
    "### Conditional Statements"
   ]
  },
  {
   "cell_type": "code",
   "execution_count": 35,
   "id": "36d093a0-a92e-441d-a368-0a6abfb9ed8c",
   "metadata": {},
   "outputs": [
    {
     "name": "stdin",
     "output_type": "stream",
     "text": [
      "Please enter the first number:  300\n",
      "Please enter the second number:  10\n",
      "Please enter the third number:  200\n"
     ]
    },
    {
     "name": "stdout",
     "output_type": "stream",
     "text": [
      "The maximum number is the first number = 300\n"
     ]
    }
   ],
   "source": [
    "# take three numbers from the user as inputs and print the maximum of them\n",
    "num1 = int(input(\"Please enter the first number: \"))\n",
    "num2 = int(input(\"Please enter the second number: \"))\n",
    "num3 = int(input(\"Please enter the third number: \"))\n",
    "if (num1 > num2):\n",
    "    if (num1 > num3):\n",
    "        print (\"The maximum number is the first number =\", num1)\n",
    "    else:\n",
    "        print (\"The maximum number is the third number =\", num3)\n",
    "elif (num2 > num3):\n",
    "    print (\"The maximum number is the second number =\", num2)\n",
    "else:\n",
    "    print (\"The maximum number is the third number =\", num3)"
   ]
  },
  {
   "cell_type": "code",
   "execution_count": null,
   "id": "ec325069-3059-417b-b462-739ba5667b83",
   "metadata": {},
   "outputs": [],
   "source": [
    "# take three numbers from the user as inputs and print the maximum of them\n",
    "num1 = int(input(\"Please enter the first number: \"))\n",
    "num2 = int(input(\"Please enter the second number: \"))\n",
    "num3 = int(input(\"Please enter the third number: \"))\n",
    "if (num1 > num2 and num1 > num3):\n",
    "    print (\"The maximum number is the first number =\", num1)\n",
    "elif (num2 > num3):\n",
    "    print (\"The maximum number is the second number =\", num2)\n",
    "else:\n",
    "    print (\"The maximum number is the third number =\", num3)"
   ]
  },
  {
   "cell_type": "markdown",
   "id": "8ba8afdb-3650-4481-9580-ca41275ea3b5",
   "metadata": {},
   "source": [
    "### Python Loops"
   ]
  },
  {
   "cell_type": "code",
   "execution_count": 2,
   "id": "4ba74c67-d43a-48b7-a625-f3a03456f481",
   "metadata": {},
   "outputs": [
    {
     "name": "stdout",
     "output_type": "stream",
     "text": [
      "Looping with i = 0...\n",
      "Looping with i = 1...\n",
      "Looping with i = 2...\n",
      "Looping with i = 3...\n",
      "Looping with i = 4...\n",
      "Looping with i = 5...\n",
      "Looping with i = 6...\n",
      "Looping with i = 7...\n",
      "Looping with i = 8...\n",
      "Looping with i = 9...\n",
      "End of the program...\n"
     ]
    }
   ],
   "source": [
    "for i in range(10):\n",
    "    print (f\"Looping with i = {i}...\")\n",
    "print (\"End of the program...\")"
   ]
  },
  {
   "cell_type": "code",
   "execution_count": 3,
   "id": "1259afa9-e739-41ef-be1c-9710466ecbf3",
   "metadata": {},
   "outputs": [
    {
     "name": "stdout",
     "output_type": "stream",
     "text": [
      "Looping with i = 0...\n",
      "Looping with i = 1...\n",
      "Looping with i = 2...\n",
      "Looping with i = 3...\n",
      "Looping with i = 4...\n",
      "Looping with i = 5...\n",
      "Looping with i = 6...\n",
      "Looping with i = 7...\n",
      "Looping with i = 8...\n",
      "Looping with i = 9...\n",
      "End of the program...\n"
     ]
    }
   ],
   "source": [
    "for i in range(0, 10):\n",
    "    print (f\"Looping with i = {i}...\")\n",
    "print (\"End of the program...\")"
   ]
  },
  {
   "cell_type": "code",
   "execution_count": 4,
   "id": "075a98ad-01d8-4110-bfb9-95213b1d0ff9",
   "metadata": {},
   "outputs": [
    {
     "name": "stdout",
     "output_type": "stream",
     "text": [
      "Looping with i = 0...\n",
      "Looping with i = 1...\n",
      "Looping with i = 2...\n",
      "Looping with i = 3...\n",
      "Looping with i = 4...\n",
      "Looping with i = 5...\n",
      "Looping with i = 6...\n",
      "Looping with i = 7...\n",
      "Looping with i = 8...\n",
      "Looping with i = 9...\n",
      "End of the program...\n"
     ]
    }
   ],
   "source": [
    "for i in range(0, 10, 1):\n",
    "    print (f\"Looping with i = {i}...\")\n",
    "print (\"End of the program...\")"
   ]
  },
  {
   "cell_type": "code",
   "execution_count": 5,
   "id": "35836602-7387-4f45-b32c-f64f22ede9a5",
   "metadata": {},
   "outputs": [
    {
     "name": "stdout",
     "output_type": "stream",
     "text": [
      "Looping with i = 0...\n",
      "Looping with i = 2...\n",
      "Looping with i = 4...\n",
      "Looping with i = 6...\n",
      "Looping with i = 8...\n",
      "End of the program...\n"
     ]
    }
   ],
   "source": [
    "for i in range(0, 10, 2):\n",
    "    print (f\"Looping with i = {i}...\")\n",
    "print (\"End of the program...\")"
   ]
  },
  {
   "cell_type": "code",
   "execution_count": 8,
   "id": "6b4e6b95-4d06-4b63-842e-4e9e5ad15206",
   "metadata": {},
   "outputs": [
    {
     "name": "stdout",
     "output_type": "stream",
     "text": [
      "Looping with i = 1...\n",
      "Looping with i = 3...\n",
      "Looping with i = 5...\n",
      "Looping with i = 7...\n",
      "Looping with i = 9...\n",
      "\n",
      "The loop executed for 5 number of times..\n",
      "End of the program...\n"
     ]
    }
   ],
   "source": [
    "count = 0\n",
    "for i in range(1, 10, 2):\n",
    "    print (f\"Looping with i = {i}...\")\n",
    "    count += 1\n",
    "print (f\"\\nThe loop executed for {count} number of times..\")\n",
    "print (\"End of the program...\")"
   ]
  },
  {
   "cell_type": "code",
   "execution_count": 12,
   "id": "c895c6e1-b2ff-495a-96dd-1780767ec518",
   "metadata": {},
   "outputs": [
    {
     "name": "stdout",
     "output_type": "stream",
     "text": [
      "Hello\n",
      "HelloHelloHelloHelloHello\n",
      "Hello Hello Hello Hello Hello \n",
      "Hello Hello Hello Hello Hello Hello Hello Hello Hello Hello \n"
     ]
    }
   ],
   "source": [
    "print (\"Hello\")\n",
    "print (\"Hello\" * 5)\n",
    "print (\"Hello \" * 5)\n",
    "print (\"Hello \" * 10)"
   ]
  },
  {
   "cell_type": "code",
   "execution_count": null,
   "id": "c0b82553-a4f2-4ec6-b491-5d85d7b31cd0",
   "metadata": {},
   "outputs": [],
   "source": [
    "n = 6 (user given integer)\n",
    "                 i    .    *\n",
    "               ---------------\n",
    ".....*           1    5    1        (i, n)\n",
    "....***          2    4    3   . => (n - i)\n",
    "...*****         3    3    5\n",
    "..*******        4    2    7   * => (2 * i - 1)\n",
    ".*********       5    1    9\n",
    "***********      6    0   11\n",
    "               ---------------"
   ]
  },
  {
   "cell_type": "code",
   "execution_count": 16,
   "id": "5474e603-5df6-478f-befc-6bc626b50e75",
   "metadata": {},
   "outputs": [
    {
     "name": "stdin",
     "output_type": "stream",
     "text": [
      "Please enter the number of layers: 6\n"
     ]
    },
    {
     "name": "stdout",
     "output_type": "stream",
     "text": [
      ".....*\n",
      "....***\n",
      "...*****\n",
      "..*******\n",
      ".*********\n",
      "***********\n",
      "End of the pattern print...\n"
     ]
    }
   ],
   "source": [
    "n = int(input(\"Please enter the number of layers:\"))\n",
    "for i in range(1, n + 1):\n",
    "    print (\".\" * (n - i) + \"*\" * (2 * i - 1))\n",
    "print (\"End of the pattern print...\")"
   ]
  },
  {
   "cell_type": "code",
   "execution_count": null,
   "id": "2fa0559c-5382-4665-802d-50236375ad3e",
   "metadata": {},
   "outputs": [],
   "source": [
    "n = 6 (user given integer)\n",
    "                 i    .    *\n",
    "               ---------------\n",
    "***********      1    0   11        (i, n)\n",
    ".*********       2    1    9   . => (i - 1)\n",
    "..*******        3    2    7\n",
    "...*****         4    3    5   * => (2 * (n - i) + 1)\n",
    "....***          5    4    3\n",
    ".....*           6    5    1\n",
    "               ---------------"
   ]
  },
  {
   "cell_type": "code",
   "execution_count": 21,
   "id": "fd1b00dd-65fc-497d-a877-b7bf59cbe4b5",
   "metadata": {},
   "outputs": [
    {
     "name": "stdin",
     "output_type": "stream",
     "text": [
      "Please enter the number of layers: 6\n"
     ]
    },
    {
     "name": "stdout",
     "output_type": "stream",
     "text": [
      "***********\n",
      ".*********\n",
      "..*******\n",
      "...*****\n",
      "....***\n",
      ".....*\n",
      "End of the pattern print...\n"
     ]
    }
   ],
   "source": [
    "n = int(input(\"Please enter the number of layers:\"))\n",
    "for i in range(1, n + 1):\n",
    "    print (\".\" * (i - 1) + \"*\" * (2 * (n - i) + 1))\n",
    "print (\"End of the pattern print...\")"
   ]
  },
  {
   "cell_type": "code",
   "execution_count": 23,
   "id": "a14f250b-6a7e-45a6-bbe8-8bb19cb8e31d",
   "metadata": {},
   "outputs": [
    {
     "name": "stdout",
     "output_type": "stream",
     "text": [
      "Looping for i = 0...\n",
      "Looping for i = 1...\n",
      "Looping for i = 2...\n",
      "Looping for i = 3...\n",
      "Looping for i = 4...\n",
      "Looping for i = 5...\n",
      "Looping for i = 6...\n",
      "Looping for i = 7...\n",
      "Executing the else block...\n",
      "End of the program...\n"
     ]
    }
   ],
   "source": [
    "for i in range(8):\n",
    "    print (f\"Looping for i = {i}...\")\n",
    "else:\n",
    "    print (\"Executing the else block...\")\n",
    "print (\"End of the program...\")"
   ]
  },
  {
   "cell_type": "code",
   "execution_count": 27,
   "id": "6b4de96d-bde8-46ec-8bf3-c4cef7970264",
   "metadata": {},
   "outputs": [
    {
     "name": "stdout",
     "output_type": "stream",
     "text": [
      "Looping for i = 0...\n",
      "Looping for i = 1...\n",
      "Looping for i = 2...\n",
      "Looping for i = 3...\n",
      "Looping for i = 4...\n",
      "Looping for i = 5...\n",
      "Looping for i = 6...\n",
      "Looping for i = 7...\n",
      "Executing the else block...\n",
      "End of the program...\n"
     ]
    }
   ],
   "source": [
    "for i in range(8):\n",
    "    print (f\"Looping for i = {i}...\")\n",
    "    if (i == 80): break\n",
    "else:\n",
    "    print (\"Executing the else block...\")\n",
    "print (\"End of the program...\")"
   ]
  },
  {
   "cell_type": "code",
   "execution_count": 31,
   "id": "89c8bd27-4453-40a1-a25c-69934e198cef",
   "metadata": {},
   "outputs": [
    {
     "name": "stdin",
     "output_type": "stream",
     "text": [
      "Please enter one integer: 15\n"
     ]
    },
    {
     "name": "stdout",
     "output_type": "stream",
     "text": [
      "15 is not a Prime Number...\n",
      "End of the program...\n"
     ]
    }
   ],
   "source": [
    "# prime number check\n",
    "num = int(input(\"Please enter one integer:\"))\n",
    "for i in range(2, num):\n",
    "    if (num % i == 0):\n",
    "        print (f\"{num} is not a Prime Number...\")\n",
    "        break\n",
    "else:\n",
    "    print (f\"{num} is a Prime Number...\")\n",
    "print (\"End of the program...\")"
   ]
  },
  {
   "cell_type": "code",
   "execution_count": 33,
   "id": "4c593f53-2d35-4e39-a9bb-1ce0c81f9aef",
   "metadata": {},
   "outputs": [
    {
     "name": "stdin",
     "output_type": "stream",
     "text": [
      "Please enter one integer: 100\n"
     ]
    },
    {
     "name": "stdout",
     "output_type": "stream",
     "text": [
      "100 is not a Prime Number...\n",
      "End of the program...\n"
     ]
    }
   ],
   "source": [
    "# prime number check\n",
    "num = int(input(\"Please enter one integer:\"))\n",
    "i = 2\n",
    "while (i <= (num - 1)):\n",
    "    if (num % i == 0):\n",
    "        print (f\"{num} is not a Prime Number...\")\n",
    "        break\n",
    "    i = i + 1\n",
    "else:\n",
    "    print (f\"{num} is a Prime Number...\")\n",
    "print (\"End of the program...\")"
   ]
  },
  {
   "cell_type": "code",
   "execution_count": 36,
   "id": "66ce5418-8deb-43e5-971d-e06760a9ee07",
   "metadata": {},
   "outputs": [
    {
     "name": "stdout",
     "output_type": "stream",
     "text": [
      "Visit Doctor...\n",
      "Good Morning...\n",
      "Day No. - 1 and Medicine No. - 1...\n",
      "Day No. - 1 and Medicine No. - 2...\n",
      "Day No. - 1 and Medicine No. - 3...\n",
      "Good Night...\n",
      "--------------------------------------------------\n",
      "Good Morning...\n",
      "Day No. - 2 and Medicine No. - 1...\n",
      "Day No. - 2 and Medicine No. - 2...\n",
      "Day No. - 2 and Medicine No. - 3...\n",
      "Good Night...\n",
      "--------------------------------------------------\n",
      "Good Morning...\n",
      "Day No. - 3 and Medicine No. - 1...\n",
      "Day No. - 3 and Medicine No. - 2...\n",
      "Day No. - 3 and Medicine No. - 3...\n",
      "Good Night...\n",
      "--------------------------------------------------\n",
      "Good Morning...\n",
      "Day No. - 4 and Medicine No. - 1...\n",
      "Day No. - 4 and Medicine No. - 2...\n",
      "Day No. - 4 and Medicine No. - 3...\n",
      "Good Night...\n",
      "--------------------------------------------------\n",
      "Good Morning...\n",
      "Day No. - 5 and Medicine No. - 1...\n",
      "Day No. - 5 and Medicine No. - 2...\n",
      "Day No. - 5 and Medicine No. - 3...\n",
      "Good Night...\n",
      "--------------------------------------------------\n",
      "Total number of medicines consumed is - 15...\n",
      "Thanks to Doctor...\n"
     ]
    }
   ],
   "source": [
    "print (\"Visit Doctor...\")    # 1 time\n",
    "medicount = 0\n",
    "for day in range(1, 6):\n",
    "    print (\"Good Morning...\")    # 5 times\n",
    "    for medi in range(1, 4):\n",
    "        print (f\"Day No. - {day} and Medicine No. - {medi}...\")    # 15 times\n",
    "        medicount += 1\n",
    "    print (\"Good Night...\")    # 5 times\n",
    "    print (\"--------------------------------------------------\")    # 5 times\n",
    "print (f\"Total number of medicines consumed is - {medicount}...\")\n",
    "print (\"Thanks to Doctor...\")    # 1 time"
   ]
  },
  {
   "cell_type": "code",
   "execution_count": null,
   "id": "8a167b8d-1f74-4b8c-85ec-75c473b2dd38",
   "metadata": {},
   "outputs": [],
   "source": [
    "n = 11 (user given ODD integer)   m = (n + 1) // 2 = 6\n",
    "                 i    .    *\n",
    "               ---------------\n",
    ".....*           1    5    1        (i, m, n)\n",
    "....***          2    4    3   . => (m - i)\n",
    "...*****         3    3    5\n",
    "..*******        4    2    7   * => (2 * i - 1)\n",
    ".*********       5    1    9\n",
    "***********    __6____0___11__\n",
    ".*********       7    1    9\n",
    "..*******        8    2    7   . => (i - m)\n",
    "...*****         9    3    5\n",
    "....***         10    4    3   * => (2 * (n - i) + 1)\n",
    ".....*          11    5    1\n",
    "               ---------------"
   ]
  },
  {
   "cell_type": "code",
   "execution_count": 40,
   "id": "8c5b395c-6e9d-4451-8a05-a668bb188d54",
   "metadata": {},
   "outputs": [
    {
     "name": "stdin",
     "output_type": "stream",
     "text": [
      "Please enter the ODD number of layers: 12\n",
      "Please enter the ODD number of layers: 10\n",
      "Please enter the ODD number of layers: 20\n",
      "Please enter the ODD number of layers: 18\n",
      "Please enter the ODD number of layers: 11\n"
     ]
    },
    {
     "name": "stdout",
     "output_type": "stream",
     "text": [
      ".....*\n",
      "....***\n",
      "...*****\n",
      "..*******\n",
      ".*********\n",
      "***********\n",
      ".*********\n",
      "..*******\n",
      "...*****\n",
      "....***\n",
      ".....*\n",
      "End of the pattern print...\n"
     ]
    }
   ],
   "source": [
    "while (True):\n",
    "    n = int(input(\"Please enter the ODD number of layers:\"))\n",
    "    if (n % 2 == 1): break\n",
    "m = (n + 1) // 2\n",
    "for i in range(1, n + 1):\n",
    "    if (i > m): b = (i - m); s = (2 * (n - i) + 1)\n",
    "    else: b = (m - i); s = (2 * i - 1)\n",
    "    print (\".\" * b + \"*\" * s)\n",
    "print (\"End of the pattern print...\")"
   ]
  },
  {
   "cell_type": "code",
   "execution_count": 42,
   "id": "64543615-589a-451b-a660-8d6fdd3d6f63",
   "metadata": {},
   "outputs": [
    {
     "name": "stdin",
     "output_type": "stream",
     "text": [
      "Please enter the ODD number of layers: 12\n",
      "Please enter the ODD number of layers: 14\n",
      "Please enter the ODD number of layers: 16\n",
      "Please enter the ODD number of layers: 11\n"
     ]
    },
    {
     "name": "stdout",
     "output_type": "stream",
     "text": [
      ".....*\n",
      "....***\n",
      "...*****\n",
      "..*******\n",
      ".*********\n",
      "***********\n",
      ".*********\n",
      "..*******\n",
      "...*****\n",
      "....***\n",
      ".....*\n",
      "End of the pattern print...\n"
     ]
    }
   ],
   "source": [
    "while (True):\n",
    "    n = int(input(\"Please enter the ODD number of layers:\"))\n",
    "    if (n % 2 == 0):\n",
    "        pass    # statement place holder\n",
    "    else:\n",
    "        break\n",
    "m = (n + 1) // 2\n",
    "for i in range(1, n + 1):\n",
    "    if (i > m): b = (i - m); s = (2 * (n - i) + 1)\n",
    "    else: b = (m - i); s = (2 * i - 1)\n",
    "    print (\".\" * b + \"*\" * s)\n",
    "print (\"End of the pattern print...\")"
   ]
  },
  {
   "cell_type": "code",
   "execution_count": 43,
   "id": "605691b7-3c33-41c1-9f3e-75dc3318b1c9",
   "metadata": {},
   "outputs": [
    {
     "name": "stdin",
     "output_type": "stream",
     "text": [
      "Please enter the ODD number of layers: 12\n"
     ]
    },
    {
     "name": "stdout",
     "output_type": "stream",
     "text": [
      "Please enter ODD integer...\n"
     ]
    },
    {
     "name": "stdin",
     "output_type": "stream",
     "text": [
      "Please enter the ODD number of layers: 14\n"
     ]
    },
    {
     "name": "stdout",
     "output_type": "stream",
     "text": [
      "Please enter ODD integer...\n"
     ]
    },
    {
     "name": "stdin",
     "output_type": "stream",
     "text": [
      "Please enter the ODD number of layers: 20\n"
     ]
    },
    {
     "name": "stdout",
     "output_type": "stream",
     "text": [
      "Please enter ODD integer...\n"
     ]
    },
    {
     "name": "stdin",
     "output_type": "stream",
     "text": [
      "Please enter the ODD number of layers: 18\n"
     ]
    },
    {
     "name": "stdout",
     "output_type": "stream",
     "text": [
      "Please enter ODD integer...\n"
     ]
    },
    {
     "name": "stdin",
     "output_type": "stream",
     "text": [
      "Please enter the ODD number of layers: 11\n"
     ]
    },
    {
     "name": "stdout",
     "output_type": "stream",
     "text": [
      ".....*\n",
      "....***\n",
      "...*****\n",
      "..*******\n",
      ".*********\n",
      "***********\n",
      ".*********\n",
      "..*******\n",
      "...*****\n",
      "....***\n",
      ".....*\n",
      "End of the pattern print...\n"
     ]
    }
   ],
   "source": [
    "while (True):\n",
    "    n = int(input(\"Please enter the ODD number of layers:\"))\n",
    "    if (n % 2 == 0):\n",
    "        print (\"Please enter ODD integer...\")\n",
    "    else:\n",
    "        break\n",
    "m = (n + 1) // 2\n",
    "for i in range(1, n + 1):\n",
    "    if (i > m): b = (i - m); s = (2 * (n - i) + 1)\n",
    "    else: b = (m - i); s = (2 * i - 1)\n",
    "    print (\".\" * b + \"*\" * s)\n",
    "print (\"End of the pattern print...\")"
   ]
  },
  {
   "cell_type": "code",
   "execution_count": 45,
   "id": "435d290f-4833-4a0f-922f-6ccce0550685",
   "metadata": {},
   "outputs": [
    {
     "name": "stdout",
     "output_type": "stream",
     "text": [
      "Looping for the value of i = 0...\n",
      "Looping for the value of i = 1...\n",
      "Looping for the value of i = 2...\n",
      "Looping again with i = 3...\n",
      "Looping for the value of i = 4...\n",
      "Looping for the value of i = 5...\n",
      "Looping again with i = 6...\n",
      "Looping for the value of i = 7...\n",
      "Looping for the value of i = 8...\n",
      "Looping for the value of i = 9...\n",
      "Executing the ELSE block...\n",
      "End of the program...\n"
     ]
    }
   ],
   "source": [
    "for i in range(10):\n",
    "    if (i == 3 or i == 6):\n",
    "        print (f\"Looping again with i = {i}...\")\n",
    "        continue\n",
    "    print (f\"Looping for the value of i = {i}...\")\n",
    "else:\n",
    "    print (\"Executing the ELSE block...\")\n",
    "print (\"End of the program...\")"
   ]
  },
  {
   "cell_type": "code",
   "execution_count": null,
   "id": "460cad0e-129b-404c-8d6e-0935949d22f4",
   "metadata": {},
   "outputs": [],
   "source": []
  },
  {
   "cell_type": "code",
   "execution_count": null,
   "id": "cf4c12d8-372b-44a9-b2ac-46009390d905",
   "metadata": {},
   "outputs": [],
   "source": []
  },
  {
   "cell_type": "code",
   "execution_count": null,
   "id": "84d2b309-d1de-46d6-94a3-984de1f09147",
   "metadata": {},
   "outputs": [],
   "source": []
  },
  {
   "cell_type": "code",
   "execution_count": null,
   "id": "7ba7bee7-5857-472b-8a9a-e76399d9cca5",
   "metadata": {},
   "outputs": [],
   "source": []
  },
  {
   "cell_type": "code",
   "execution_count": null,
   "id": "f5e598ab-8fd5-45e6-9798-aa92442b3bf3",
   "metadata": {},
   "outputs": [],
   "source": []
  },
  {
   "cell_type": "code",
   "execution_count": null,
   "id": "85208076-56ba-45a3-af59-ef0e39133a85",
   "metadata": {},
   "outputs": [],
   "source": []
  },
  {
   "cell_type": "code",
   "execution_count": null,
   "id": "82d3b547-f52a-45d0-80d2-387f21623f3f",
   "metadata": {},
   "outputs": [],
   "source": []
  },
  {
   "cell_type": "code",
   "execution_count": null,
   "id": "13187b01-2b26-4476-8eaf-b4ab50e7a2c9",
   "metadata": {},
   "outputs": [],
   "source": []
  },
  {
   "cell_type": "code",
   "execution_count": null,
   "id": "142dffdd-d1bf-4111-84ca-570b02b7e827",
   "metadata": {},
   "outputs": [],
   "source": []
  },
  {
   "cell_type": "code",
   "execution_count": null,
   "id": "8429ae98-8519-4888-abdf-ecefc6b64c9b",
   "metadata": {},
   "outputs": [],
   "source": []
  },
  {
   "cell_type": "code",
   "execution_count": null,
   "id": "7173043a-d2f3-47ec-af0b-eb3e1db1f743",
   "metadata": {},
   "outputs": [],
   "source": []
  },
  {
   "cell_type": "code",
   "execution_count": null,
   "id": "3082dca2-2ecf-4bcf-8dd5-1cae0f4ee343",
   "metadata": {},
   "outputs": [],
   "source": []
  },
  {
   "cell_type": "code",
   "execution_count": null,
   "id": "309d2575-ed95-4868-a5f3-1b894a5a1e14",
   "metadata": {},
   "outputs": [],
   "source": []
  },
  {
   "cell_type": "code",
   "execution_count": null,
   "id": "82555cc2-edf7-4f0e-be0d-86da6b5d75f6",
   "metadata": {},
   "outputs": [],
   "source": []
  },
  {
   "cell_type": "code",
   "execution_count": null,
   "id": "e78a41db-bcaa-4332-81ee-41ed01d16ace",
   "metadata": {},
   "outputs": [],
   "source": []
  },
  {
   "cell_type": "code",
   "execution_count": null,
   "id": "6410f7bd-8229-4ea0-aab5-f20df29f68f1",
   "metadata": {},
   "outputs": [],
   "source": []
  },
  {
   "cell_type": "code",
   "execution_count": null,
   "id": "cf842af6-dcb2-428f-8a2f-71d56314b697",
   "metadata": {},
   "outputs": [],
   "source": []
  },
  {
   "cell_type": "code",
   "execution_count": null,
   "id": "5946dfcc-f738-40be-858c-80d644d2b50f",
   "metadata": {},
   "outputs": [],
   "source": []
  },
  {
   "cell_type": "code",
   "execution_count": null,
   "id": "3c541713-a24d-43d8-9830-1579ee6fa201",
   "metadata": {},
   "outputs": [],
   "source": []
  },
  {
   "cell_type": "code",
   "execution_count": null,
   "id": "e47e80e9-7a24-4a09-9a7b-6b355a9051d8",
   "metadata": {},
   "outputs": [],
   "source": []
  },
  {
   "cell_type": "code",
   "execution_count": null,
   "id": "290953f0-d71d-4268-80cd-5cce0cc8176a",
   "metadata": {},
   "outputs": [],
   "source": []
  },
  {
   "cell_type": "code",
   "execution_count": null,
   "id": "e057c429-e924-4c07-b05a-b85caa611ece",
   "metadata": {},
   "outputs": [],
   "source": []
  },
  {
   "cell_type": "code",
   "execution_count": null,
   "id": "81329992-1dc4-4dd7-a5f4-9001e04261a5",
   "metadata": {},
   "outputs": [],
   "source": []
  },
  {
   "cell_type": "code",
   "execution_count": null,
   "id": "066e755c-f47e-4c7c-94a3-c899bd6c0546",
   "metadata": {},
   "outputs": [],
   "source": []
  },
  {
   "cell_type": "code",
   "execution_count": null,
   "id": "3788b62b-79fd-41ce-a385-f781ee6df39a",
   "metadata": {},
   "outputs": [],
   "source": []
  },
  {
   "cell_type": "code",
   "execution_count": null,
   "id": "4460b9f7-7ba4-48a7-876d-21c77481e39c",
   "metadata": {},
   "outputs": [],
   "source": []
  },
  {
   "cell_type": "code",
   "execution_count": null,
   "id": "fc992226-f915-40ec-a63b-2ecd36a3391b",
   "metadata": {},
   "outputs": [],
   "source": []
  },
  {
   "cell_type": "code",
   "execution_count": null,
   "id": "fd602506-02cc-4c83-90d0-bda11ff1cfe1",
   "metadata": {},
   "outputs": [],
   "source": []
  }
 ],
 "metadata": {
  "kernelspec": {
   "display_name": "Python 3 (ipykernel)",
   "language": "python",
   "name": "python3"
  },
  "language_info": {
   "codemirror_mode": {
    "name": "ipython",
    "version": 3
   },
   "file_extension": ".py",
   "mimetype": "text/x-python",
   "name": "python",
   "nbconvert_exporter": "python",
   "pygments_lexer": "ipython3",
   "version": "3.10.9"
  }
 },
 "nbformat": 4,
 "nbformat_minor": 5
}
