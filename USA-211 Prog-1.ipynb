{
 "cells": [
  {
   "cell_type": "markdown",
   "id": "2196df4e-6451-48cb-8bf9-b3ec60cd2a8e",
   "metadata": {},
   "source": [
    "## **Inroduction to Python**"
   ]
  },
  {
   "cell_type": "markdown",
   "id": "2de5aa25-1d2b-404a-abd2-b2132ba49d7a",
   "metadata": {},
   "source": [
    "### Comment lines"
   ]
  },
  {
   "cell_type": "code",
   "execution_count": null,
   "id": "074e38fd-3f5e-4ab2-a412-6c2016a016e0",
   "metadata": {},
   "outputs": [],
   "source": [
    "# This is the first comment line\n",
    "# This is the second comment line\n",
    "# This is the third comment line"
   ]
  },
  {
   "cell_type": "markdown",
   "id": "fd76a3c1-9b09-40d6-8d5b-358e2e044c05",
   "metadata": {},
   "source": [
    "### Inputs and Outputs"
   ]
  },
  {
   "cell_type": "code",
   "execution_count": 3,
   "id": "98ac9fae-fe1a-401c-8598-0c3c1856bba4",
   "metadata": {},
   "outputs": [
    {
     "name": "stdin",
     "output_type": "stream",
     "text": [
      "Please enter the first number:  100\n",
      "Please enter the second number:  400\n"
     ]
    },
    {
     "name": "stdout",
     "output_type": "stream",
     "text": [
      "100 <class 'str'> 400 <class 'str'>\n",
      "So the result is 100400\n",
      "So the result is 500\n",
      "End of the program...\n"
     ]
    }
   ],
   "source": [
    "num1 = input(\"Please enter the first number: \")\n",
    "num2 = input(\"Please enter the second number: \")\n",
    "print (num1, type(num1), num2, type(num2))\n",
    "result = num1 + num2\n",
    "print (\"So the result is\", result)\n",
    "result = int(num1) + int(num2)\n",
    "print (\"So the result is\", result)\n",
    "print (\"End of the program...\")"
   ]
  },
  {
   "cell_type": "code",
   "execution_count": 4,
   "id": "680f1c51-877a-4a84-9c5c-097196f851b5",
   "metadata": {},
   "outputs": [
    {
     "name": "stdin",
     "output_type": "stream",
     "text": [
      "Please enter the first number:  100\n",
      "Please enter the second number:  400\n"
     ]
    },
    {
     "name": "stdout",
     "output_type": "stream",
     "text": [
      "100 <class 'int'> 400 <class 'int'>\n",
      "So the result is 500\n",
      "End of the program...\n"
     ]
    }
   ],
   "source": [
    "num1 = int(input(\"Please enter the first number: \"))\n",
    "num2 = int(input(\"Please enter the second number: \"))\n",
    "print (num1, type(num1), num2, type(num2))\n",
    "result = num1 + num2\n",
    "print (\"So the result is\", result)\n",
    "print (\"End of the program...\")"
   ]
  },
  {
   "cell_type": "code",
   "execution_count": 21,
   "id": "09ac7f8a-5dd5-44cc-9657-5b87b258a7e9",
   "metadata": {},
   "outputs": [
    {
     "name": "stdout",
     "output_type": "stream",
     "text": [
      "Here 100 + 400 = 500\n",
      "Here 100 + 400 = 500\n",
      "Here 100 + 400 = 500\n",
      "Here 100 + 400 = 500\n",
      "Here 100 + 400 = 500\n",
      "Here 100 + 400 = 500\n",
      "Here 100 + 400 = 500\n",
      "Here 100 + 400.000000 = 500\n",
      "Here 100 + 400.000000 = 500\n",
      "Here 100 +   400.00 = 500\n",
      "Here 100 + 400 = 500\n"
     ]
    }
   ],
   "source": [
    "print (\"Here\", num1, \"+\", num2, \"=\", result)\n",
    "print (\"Here \" + str(num1) + \" + \" + str(num2) + \" = \" + str(result))\n",
    "print (\"Here {0} + {1} = {2}\".format(num1, num2, result))  # {} is indexed variable placeholder\n",
    "print (\"Here {2} + {1} = {0}\".format(result, num2, num1))\n",
    "print (\"Here {fnum} + {snum} = {tot}\".format(fnum = num1, snum = num2, tot = result))  # {} is labeled variable placeholder\n",
    "print (\"Here {fnum} + {snum} = {tot}\".format(snum = num2, fnum = num1, tot = result))\n",
    "print (\"Here %d + %d = %d\"%(num1, num2, result))\n",
    "print (\"Here %d + %f = %d\"%(num1, num2, result))\n",
    "print (\"Here %d + %10.6f = %d\"%(num1, num2, result))\n",
    "print (\"Here %d + %8.2f = %d\"%(num1, num2, result))\n",
    "print (f\"Here {num1} + {num2} = {result}\")    # smart formatting"
   ]
  },
  {
   "cell_type": "markdown",
   "id": "c525a400-4673-41a8-be93-94e3f893156f",
   "metadata": {},
   "source": [
    "### Operators"
   ]
  },
  {
   "cell_type": "code",
   "execution_count": 26,
   "id": "33dd596a-ffce-4d2e-9d79-7ba7ba0a56ad",
   "metadata": {},
   "outputs": [
    {
     "name": "stdout",
     "output_type": "stream",
     "text": [
      "140\n",
      "60\n",
      "4000\n",
      "2.5\n",
      "2\n",
      "20\n",
      "100000000\n"
     ]
    }
   ],
   "source": [
    "# Arithmetic Operators: + - * / // % **\n",
    "print(100 + 40)\n",
    "print (100 - 40)\n",
    "print (100 * 40)\n",
    "print (100 / 40)   # float division\n",
    "print (100 // 40)   # integer division\n",
    "print (100 % 40)   # modulus or mod division\n",
    "print (100 ** 4)   # exponentiation"
   ]
  },
  {
   "cell_type": "code",
   "execution_count": 27,
   "id": "f608370a-7799-4fba-b738-34d6f89167c8",
   "metadata": {},
   "outputs": [
    {
     "name": "stdout",
     "output_type": "stream",
     "text": [
      "True True False\n"
     ]
    }
   ],
   "source": [
    "# Relational Operators: > >= < <= = !=\n",
    "print (100 >= 40, 100 == 100, 100 != 100)"
   ]
  },
  {
   "cell_type": "code",
   "execution_count": 30,
   "id": "ac89b261-8bb4-448d-be90-7395aef2d8fc",
   "metadata": {},
   "outputs": [
    {
     "name": "stdout",
     "output_type": "stream",
     "text": [
      "True False False False\n",
      "True False True True\n",
      "False True\n"
     ]
    }
   ],
   "source": [
    "# Logical Operators: and, or, not\n",
    "print (True and True, False and False, False and True, True and False)\n",
    "print (True or True, False or False, False or True, True or False)\n",
    "print (not True, not False)"
   ]
  },
  {
   "cell_type": "markdown",
   "id": "24ebe26e-a929-42dd-bd28-6f1676cf9649",
   "metadata": {},
   "source": [
    "### Conditional Statements"
   ]
  },
  {
   "cell_type": "code",
   "execution_count": 35,
   "id": "36d093a0-a92e-441d-a368-0a6abfb9ed8c",
   "metadata": {},
   "outputs": [
    {
     "name": "stdin",
     "output_type": "stream",
     "text": [
      "Please enter the first number:  300\n",
      "Please enter the second number:  10\n",
      "Please enter the third number:  200\n"
     ]
    },
    {
     "name": "stdout",
     "output_type": "stream",
     "text": [
      "The maximum number is the first number = 300\n"
     ]
    }
   ],
   "source": [
    "# take three numbers from the user as inputs and print the maximum of them\n",
    "num1 = int(input(\"Please enter the first number: \"))\n",
    "num2 = int(input(\"Please enter the second number: \"))\n",
    "num3 = int(input(\"Please enter the third number: \"))\n",
    "if (num1 > num2):\n",
    "    if (num1 > num3):\n",
    "        print (\"The maximum number is the first number =\", num1)\n",
    "    else:\n",
    "        print (\"The maximum number is the third number =\", num3)\n",
    "elif (num2 > num3):\n",
    "    print (\"The maximum number is the second number =\", num2)\n",
    "else:\n",
    "    print (\"The maximum number is the third number =\", num3)"
   ]
  },
  {
   "cell_type": "code",
   "execution_count": null,
   "id": "ec325069-3059-417b-b462-739ba5667b83",
   "metadata": {},
   "outputs": [],
   "source": [
    "# take three numbers from the user as inputs and print the maximum of them\n",
    "num1 = int(input(\"Please enter the first number: \"))\n",
    "num2 = int(input(\"Please enter the second number: \"))\n",
    "num3 = int(input(\"Please enter the third number: \"))\n",
    "if (num1 > num2 and num1 > num3):\n",
    "    print (\"The maximum number is the first number =\", num1)\n",
    "elif (num2 > num3):\n",
    "    print (\"The maximum number is the second number =\", num2)\n",
    "else:\n",
    "    print (\"The maximum number is the third number =\", num3)"
   ]
  },
  {
   "cell_type": "markdown",
   "id": "8ba8afdb-3650-4481-9580-ca41275ea3b5",
   "metadata": {},
   "source": [
    "### Python Loops"
   ]
  },
  {
   "cell_type": "code",
   "execution_count": 2,
   "id": "4ba74c67-d43a-48b7-a625-f3a03456f481",
   "metadata": {},
   "outputs": [
    {
     "name": "stdout",
     "output_type": "stream",
     "text": [
      "Looping with i = 0...\n",
      "Looping with i = 1...\n",
      "Looping with i = 2...\n",
      "Looping with i = 3...\n",
      "Looping with i = 4...\n",
      "Looping with i = 5...\n",
      "Looping with i = 6...\n",
      "Looping with i = 7...\n",
      "Looping with i = 8...\n",
      "Looping with i = 9...\n",
      "End of the program...\n"
     ]
    }
   ],
   "source": [
    "for i in range(10):\n",
    "    print (f\"Looping with i = {i}...\")\n",
    "print (\"End of the program...\")"
   ]
  },
  {
   "cell_type": "code",
   "execution_count": 3,
   "id": "1259afa9-e739-41ef-be1c-9710466ecbf3",
   "metadata": {},
   "outputs": [
    {
     "name": "stdout",
     "output_type": "stream",
     "text": [
      "Looping with i = 0...\n",
      "Looping with i = 1...\n",
      "Looping with i = 2...\n",
      "Looping with i = 3...\n",
      "Looping with i = 4...\n",
      "Looping with i = 5...\n",
      "Looping with i = 6...\n",
      "Looping with i = 7...\n",
      "Looping with i = 8...\n",
      "Looping with i = 9...\n",
      "End of the program...\n"
     ]
    }
   ],
   "source": [
    "for i in range(0, 10):\n",
    "    print (f\"Looping with i = {i}...\")\n",
    "print (\"End of the program...\")"
   ]
  },
  {
   "cell_type": "code",
   "execution_count": 4,
   "id": "075a98ad-01d8-4110-bfb9-95213b1d0ff9",
   "metadata": {},
   "outputs": [
    {
     "name": "stdout",
     "output_type": "stream",
     "text": [
      "Looping with i = 0...\n",
      "Looping with i = 1...\n",
      "Looping with i = 2...\n",
      "Looping with i = 3...\n",
      "Looping with i = 4...\n",
      "Looping with i = 5...\n",
      "Looping with i = 6...\n",
      "Looping with i = 7...\n",
      "Looping with i = 8...\n",
      "Looping with i = 9...\n",
      "End of the program...\n"
     ]
    }
   ],
   "source": [
    "for i in range(0, 10, 1):\n",
    "    print (f\"Looping with i = {i}...\")\n",
    "print (\"End of the program...\")"
   ]
  },
  {
   "cell_type": "code",
   "execution_count": 5,
   "id": "35836602-7387-4f45-b32c-f64f22ede9a5",
   "metadata": {},
   "outputs": [
    {
     "name": "stdout",
     "output_type": "stream",
     "text": [
      "Looping with i = 0...\n",
      "Looping with i = 2...\n",
      "Looping with i = 4...\n",
      "Looping with i = 6...\n",
      "Looping with i = 8...\n",
      "End of the program...\n"
     ]
    }
   ],
   "source": [
    "for i in range(0, 10, 2):\n",
    "    print (f\"Looping with i = {i}...\")\n",
    "print (\"End of the program...\")"
   ]
  },
  {
   "cell_type": "code",
   "execution_count": 8,
   "id": "6b4e6b95-4d06-4b63-842e-4e9e5ad15206",
   "metadata": {},
   "outputs": [
    {
     "name": "stdout",
     "output_type": "stream",
     "text": [
      "Looping with i = 1...\n",
      "Looping with i = 3...\n",
      "Looping with i = 5...\n",
      "Looping with i = 7...\n",
      "Looping with i = 9...\n",
      "\n",
      "The loop executed for 5 number of times..\n",
      "End of the program...\n"
     ]
    }
   ],
   "source": [
    "count = 0\n",
    "for i in range(1, 10, 2):\n",
    "    print (f\"Looping with i = {i}...\")\n",
    "    count += 1\n",
    "print (f\"\\nThe loop executed for {count} number of times..\")\n",
    "print (\"End of the program...\")"
   ]
  },
  {
   "cell_type": "code",
   "execution_count": 12,
   "id": "c895c6e1-b2ff-495a-96dd-1780767ec518",
   "metadata": {},
   "outputs": [
    {
     "name": "stdout",
     "output_type": "stream",
     "text": [
      "Hello\n",
      "HelloHelloHelloHelloHello\n",
      "Hello Hello Hello Hello Hello \n",
      "Hello Hello Hello Hello Hello Hello Hello Hello Hello Hello \n"
     ]
    }
   ],
   "source": [
    "print (\"Hello\")\n",
    "print (\"Hello\" * 5)\n",
    "print (\"Hello \" * 5)\n",
    "print (\"Hello \" * 10)"
   ]
  },
  {
   "cell_type": "code",
   "execution_count": null,
   "id": "c0b82553-a4f2-4ec6-b491-5d85d7b31cd0",
   "metadata": {},
   "outputs": [],
   "source": [
    "n = 6 (user given integer)\n",
    "                 i    .    *\n",
    "               ---------------\n",
    ".....*           1    5    1        (i, n)\n",
    "....***          2    4    3   . => (n - i)\n",
    "...*****         3    3    5\n",
    "..*******        4    2    7   * => (2 * i - 1)\n",
    ".*********       5    1    9\n",
    "***********      6    0   11\n",
    "               ---------------"
   ]
  },
  {
   "cell_type": "code",
   "execution_count": 16,
   "id": "5474e603-5df6-478f-befc-6bc626b50e75",
   "metadata": {},
   "outputs": [
    {
     "name": "stdin",
     "output_type": "stream",
     "text": [
      "Please enter the number of layers: 6\n"
     ]
    },
    {
     "name": "stdout",
     "output_type": "stream",
     "text": [
      ".....*\n",
      "....***\n",
      "...*****\n",
      "..*******\n",
      ".*********\n",
      "***********\n",
      "End of the pattern print...\n"
     ]
    }
   ],
   "source": [
    "n = int(input(\"Please enter the number of layers:\"))\n",
    "for i in range(1, n + 1):\n",
    "    print (\".\" * (n - i) + \"*\" * (2 * i - 1))\n",
    "print (\"End of the pattern print...\")"
   ]
  },
  {
   "cell_type": "code",
   "execution_count": null,
   "id": "2fa0559c-5382-4665-802d-50236375ad3e",
   "metadata": {},
   "outputs": [],
   "source": [
    "n = 6 (user given integer)\n",
    "                 i    .    *\n",
    "               ---------------\n",
    "***********      1    0   11        (i, n)\n",
    ".*********       2    1    9   . => (i - 1)\n",
    "..*******        3    2    7\n",
    "...*****         4    3    5   * => (2 * (n - i) + 1)\n",
    "....***          5    4    3\n",
    ".....*           6    5    1\n",
    "               ---------------"
   ]
  },
  {
   "cell_type": "code",
   "execution_count": 21,
   "id": "fd1b00dd-65fc-497d-a877-b7bf59cbe4b5",
   "metadata": {},
   "outputs": [
    {
     "name": "stdin",
     "output_type": "stream",
     "text": [
      "Please enter the number of layers: 6\n"
     ]
    },
    {
     "name": "stdout",
     "output_type": "stream",
     "text": [
      "***********\n",
      ".*********\n",
      "..*******\n",
      "...*****\n",
      "....***\n",
      ".....*\n",
      "End of the pattern print...\n"
     ]
    }
   ],
   "source": [
    "n = int(input(\"Please enter the number of layers:\"))\n",
    "for i in range(1, n + 1):\n",
    "    print (\".\" * (i - 1) + \"*\" * (2 * (n - i) + 1))\n",
    "print (\"End of the pattern print...\")"
   ]
  },
  {
   "cell_type": "code",
   "execution_count": 23,
   "id": "a14f250b-6a7e-45a6-bbe8-8bb19cb8e31d",
   "metadata": {},
   "outputs": [
    {
     "name": "stdout",
     "output_type": "stream",
     "text": [
      "Looping for i = 0...\n",
      "Looping for i = 1...\n",
      "Looping for i = 2...\n",
      "Looping for i = 3...\n",
      "Looping for i = 4...\n",
      "Looping for i = 5...\n",
      "Looping for i = 6...\n",
      "Looping for i = 7...\n",
      "Executing the else block...\n",
      "End of the program...\n"
     ]
    }
   ],
   "source": [
    "for i in range(8):\n",
    "    print (f\"Looping for i = {i}...\")\n",
    "else:\n",
    "    print (\"Executing the else block...\")\n",
    "print (\"End of the program...\")"
   ]
  },
  {
   "cell_type": "code",
   "execution_count": 27,
   "id": "6b4de96d-bde8-46ec-8bf3-c4cef7970264",
   "metadata": {},
   "outputs": [
    {
     "name": "stdout",
     "output_type": "stream",
     "text": [
      "Looping for i = 0...\n",
      "Looping for i = 1...\n",
      "Looping for i = 2...\n",
      "Looping for i = 3...\n",
      "Looping for i = 4...\n",
      "Looping for i = 5...\n",
      "Looping for i = 6...\n",
      "Looping for i = 7...\n",
      "Executing the else block...\n",
      "End of the program...\n"
     ]
    }
   ],
   "source": [
    "for i in range(8):\n",
    "    print (f\"Looping for i = {i}...\")\n",
    "    if (i == 80): break\n",
    "else:\n",
    "    print (\"Executing the else block...\")\n",
    "print (\"End of the program...\")"
   ]
  },
  {
   "cell_type": "code",
   "execution_count": 31,
   "id": "89c8bd27-4453-40a1-a25c-69934e198cef",
   "metadata": {},
   "outputs": [
    {
     "name": "stdin",
     "output_type": "stream",
     "text": [
      "Please enter one integer: 15\n"
     ]
    },
    {
     "name": "stdout",
     "output_type": "stream",
     "text": [
      "15 is not a Prime Number...\n",
      "End of the program...\n"
     ]
    }
   ],
   "source": [
    "# prime number check\n",
    "num = int(input(\"Please enter one integer:\"))\n",
    "for i in range(2, num):\n",
    "    if (num % i == 0):\n",
    "        print (f\"{num} is not a Prime Number...\")\n",
    "        break\n",
    "else:\n",
    "    print (f\"{num} is a Prime Number...\")\n",
    "print (\"End of the program...\")"
   ]
  },
  {
   "cell_type": "code",
   "execution_count": 33,
   "id": "4c593f53-2d35-4e39-a9bb-1ce0c81f9aef",
   "metadata": {},
   "outputs": [
    {
     "name": "stdin",
     "output_type": "stream",
     "text": [
      "Please enter one integer: 100\n"
     ]
    },
    {
     "name": "stdout",
     "output_type": "stream",
     "text": [
      "100 is not a Prime Number...\n",
      "End of the program...\n"
     ]
    }
   ],
   "source": [
    "# prime number check\n",
    "num = int(input(\"Please enter one integer:\"))\n",
    "i = 2\n",
    "while (i <= (num - 1)):\n",
    "    if (num % i == 0):\n",
    "        print (f\"{num} is not a Prime Number...\")\n",
    "        break\n",
    "    i = i + 1\n",
    "else:\n",
    "    print (f\"{num} is a Prime Number...\")\n",
    "print (\"End of the program...\")"
   ]
  },
  {
   "cell_type": "code",
   "execution_count": 36,
   "id": "66ce5418-8deb-43e5-971d-e06760a9ee07",
   "metadata": {},
   "outputs": [
    {
     "name": "stdout",
     "output_type": "stream",
     "text": [
      "Visit Doctor...\n",
      "Good Morning...\n",
      "Day No. - 1 and Medicine No. - 1...\n",
      "Day No. - 1 and Medicine No. - 2...\n",
      "Day No. - 1 and Medicine No. - 3...\n",
      "Good Night...\n",
      "--------------------------------------------------\n",
      "Good Morning...\n",
      "Day No. - 2 and Medicine No. - 1...\n",
      "Day No. - 2 and Medicine No. - 2...\n",
      "Day No. - 2 and Medicine No. - 3...\n",
      "Good Night...\n",
      "--------------------------------------------------\n",
      "Good Morning...\n",
      "Day No. - 3 and Medicine No. - 1...\n",
      "Day No. - 3 and Medicine No. - 2...\n",
      "Day No. - 3 and Medicine No. - 3...\n",
      "Good Night...\n",
      "--------------------------------------------------\n",
      "Good Morning...\n",
      "Day No. - 4 and Medicine No. - 1...\n",
      "Day No. - 4 and Medicine No. - 2...\n",
      "Day No. - 4 and Medicine No. - 3...\n",
      "Good Night...\n",
      "--------------------------------------------------\n",
      "Good Morning...\n",
      "Day No. - 5 and Medicine No. - 1...\n",
      "Day No. - 5 and Medicine No. - 2...\n",
      "Day No. - 5 and Medicine No. - 3...\n",
      "Good Night...\n",
      "--------------------------------------------------\n",
      "Total number of medicines consumed is - 15...\n",
      "Thanks to Doctor...\n"
     ]
    }
   ],
   "source": [
    "print (\"Visit Doctor...\")    # 1 time\n",
    "medicount = 0\n",
    "for day in range(1, 6):\n",
    "    print (\"Good Morning...\")    # 5 times\n",
    "    for medi in range(1, 4):\n",
    "        print (f\"Day No. - {day} and Medicine No. - {medi}...\")    # 15 times\n",
    "        medicount += 1\n",
    "    print (\"Good Night...\")    # 5 times\n",
    "    print (\"--------------------------------------------------\")    # 5 times\n",
    "print (f\"Total number of medicines consumed is - {medicount}...\")\n",
    "print (\"Thanks to Doctor...\")    # 1 time"
   ]
  },
  {
   "cell_type": "code",
   "execution_count": null,
   "id": "8a167b8d-1f74-4b8c-85ec-75c473b2dd38",
   "metadata": {},
   "outputs": [],
   "source": [
    "n = 11 (user given ODD integer)   m = (n + 1) // 2 = 6\n",
    "                 i    .    *\n",
    "               ---------------\n",
    ".....*           1    5    1        (i, m, n)\n",
    "....***          2    4    3   . => (m - i)\n",
    "...*****         3    3    5\n",
    "..*******        4    2    7   * => (2 * i - 1)\n",
    ".*********       5    1    9\n",
    "***********    __6____0___11__\n",
    ".*********       7    1    9\n",
    "..*******        8    2    7   . => (i - m)\n",
    "...*****         9    3    5\n",
    "....***         10    4    3   * => (2 * (n - i) + 1)\n",
    ".....*          11    5    1\n",
    "               ---------------"
   ]
  },
  {
   "cell_type": "code",
   "execution_count": 40,
   "id": "8c5b395c-6e9d-4451-8a05-a668bb188d54",
   "metadata": {},
   "outputs": [
    {
     "name": "stdin",
     "output_type": "stream",
     "text": [
      "Please enter the ODD number of layers: 12\n",
      "Please enter the ODD number of layers: 10\n",
      "Please enter the ODD number of layers: 20\n",
      "Please enter the ODD number of layers: 18\n",
      "Please enter the ODD number of layers: 11\n"
     ]
    },
    {
     "name": "stdout",
     "output_type": "stream",
     "text": [
      ".....*\n",
      "....***\n",
      "...*****\n",
      "..*******\n",
      ".*********\n",
      "***********\n",
      ".*********\n",
      "..*******\n",
      "...*****\n",
      "....***\n",
      ".....*\n",
      "End of the pattern print...\n"
     ]
    }
   ],
   "source": [
    "while (True):\n",
    "    n = int(input(\"Please enter the ODD number of layers:\"))\n",
    "    if (n % 2 == 1): break\n",
    "m = (n + 1) // 2\n",
    "for i in range(1, n + 1):\n",
    "    if (i > m): b = (i - m); s = (2 * (n - i) + 1)\n",
    "    else: b = (m - i); s = (2 * i - 1)\n",
    "    print (\".\" * b + \"*\" * s)\n",
    "print (\"End of the pattern print...\")"
   ]
  },
  {
   "cell_type": "code",
   "execution_count": 42,
   "id": "64543615-589a-451b-a660-8d6fdd3d6f63",
   "metadata": {},
   "outputs": [
    {
     "name": "stdin",
     "output_type": "stream",
     "text": [
      "Please enter the ODD number of layers: 12\n",
      "Please enter the ODD number of layers: 14\n",
      "Please enter the ODD number of layers: 16\n",
      "Please enter the ODD number of layers: 11\n"
     ]
    },
    {
     "name": "stdout",
     "output_type": "stream",
     "text": [
      ".....*\n",
      "....***\n",
      "...*****\n",
      "..*******\n",
      ".*********\n",
      "***********\n",
      ".*********\n",
      "..*******\n",
      "...*****\n",
      "....***\n",
      ".....*\n",
      "End of the pattern print...\n"
     ]
    }
   ],
   "source": [
    "while (True):\n",
    "    n = int(input(\"Please enter the ODD number of layers:\"))\n",
    "    if (n % 2 == 0):\n",
    "        pass    # statement place holder\n",
    "    else:\n",
    "        break\n",
    "m = (n + 1) // 2\n",
    "for i in range(1, n + 1):\n",
    "    if (i > m): b = (i - m); s = (2 * (n - i) + 1)\n",
    "    else: b = (m - i); s = (2 * i - 1)\n",
    "    print (\".\" * b + \"*\" * s)\n",
    "print (\"End of the pattern print...\")"
   ]
  },
  {
   "cell_type": "code",
   "execution_count": 43,
   "id": "605691b7-3c33-41c1-9f3e-75dc3318b1c9",
   "metadata": {},
   "outputs": [
    {
     "name": "stdin",
     "output_type": "stream",
     "text": [
      "Please enter the ODD number of layers: 12\n"
     ]
    },
    {
     "name": "stdout",
     "output_type": "stream",
     "text": [
      "Please enter ODD integer...\n"
     ]
    },
    {
     "name": "stdin",
     "output_type": "stream",
     "text": [
      "Please enter the ODD number of layers: 14\n"
     ]
    },
    {
     "name": "stdout",
     "output_type": "stream",
     "text": [
      "Please enter ODD integer...\n"
     ]
    },
    {
     "name": "stdin",
     "output_type": "stream",
     "text": [
      "Please enter the ODD number of layers: 20\n"
     ]
    },
    {
     "name": "stdout",
     "output_type": "stream",
     "text": [
      "Please enter ODD integer...\n"
     ]
    },
    {
     "name": "stdin",
     "output_type": "stream",
     "text": [
      "Please enter the ODD number of layers: 18\n"
     ]
    },
    {
     "name": "stdout",
     "output_type": "stream",
     "text": [
      "Please enter ODD integer...\n"
     ]
    },
    {
     "name": "stdin",
     "output_type": "stream",
     "text": [
      "Please enter the ODD number of layers: 11\n"
     ]
    },
    {
     "name": "stdout",
     "output_type": "stream",
     "text": [
      ".....*\n",
      "....***\n",
      "...*****\n",
      "..*******\n",
      ".*********\n",
      "***********\n",
      ".*********\n",
      "..*******\n",
      "...*****\n",
      "....***\n",
      ".....*\n",
      "End of the pattern print...\n"
     ]
    }
   ],
   "source": [
    "while (True):\n",
    "    n = int(input(\"Please enter the ODD number of layers:\"))\n",
    "    if (n % 2 == 0):\n",
    "        print (\"Please enter ODD integer...\")\n",
    "    else:\n",
    "        break\n",
    "m = (n + 1) // 2\n",
    "for i in range(1, n + 1):\n",
    "    if (i > m): b = (i - m); s = (2 * (n - i) + 1)\n",
    "    else: b = (m - i); s = (2 * i - 1)\n",
    "    print (\".\" * b + \"*\" * s)\n",
    "print (\"End of the pattern print...\")"
   ]
  },
  {
   "cell_type": "code",
   "execution_count": 45,
   "id": "435d290f-4833-4a0f-922f-6ccce0550685",
   "metadata": {},
   "outputs": [
    {
     "name": "stdout",
     "output_type": "stream",
     "text": [
      "Looping for the value of i = 0...\n",
      "Looping for the value of i = 1...\n",
      "Looping for the value of i = 2...\n",
      "Looping again with i = 3...\n",
      "Looping for the value of i = 4...\n",
      "Looping for the value of i = 5...\n",
      "Looping again with i = 6...\n",
      "Looping for the value of i = 7...\n",
      "Looping for the value of i = 8...\n",
      "Looping for the value of i = 9...\n",
      "Executing the ELSE block...\n",
      "End of the program...\n"
     ]
    }
   ],
   "source": [
    "for i in range(10):\n",
    "    if (i == 3 or i == 6):\n",
    "        print (f\"Looping again with i = {i}...\")\n",
    "        continue\n",
    "    print (f\"Looping for the value of i = {i}...\")\n",
    "else:\n",
    "    print (\"Executing the ELSE block...\")\n",
    "print (\"End of the program...\")"
   ]
  },
  {
   "cell_type": "markdown",
   "id": "0f0ebbf6-633d-422d-b03b-d50007f4d690",
   "metadata": {},
   "source": [
    "## User Defined Functions (UDF)"
   ]
  },
  {
   "cell_type": "code",
   "execution_count": 2,
   "id": "cf4c12d8-372b-44a9-b2ac-46009390d905",
   "metadata": {},
   "outputs": [
    {
     "name": "stdout",
     "output_type": "stream",
     "text": [
      "Welcome Welcome Welcome Welcome \n",
      "Welcome Welcome Welcome Welcome \n",
      "Welcome Welcome Welcome Welcome \n"
     ]
    }
   ],
   "source": [
    "def funct1():\n",
    "    print (\"Welcome \" * 4)\n",
    "    \n",
    "funct1()\n",
    "funct1()\n",
    "funct1()"
   ]
  },
  {
   "cell_type": "code",
   "execution_count": 4,
   "id": "84d2b309-d1de-46d6-94a3-984de1f09147",
   "metadata": {},
   "outputs": [
    {
     "name": "stdout",
     "output_type": "stream",
     "text": [
      "Welcome Welcome Welcome \n",
      "Hello Hello Hello Hello Hello \n",
      "Hi!!! Hi!!! Hi!!! Hi!!! Hi!!! Hi!!! Hi!!! \n"
     ]
    }
   ],
   "source": [
    "def funct2(msg, times):   # these are positional parameters\n",
    "    print (msg * times)\n",
    "    \n",
    "funct2(\"Welcome \", 3)   # these are positional arguments\n",
    "funct2(\"Hello \", 5)\n",
    "funct2(\"Hi!!! \", 7)"
   ]
  },
  {
   "cell_type": "code",
   "execution_count": 8,
   "id": "7ba7bee7-5857-472b-8a9a-e76399d9cca5",
   "metadata": {},
   "outputs": [
    {
     "name": "stdout",
     "output_type": "stream",
     "text": [
      "Welcome Welcome Welcome Welcome Welcome Welcome Welcome Welcome Welcome Welcome \n",
      "Hello Hello Hello Hello Hello \n",
      "Good Morning... Good Morning... Good Morning... Good Morning... Good Morning... Good Morning... \n",
      "Good Morning... \n"
     ]
    }
   ],
   "source": [
    "def funct3(msg, times):\n",
    "    return msg * times\n",
    "\n",
    "result = funct3(\"Welcome \", 10)\n",
    "print (result)\n",
    "result = funct3(\"Hello \", 5)\n",
    "print (result)\n",
    "print (funct3(\"Good Morning... \", 6))\n",
    "print (funct3(\"Good Morning... \", 1))"
   ]
  },
  {
   "cell_type": "code",
   "execution_count": 19,
   "id": "f5e598ab-8fd5-45e6-9798-aa92442b3bf3",
   "metadata": {},
   "outputs": [
    {
     "name": "stdout",
     "output_type": "stream",
     "text": [
      "Par1 = 100, Par2 = 200 and Par3 = 300...\n",
      "Par1 = 100, Par2 = 200 and Par3 = 300...\n",
      "Par1 = 100, Par2 = 200 and Par3 = 333...\n",
      "Par1 = 100, Par2 = 222 and Par3 = 333...\n",
      "Par1 = 111, Par2 = 222 and Par3 = 333...\n",
      "Par1 = 100, Par2 = 222 and Par3 = 300...\n",
      "Par1 = 100, Par2 = 222 and Par3 = 300...\n"
     ]
    }
   ],
   "source": [
    "# user defined functions with default arguments\n",
    "def funct4(par1 = 111, par2 = 222, par3 = 333):\n",
    "    print (f\"Par1 = {par1}, Par2 = {par2} and Par3 = {par3}...\")\n",
    "    \n",
    "funct4(100, 200, 300)\n",
    "funct4(par3 = 300, par1 = 100, par2 = 200)\n",
    "funct4(100, 200)\n",
    "funct4(100)\n",
    "funct4()\n",
    "funct4(par3= 300, par1 = 100)\n",
    "funct4(par1= 100, par3 = 300)"
   ]
  },
  {
   "cell_type": "code",
   "execution_count": 20,
   "id": "85208076-56ba-45a3-af59-ef0e39133a85",
   "metadata": {},
   "outputs": [
    {
     "name": "stdout",
     "output_type": "stream",
     "text": [
      "1200\n",
      "700\n"
     ]
    }
   ],
   "source": [
    "def funct5(num1, num2 = None):\n",
    "    if (num2 == None):\n",
    "        return num1 + num1\n",
    "    else:\n",
    "        return num1 + num2\n",
    "    \n",
    "print (funct5(600))\n",
    "print (funct5(600, 100))"
   ]
  },
  {
   "cell_type": "code",
   "execution_count": 23,
   "id": "82d3b547-f52a-45d0-80d2-387f21623f3f",
   "metadata": {},
   "outputs": [
    {
     "name": "stdout",
     "output_type": "stream",
     "text": [
      "Total = 140, Difference = 60, Product = 4000 and Quotient = 2.5...\n",
      "(140, 60, 4000, 2.5) <class 'tuple'> 4 2125040434640\n",
      "Total = 140, Difference = 60, Product = 4000 and Quotient = 2.5...\n"
     ]
    }
   ],
   "source": [
    "def funct6(num1, num2):\n",
    "    total = num1 + num2\n",
    "    difference = num1 - num2\n",
    "    product = num1 * num2\n",
    "    quotient = num1 / num2\n",
    "    return total, difference, product, quotient\n",
    "\n",
    "tt, dd, pp, qq = funct6(100, 40)\n",
    "print (f\"Total = {tt}, Difference = {dd}, Product = {pp} and Quotient = {qq}...\")\n",
    "result = funct6(100, 40)\n",
    "print (result, type(result), len(result), id(result))\n",
    "print (f\"Total = {result[0]}, Difference = {result[1]}, Product = {result[2]} and Quotient = {result[3]}...\")"
   ]
  },
  {
   "cell_type": "code",
   "execution_count": 28,
   "id": "13187b01-2b26-4476-8eaf-b4ab50e7a2c9",
   "metadata": {},
   "outputs": [
    {
     "name": "stdout",
     "output_type": "stream",
     "text": [
      "[11, 'Amit', True, 45000.0] <class 'list'> 4\n",
      "(11, 'Amit', True, 45000.0) <class 'tuple'> 4\n",
      "{'empid': 11, 'name': 'Amit', 'married': True, 'salary': 45000.0} <class 'dict'> 4\n",
      "{'Amit', True, 11, 45000.0} <class 'set'> 4\n"
     ]
    }
   ],
   "source": [
    "# inbuilt collection types\n",
    "collection1 = [11, \"Amit\", True, 45000.00]\n",
    "print (collection1, type(collection1), len(collection1))\n",
    "collection1 = (11, \"Amit\", True, 45000.00)\n",
    "print (collection1, type(collection1), len(collection1))\n",
    "collection1 = {\"empid\":11, \"name\":\"Amit\", \"married\":True, \"salary\":45000.00}\n",
    "print (collection1, type(collection1), len(collection1))\n",
    "collection1 = {11, \"Amit\", True, 45000.00, \"Amit\", True, 45000.00, \"Amit\", True, 45000.00, 11, 11}\n",
    "print (collection1, type(collection1), len(collection1))"
   ]
  },
  {
   "cell_type": "code",
   "execution_count": 31,
   "id": "142dffdd-d1bf-4111-84ca-570b02b7e827",
   "metadata": {},
   "outputs": [
    {
     "name": "stdout",
     "output_type": "stream",
     "text": [
      "('Amitava', 34) <class 'tuple'> 2 2125053670528\n",
      "('Amitava', 34, 'Male', 'Developer') <class 'tuple'> 4 2125040280304\n",
      "('Amitava', 34, 'Male', 'Developer', 'IBM', 'Texas') <class 'tuple'> 6 2125045829632\n"
     ]
    }
   ],
   "source": [
    "# function with variable number of arguments\n",
    "def funct7(*arg):  # *arg => forcefully defining the variable as tuple type\n",
    "    print (arg, type(arg), len(arg), id(arg))\n",
    "    \n",
    "funct7 (\"Amitava\", 34)\n",
    "funct7 (\"Amitava\", 34, \"Male\", \"Developer\")\n",
    "funct7 (\"Amitava\", 34, \"Male\", \"Developer\", \"IBM\", \"Texas\")"
   ]
  },
  {
   "cell_type": "code",
   "execution_count": 30,
   "id": "8429ae98-8519-4888-abdf-ecefc6b64c9b",
   "metadata": {},
   "outputs": [
    {
     "name": "stdout",
     "output_type": "stream",
     "text": [
      "{'Name': 'Amitava', 'age': 34} <class 'dict'> 2 2125044400704\n",
      "{'Name': 'Amitava', 'age': 34, 'gender': 'Male', 'job': 'Developer'} <class 'dict'> 4 2125044658816\n",
      "{'Name': 'Amitava', 'age': 34, 'gender': 'Male', 'job': 'Developer', 'company': 'IBM', 'location': 'Texas'} <class 'dict'> 6 2125045630080\n"
     ]
    }
   ],
   "source": [
    "def funct8(**kwarg):  # **kwarg => forcefully defining the variable as dictionary type\n",
    "    print (kwarg, type(kwarg), len(kwarg), id(kwarg))\n",
    "    \n",
    "funct8 (Name = \"Amitava\", age = 34)\n",
    "funct8 (Name = \"Amitava\", age = 34, gender = \"Male\", job = \"Developer\")\n",
    "funct8 (Name = \"Amitava\", age = 34, gender = \"Male\", job = \"Developer\", company = \"IBM\", location = \"Texas\")"
   ]
  },
  {
   "cell_type": "code",
   "execution_count": 33,
   "id": "7173043a-d2f3-47ec-af0b-eb3e1db1f743",
   "metadata": {},
   "outputs": [
    {
     "name": "stdout",
     "output_type": "stream",
     "text": [
      "('Amitava', 34, 'Male') <class 'tuple'> 3 2125046099904\n",
      "{'job': 'Developer', 'company': 'IBM', 'location': 'Texas'} <class 'dict'> 3 2125045637568\n",
      "\n",
      "('Amitava', 34, 'Male') <class 'tuple'> 3 2125043572672\n",
      "{} <class 'dict'> 0 2125032020288\n",
      "\n",
      "() <class 'tuple'> 0 2124924469360\n",
      "{'job': 'Developer', 'company': 'IBM', 'location': 'Texas'} <class 'dict'> 3 2125045629248\n"
     ]
    }
   ],
   "source": [
    "def funct9(*arg, **kwarg):\n",
    "    print (arg, type(arg), len(arg), id(arg))\n",
    "    print (kwarg, type(kwarg), len(kwarg), id(kwarg))\n",
    "    \n",
    "funct9 (\"Amitava\", 34, \"Male\", job = \"Developer\", company = \"IBM\", location = \"Texas\")\n",
    "print ()\n",
    "funct9 (\"Amitava\", 34, \"Male\")\n",
    "print ()\n",
    "funct9 (job = \"Developer\", company = \"IBM\", location = \"Texas\")"
   ]
  },
  {
   "cell_type": "code",
   "execution_count": 34,
   "id": "3082dca2-2ecf-4bcf-8dd5-1cae0f4ee343",
   "metadata": {},
   "outputs": [
    {
     "name": "stdout",
     "output_type": "stream",
     "text": [
      "120\n",
      "720\n"
     ]
    }
   ],
   "source": [
    "# non-recursive factorial calculation user defined function\n",
    "# 5! = 1 * 2 * 3 * 4 * 5 = 5 * 4 * 3 * 2 * 1 = 120\n",
    "def factorial_nr(num):\n",
    "    if (num == 0 or num == 1): return 1\n",
    "    fact = 1\n",
    "    for i in range(1, num + 1):\n",
    "        fact = fact * i\n",
    "    return fact\n",
    "\n",
    "print (factorial_nr(5))\n",
    "print (factorial_nr(6))"
   ]
  },
  {
   "cell_type": "code",
   "execution_count": 35,
   "id": "309d2575-ed95-4868-a5f3-1b894a5a1e14",
   "metadata": {},
   "outputs": [
    {
     "name": "stdout",
     "output_type": "stream",
     "text": [
      "120\n",
      "720\n"
     ]
    }
   ],
   "source": [
    "# recursive factorial calculation user defined function\n",
    "# 5! = 1 * 2 * 3 * 4 * 5 = 5 * 4 * 3 * 2 * 1 = 120 = 5 * 4! => n! = n * (n - 1)!\n",
    "def factorial_r(num):\n",
    "    if (num == 0 or num == 1): return 1   # base case, for some inputs, outputs are pre-known to us\n",
    "    return num * factorial_r(num - 1)     # recursive case, that means the function will call itself\n",
    "\n",
    "print (factorial_r(5))\n",
    "print (factorial_r(6))"
   ]
  },
  {
   "cell_type": "code",
   "execution_count": null,
   "id": "82555cc2-edf7-4f0e-be0d-86da6b5d75f6",
   "metadata": {},
   "outputs": [],
   "source": [
    "5! = 5 * 4!\n",
    "         4 * 3!\n",
    "             3 * 2!\n",
    "                 2 * 1!\n",
    "                     1\n",
    "                 2\n",
    "             6\n",
    "         24\n",
    "     120"
   ]
  },
  {
   "cell_type": "code",
   "execution_count": 37,
   "id": "e78a41db-bcaa-4332-81ee-41ed01d16ace",
   "metadata": {},
   "outputs": [
    {
     "name": "stdout",
     "output_type": "stream",
     "text": [
      "So 100 is Even number...\n",
      "So 103 is Odd number...\n"
     ]
    }
   ],
   "source": [
    "num = 100\n",
    "result = \"Even\" if (num % 2 == 0) else \"Odd\"   # ternary operator\n",
    "print (f\"So {num} is {result} number...\")\n",
    "\n",
    "num = 103\n",
    "result = \"Even\" if (num % 2 == 0) else \"Odd\"\n",
    "print (f\"So {num} is {result} number...\")"
   ]
  },
  {
   "cell_type": "markdown",
   "id": "2d06fca1-2180-4604-a211-f3a521b70636",
   "metadata": {},
   "source": [
    "#### Lambda Function\n",
    "> In Python programming, a lambda function is a small anonymous function that can have any number of arguments, but can only have one expression. The expression is evaluated and returned as the function result. Lambda functions are commonly used in combination with higher-order functions such as map(), filter(), and reduce().\n",
    "\n",
    "Some of the properties of lambda functions in Python programming include:\n",
    "* **Anonymous:** Lambda functions are anonymous, meaning they do not have a name like regular functions. They are defined using the keyword \"lambda\" followed by the arguments and the expression.\n",
    "* **Single Expression:** A lambda function can only contain a single expression that is evaluated and returned as the function result. This means that it cannot contain multiple statements or control flow structures.\n",
    "* **Concise:** Lambda functions are concise and can be defined in a single line of code. This makes them useful for defining simple functions on-the-fly.\n",
    "* **Immutable:** Lambda functions are immutable, meaning they cannot be modified once defined. This means that you cannot change the behavior of a lambda function after it has been defined.\n",
    "* **Higher-order Functions:** Lambda functions are often used in combination with higher-order functions such as map(), filter(), and reduce(). These functions take other functions as arguments and return new functions as results.\n",
    "* **Memory-efficient:** Lambda functions are memory-efficient since they are defined on-the-fly and do not require a separate function definition. This can be useful when working with large data sets or when memory usage is a concern."
   ]
  },
  {
   "cell_type": "code",
   "execution_count": 42,
   "id": "6410f7bd-8229-4ea0-aab5-f20df29f68f1",
   "metadata": {},
   "outputs": [
    {
     "name": "stdout",
     "output_type": "stream",
     "text": [
      "<class 'function'>\n",
      "500\n",
      "4500\n"
     ]
    }
   ],
   "source": [
    "summation = lambda num1, num2: num1 + num2\n",
    "print (type(summation))\n",
    "print (summation(100, 400))\n",
    "print (summation(500, 4000))"
   ]
  },
  {
   "cell_type": "code",
   "execution_count": 40,
   "id": "cf842af6-dcb2-428f-8a2f-71d56314b697",
   "metadata": {},
   "outputs": [
    {
     "name": "stdout",
     "output_type": "stream",
     "text": [
      "120\n",
      "720\n"
     ]
    }
   ],
   "source": [
    "factorial_cal = lambda num: 1 if (num == 0 or num == 1) else num * factorial_cal(num - 1)\n",
    "print (factorial_cal(5))\n",
    "print (factorial_cal(6))"
   ]
  },
  {
   "cell_type": "markdown",
   "id": "458bf4f8-3249-49b4-82be-27b13ddc8e4c",
   "metadata": {},
   "source": [
    "### Importing Modules"
   ]
  },
  {
   "cell_type": "code",
   "execution_count": 43,
   "id": "3c541713-a24d-43d8-9830-1579ee6fa201",
   "metadata": {},
   "outputs": [],
   "source": [
    "import math"
   ]
  },
  {
   "cell_type": "code",
   "execution_count": 57,
   "id": "e47e80e9-7a24-4a09-9a7b-6b355a9051d8",
   "metadata": {},
   "outputs": [
    {
     "name": "stdout",
     "output_type": "stream",
     "text": [
      "11 11 10 10\n",
      "120 720\n",
      "0.0 1.0 0.0\n",
      "6.907755278982137 6.907755278982137 2.9999999999999996 3.0\n",
      "10.0 10.0\n",
      "3.141592653589793 2.718281828459045 6.283185307179586\n",
      "10.0 1000.0\n"
     ]
    }
   ],
   "source": [
    "print (math.ceil(10.1), math.ceil(10.9), math.floor(10.1), math.floor(10.9))\n",
    "print (math.factorial(5), math.factorial(6))\n",
    "print (math.sin(0), math.cos(0), math.tan(0))\n",
    "print (math.log(1000), math.log(1000, math.e), math.log(1000, 10), math.log10(1000))\n",
    "print (math.log(1024, 2), math.log2(1024))\n",
    "print (math.pi, math.e, math.tau)\n",
    "print (math.sqrt(100), math.pow(10, 3))"
   ]
  },
  {
   "cell_type": "code",
   "execution_count": null,
   "id": "290953f0-d71d-4268-80cd-5cce0cc8176a",
   "metadata": {},
   "outputs": [],
   "source": [
    "help(math)"
   ]
  },
  {
   "cell_type": "code",
   "execution_count": 60,
   "id": "e057c429-e924-4c07-b05a-b85caa611ece",
   "metadata": {},
   "outputs": [
    {
     "name": "stdout",
     "output_type": "stream",
     "text": [
      "Help on built-in function pow in module math:\n",
      "\n",
      "pow(x, y, /)\n",
      "    Return x**y (x to the power of y).\n",
      "\n"
     ]
    }
   ],
   "source": [
    "help(math.pow)"
   ]
  },
  {
   "cell_type": "markdown",
   "id": "9089a295-779e-4d42-b7da-0dc863a155c9",
   "metadata": {},
   "source": [
    "### String Processsing"
   ]
  },
  {
   "cell_type": "code",
   "execution_count": null,
   "id": "066e755c-f47e-4c7c-94a3-c899bd6c0546",
   "metadata": {},
   "outputs": [],
   "source": [
    "index left to right ->  0   1   2   3   4   5   6   7   8   9\n",
    "               mystr =  u   n   i   v   e   r   s   i   t   y\n",
    "index right to left ->-10  -9  -8  -7  -6  -5  -4  -3  -2  -1 "
   ]
  },
  {
   "cell_type": "code",
   "execution_count": 9,
   "id": "d17075cd-857a-4713-9cc2-867c2d6533e1",
   "metadata": {},
   "outputs": [
    {
     "name": "stdout",
     "output_type": "stream",
     "text": [
      "university 10 <class 'str'> 2249944087664\n",
      "v v i i r r\n",
      "niversi niversi niversi niversi ytisrevinu\n",
      "uiest nvriy tseiu yirvn\n"
     ]
    }
   ],
   "source": [
    "mystr = \"university\"\n",
    "print (mystr, len(mystr), type(mystr), id(mystr))\n",
    "print (mystr[3], mystr[-7], mystr[7], mystr[-3], mystr[5], mystr[-5]) # indexing\n",
    "print (mystr[1:8], mystr[-9:-2], mystr[1:-2], mystr[-9:8], mystr[::-1]) # slicing or sub-string retrieval\n",
    "print (mystr[0::2], mystr[1::2], mystr[8::-2], mystr[9::-2])"
   ]
  },
  {
   "cell_type": "code",
   "execution_count": 11,
   "id": "d3223470-3917-43b1-a418-2c719fdd37ef",
   "metadata": {},
   "outputs": [
    {
     "name": "stdout",
     "output_type": "stream",
     "text": [
      "caLCuTTa unIVerSitY 19 <class 'str'> 2249968744880\n",
      "CALCUTTA UNIVERSITY calcutta university Calcutta University Calcutta university CAlcUttA UNivERsITy\n",
      "          caLCuTTa unIVerSitY           \n",
      "               CALCUTTA UNIVERSITY                \n"
     ]
    }
   ],
   "source": [
    "mystr = \"caLCuTTa unIVerSitY\"\n",
    "print (mystr, len(mystr), type(mystr), id(mystr))\n",
    "print (mystr.upper(), mystr.lower(), mystr.title(), mystr.capitalize(),\n",
    "       mystr.swapcase())\n",
    "print (mystr.center(40))\n",
    "print (mystr.upper().center(50))"
   ]
  },
  {
   "cell_type": "code",
   "execution_count": 17,
   "id": "722938da-80d1-4298-a28d-60a1d6d69c90",
   "metadata": {},
   "outputs": [
    {
     "name": "stdout",
     "output_type": "stream",
     "text": [
      "4 4 11 -1\n",
      "4 4 11\n"
     ]
    },
    {
     "ename": "ValueError",
     "evalue": "substring not found",
     "output_type": "error",
     "traceback": [
      "\u001b[1;31m---------------------------------------------------------------------------\u001b[0m",
      "\u001b[1;31mValueError\u001b[0m                                Traceback (most recent call last)",
      "Cell \u001b[1;32mIn[17], line 5\u001b[0m\n\u001b[0;32m      2\u001b[0m \u001b[38;5;28mprint\u001b[39m (mystr\u001b[38;5;241m.\u001b[39mfind(\u001b[38;5;124m\"\u001b[39m\u001b[38;5;124mity\u001b[39m\u001b[38;5;124m\"\u001b[39m), mystr\u001b[38;5;241m.\u001b[39mfind(\u001b[38;5;124m\"\u001b[39m\u001b[38;5;124mi\u001b[39m\u001b[38;5;124m\"\u001b[39m, \u001b[38;5;241m3\u001b[39m), mystr\u001b[38;5;241m.\u001b[39mfind(\u001b[38;5;124m\"\u001b[39m\u001b[38;5;124mi\u001b[39m\u001b[38;5;124m\"\u001b[39m, \u001b[38;5;241m5\u001b[39m), mystr\u001b[38;5;241m.\u001b[39mfind(\u001b[38;5;124m\"\u001b[39m\u001b[38;5;124mins\u001b[39m\u001b[38;5;124m\"\u001b[39m, \u001b[38;5;241m11\u001b[39m, \u001b[38;5;241m13\u001b[39m))\n\u001b[0;32m      4\u001b[0m \u001b[38;5;28mprint\u001b[39m (mystr\u001b[38;5;241m.\u001b[39mindex(\u001b[38;5;124m\"\u001b[39m\u001b[38;5;124mity\u001b[39m\u001b[38;5;124m\"\u001b[39m), mystr\u001b[38;5;241m.\u001b[39mindex(\u001b[38;5;124m\"\u001b[39m\u001b[38;5;124mi\u001b[39m\u001b[38;5;124m\"\u001b[39m, \u001b[38;5;241m3\u001b[39m), mystr\u001b[38;5;241m.\u001b[39mindex(\u001b[38;5;124m\"\u001b[39m\u001b[38;5;124mi\u001b[39m\u001b[38;5;124m\"\u001b[39m, \u001b[38;5;241m5\u001b[39m))\n\u001b[1;32m----> 5\u001b[0m \u001b[38;5;28mprint\u001b[39m (\u001b[43mmystr\u001b[49m\u001b[38;5;241;43m.\u001b[39;49m\u001b[43mindex\u001b[49m\u001b[43m(\u001b[49m\u001b[38;5;124;43m\"\u001b[39;49m\u001b[38;5;124;43mins\u001b[39;49m\u001b[38;5;124;43m\"\u001b[39;49m\u001b[43m,\u001b[49m\u001b[43m \u001b[49m\u001b[38;5;241;43m11\u001b[39;49m\u001b[43m,\u001b[49m\u001b[43m \u001b[49m\u001b[38;5;241;43m13\u001b[39;49m\u001b[43m)\u001b[49m)\n",
      "\u001b[1;31mValueError\u001b[0m: substring not found"
     ]
    }
   ],
   "source": [
    "mystr = \"charity begins at home\"\n",
    "print (mystr.find(\"ity\"), mystr.find(\"i\", 3), mystr.find(\"i\", 5), mystr.find(\"ins\", 11, 13))\n",
    "\n",
    "print (mystr.index(\"ity\"), mystr.index(\"i\", 3), mystr.index(\"i\", 5))\n",
    "print (mystr.index(\"ins\", 11, 13))"
   ]
  },
  {
   "cell_type": "code",
   "execution_count": 18,
   "id": "08869325-7ac0-4683-a181-63db478f45d0",
   "metadata": {},
   "outputs": [
    {
     "name": "stdout",
     "output_type": "stream",
     "text": [
      "    calcutta    university      31 <class 'str'> 2249968686368\n",
      "calcutta    university 22 calcutta    university      27     calcutta    university 26\n",
      "calcutta    university calcutta    university      27\n"
     ]
    }
   ],
   "source": [
    "mystr = \"    calcutta    university     \"\n",
    "print (mystr, len(mystr), type(mystr), id(mystr))\n",
    "print (mystr.strip(), len(mystr.strip()), mystr.lstrip(), len(mystr.lstrip()), mystr.rstrip(),\n",
    "       len(mystr.rstrip()))\n",
    "print (mystr.strip(\" \"), mystr.lstrip(\" \"), len(mystr.lstrip(\" \")))"
   ]
  },
  {
   "cell_type": "code",
   "execution_count": 19,
   "id": "d28735a7-200e-4053-92b0-ec7c45872d64",
   "metadata": {},
   "outputs": [
    {
     "name": "stdout",
     "output_type": "stream",
     "text": [
      "calcutta#@#@university 22 calcutta#@#@university#@@@# ##@@calcutta#@#@university 26\n"
     ]
    }
   ],
   "source": [
    "mystr = \"##@@calcutta#@#@university#@@@#\"\n",
    "print (mystr.strip(\"@#\"), len(mystr.strip(\"@#\")), mystr.lstrip(\"@#\"), mystr.rstrip(\"@#\"),\n",
    "       len(mystr.rstrip(\"@#\")))"
   ]
  },
  {
   "cell_type": "code",
   "execution_count": 20,
   "id": "3654a809-3dd2-41b6-a31a-5f335bc16c9a",
   "metadata": {},
   "outputs": [
    {
     "name": "stdout",
     "output_type": "stream",
     "text": [
      "True False True True\n",
      "True False True\n"
     ]
    }
   ],
   "source": [
    "mystr = \"charity begins at home\"\n",
    "print (mystr.startswith(\"cha\"), mystr.startswith(\"beg\"), mystr.startswith(\"beg\", 8),\n",
    "       mystr.startswith(\"beg\", 8, 20))\n",
    "print (mystr.endswith(\"ome\"), mystr.endswith(\"gins\"), mystr.endswith(\"gins\", 0, 14))"
   ]
  },
  {
   "cell_type": "code",
   "execution_count": 24,
   "id": "372a4597-36b7-4cee-b1ef-f10a8e2fdbc2",
   "metadata": {},
   "outputs": [
    {
     "name": "stdout",
     "output_type": "stream",
     "text": [
      "H\n",
      "e\n",
      "l\n",
      "l\n",
      "o\n"
     ]
    }
   ],
   "source": [
    "mystr = \"Hello\"    # Reading character by character from a string\n",
    "for ch in mystr:\n",
    "    print (ch)"
   ]
  },
  {
   "cell_type": "code",
   "execution_count": 23,
   "id": "82dd28b8-d17b-4d62-9948-69272a6245f4",
   "metadata": {},
   "outputs": [
    {
     "name": "stdout",
     "output_type": "stream",
     "text": [
      "H\n",
      "e\n",
      "l\n",
      "l\n",
      "o\n"
     ]
    }
   ],
   "source": [
    "mystr = \"Hello\"    # Reading character by character from a string\n",
    "for i in range(len(mystr)):\n",
    "    print (mystr[i])"
   ]
  },
  {
   "cell_type": "code",
   "execution_count": 25,
   "id": "6ae38d4b-5293-47f7-aea2-6df914f27507",
   "metadata": {},
   "outputs": [
    {
     "name": "stdout",
     "output_type": "stream",
     "text": [
      "charity begins at home 22 <class 'str'> 2249968745440\n",
      "['charity', 'begins', 'at', 'home']\n",
      "['charity', 'begins', 'at', 'home']\n",
      "['char', 'ty beg', 'ns at home']\n"
     ]
    }
   ],
   "source": [
    "mystr = \"charity begins at home\"\n",
    "print (mystr, len(mystr), type(mystr), id(mystr))\n",
    "list1 = mystr.split()\n",
    "print (list1)\n",
    "list1 = mystr.split(\" \")\n",
    "print (list1)\n",
    "list1 = mystr.split(\"i\")\n",
    "print (list1)"
   ]
  },
  {
   "cell_type": "code",
   "execution_count": 27,
   "id": "b250d976-896b-4679-86ef-80678473ba5e",
   "metadata": {},
   "outputs": [
    {
     "name": "stdin",
     "output_type": "stream",
     "text": [
      "Enter your all numbers:  11 33 22 55 44 66\n"
     ]
    },
    {
     "name": "stdout",
     "output_type": "stream",
     "text": [
      "['11', '33', '22', '55', '44', '66']\n"
     ]
    }
   ],
   "source": [
    "list_num = input(\"Enter your all numbers: \").split()\n",
    "print (list_num)"
   ]
  },
  {
   "cell_type": "code",
   "execution_count": 36,
   "id": "e5ed62f5-ab2d-4c46-a3f5-dae8f1d9e715",
   "metadata": {},
   "outputs": [
    {
     "name": "stdin",
     "output_type": "stream",
     "text": [
      "Enter your all numbers:  11 33 22 55 44 66\n"
     ]
    },
    {
     "name": "stdout",
     "output_type": "stream",
     "text": [
      "[11, 33, 22, 55, 44, 66]\n"
     ]
    }
   ],
   "source": [
    "list_num = [int(x) for x in input(\"Enter your all numbers: \").split()]\n",
    "print (list_num)"
   ]
  },
  {
   "cell_type": "code",
   "execution_count": 31,
   "id": "71b90e6c-1240-4c53-a7db-5dcd651cee2b",
   "metadata": {},
   "outputs": [
    {
     "name": "stdout",
     "output_type": "stream",
     "text": [
      "['charity', 'begins', 'at', 'home'] 4 <class 'list'> 2249981354752\n",
      "charity begins at home <class 'str'>\n",
      "charity - begins - at - home\n",
      "charity, begins, at, home\n"
     ]
    }
   ],
   "source": [
    "list1 = ['charity', 'begins', 'at', 'home']\n",
    "print (list1, len(list1), type(list1), id(list1))\n",
    "mystr = \" \".join(list1)\n",
    "print (mystr, type(mystr))\n",
    "mystr = \" - \".join(list1)\n",
    "print (mystr)\n",
    "mystr = \", \".join(list1)\n",
    "print (mystr)"
   ]
  },
  {
   "cell_type": "code",
   "execution_count": 32,
   "id": "96b6161d-863e-47a0-a9e2-87d73c9e66c4",
   "metadata": {},
   "outputs": [
    {
     "name": "stdout",
     "output_type": "stream",
     "text": [
      "1234 False True True\n",
      "abcd True True False\n",
      "1234abcd False True False\n",
      "1234@abcd False False False\n"
     ]
    }
   ],
   "source": [
    "mystr = \"1234\"\n",
    "print (mystr, mystr.isalpha(), mystr.isalnum(), mystr.isnumeric())\n",
    "mystr = \"abcd\"\n",
    "print (mystr, mystr.isalpha(), mystr.isalnum(), mystr.isnumeric())\n",
    "mystr = \"1234abcd\"\n",
    "print (mystr, mystr.isalpha(), mystr.isalnum(), mystr.isnumeric())\n",
    "mystr = \"1234@abcd\"\n",
    "print (mystr, mystr.isalpha(), mystr.isalnum(), mystr.isnumeric())"
   ]
  },
  {
   "cell_type": "code",
   "execution_count": 34,
   "id": "e2ede6d1-f3e4-44cc-9d2a-6bce3cdf5fee",
   "metadata": {},
   "outputs": [
    {
     "name": "stdout",
     "output_type": "stream",
     "text": [
      "2 1 0\n",
      "unxversxty\n",
      "university\n",
      "unxversxty\n",
      "unxissxty\n"
     ]
    }
   ],
   "source": [
    "mystr = \"university\"\n",
    "print (mystr.count(\"i\"), mystr.count(\"v\"), mystr.count(\"I\"))\n",
    "print (mystr.replace(\"i\", \"x\"))\n",
    "print (mystr)\n",
    "mystr = mystr.replace(\"i\", \"x\")\n",
    "print (mystr)\n",
    "mystr = mystr.replace(\"ver\", \"is\")\n",
    "print (mystr)"
   ]
  },
  {
   "cell_type": "code",
   "execution_count": 35,
   "id": "9553f8ec-41fb-4a01-b567-ed88c1c950aa",
   "metadata": {},
   "outputs": [
    {
     "name": "stdout",
     "output_type": "stream",
     "text": [
      "mississippi <class 'str'>\n",
      "['m', 'i', 's', 's', 'i', 's', 's', 'i', 'p', 'p', 'i']\n",
      "('m', 'i', 's', 's', 'i', 's', 's', 'i', 'p', 'p', 'i')\n",
      "{'m', 'p', 'i', 's'}\n",
      "frozenset({'m', 'p', 'i', 's'})\n"
     ]
    }
   ],
   "source": [
    "mystr = \"mississippi\"\n",
    "print (mystr, type(mystr))\n",
    "print (list(mystr))\n",
    "print (tuple(mystr))\n",
    "print (set(mystr))\n",
    "print (frozenset(mystr))"
   ]
  },
  {
   "cell_type": "markdown",
   "id": "3d6ce1eb-55ef-45c0-87d8-f966b847981f",
   "metadata": {},
   "source": [
    "### List Processsing"
   ]
  },
  {
   "cell_type": "code",
   "execution_count": 1,
   "id": "fc992226-f915-40ec-a63b-2ecd36a3391b",
   "metadata": {},
   "outputs": [
    {
     "name": "stdout",
     "output_type": "stream",
     "text": [
      "[100, 400, 300, 200, 700] 5 <class 'list'> 2489561721408\n",
      "700 100\n",
      "1700 340.0\n"
     ]
    }
   ],
   "source": [
    "list1 = [100, 400, 300, 200, 700]\n",
    "print (list1, len(list1), type(list1), id(list1))\n",
    "print (max(list1), min(list1))\n",
    "print (sum(list1), sum(list1) / len(list1))"
   ]
  },
  {
   "cell_type": "code",
   "execution_count": 2,
   "id": "bf7fcb3c-c1c5-4a7b-9608-a254bcebc398",
   "metadata": {},
   "outputs": [
    {
     "name": "stdout",
     "output_type": "stream",
     "text": [
      "[100, 400, True, 300, 200, False, 700] 7 <class 'list'> 2489561714816\n",
      "700 False\n",
      "1701 243.0\n"
     ]
    }
   ],
   "source": [
    "list1 = [100, 400, True, 300, 200, False, 700]\n",
    "print (list1, len(list1), type(list1), id(list1))\n",
    "print (max(list1), min(list1))\n",
    "print (sum(list1), sum(list1) / len(list1))"
   ]
  },
  {
   "cell_type": "code",
   "execution_count": 5,
   "id": "8945bdfc-17e9-47c5-b54c-b6acdbc856b0",
   "metadata": {},
   "outputs": [
    {
     "name": "stdout",
     "output_type": "stream",
     "text": [
      "['sunday', 'monday', 'friday', 'saturday', 'Tuesday'] 5 <class 'list'> 2489590381504\n",
      "sunday Tuesday\n"
     ]
    },
    {
     "ename": "TypeError",
     "evalue": "unsupported operand type(s) for +: 'int' and 'str'",
     "output_type": "error",
     "traceback": [
      "\u001b[1;31m---------------------------------------------------------------------------\u001b[0m",
      "\u001b[1;31mTypeError\u001b[0m                                 Traceback (most recent call last)",
      "Cell \u001b[1;32mIn[5], line 4\u001b[0m\n\u001b[0;32m      2\u001b[0m \u001b[38;5;28mprint\u001b[39m (list1, \u001b[38;5;28mlen\u001b[39m(list1), \u001b[38;5;28mtype\u001b[39m(list1), \u001b[38;5;28mid\u001b[39m(list1))\n\u001b[0;32m      3\u001b[0m \u001b[38;5;28mprint\u001b[39m (\u001b[38;5;28mmax\u001b[39m(list1), \u001b[38;5;28mmin\u001b[39m(list1))\n\u001b[1;32m----> 4\u001b[0m \u001b[38;5;28mprint\u001b[39m (\u001b[38;5;28;43msum\u001b[39;49m\u001b[43m(\u001b[49m\u001b[43mlist1\u001b[49m\u001b[43m)\u001b[49m, \u001b[38;5;28msum\u001b[39m(list1) \u001b[38;5;241m/\u001b[39m \u001b[38;5;28mlen\u001b[39m(list1))\n",
      "\u001b[1;31mTypeError\u001b[0m: unsupported operand type(s) for +: 'int' and 'str'"
     ]
    }
   ],
   "source": [
    "list1 = [\"sunday\", \"monday\", 'friday', 'saturday', 'Tuesday']\n",
    "print (list1, len(list1), type(list1), id(list1))\n",
    "print (max(list1), min(list1))\n",
    "print (sum(list1), sum(list1) / len(list1))"
   ]
  },
  {
   "cell_type": "code",
   "execution_count": 7,
   "id": "edef753b-fb26-495e-9d59-e403005273a0",
   "metadata": {},
   "outputs": [
    {
     "name": "stdout",
     "output_type": "stream",
     "text": [
      "['Monday', 'Tuesday', 'Wednesday', 'Thursday', 'Friday'] 5 <class 'list'> 2489590489984\n",
      "Wednesday Wednesday Thursday Thursday\n",
      "nes nes\n"
     ]
    }
   ],
   "source": [
    "# Indexing and slicing\n",
    "# L to R ->  0         1          2            3           4\n",
    "list1 =    [\"Monday\", \"Tuesday\", \"Wednesday\", \"Thursday\", \"Friday\"]\n",
    "# R to L -> -5        -4         -3           -2          -1\n",
    "print (list1, len(list1), type(list1), id(list1))\n",
    "print (list1[2], list1[-3], list1[3], list1[-2])\n",
    "print (list1[2][3:6], list1[-3][-6:-3])"
   ]
  },
  {
   "cell_type": "code",
   "execution_count": 9,
   "id": "be62ab69-1f08-4c40-bc8a-94837cdd09eb",
   "metadata": {},
   "outputs": [
    {
     "name": "stdout",
     "output_type": "stream",
     "text": [
      "['Monday', 'Tuesday', 'Wednesday', 'Thursday', 'Friday']\n",
      "['Mango', 'Pineapple', 'Guava', 'Lime']\n",
      "['Monday', 'Tuesday', 'Wednesday', 'Thursday', 'Friday', 'Mango', 'Pineapple', 'Guava', 'Lime']\n",
      "['Monday', 'Tuesday', 'Wednesday', 'Thursday', 'Friday', 'Mango', 'Pineapple', 'Guava', 'Lime']\n",
      "['Mango', 'Pineapple', 'Guava', 'Lime']\n"
     ]
    }
   ],
   "source": [
    "list1 = [\"Monday\", \"Tuesday\", \"Wednesday\", \"Thursday\", \"Friday\"]\n",
    "list2 = [\"Mango\", \"Pineapple\", \"Guava\", \"Lime\"]\n",
    "list3 = list1 + list2    # list concatenation\n",
    "print (list1)\n",
    "print (list2)\n",
    "print (list3)\n",
    "list1.extend(list2)      # list concatenation\n",
    "print (list1)\n",
    "print (list2)"
   ]
  },
  {
   "cell_type": "code",
   "execution_count": 10,
   "id": "456db56b-d304-4199-b1c4-043c116b6686",
   "metadata": {},
   "outputs": [
    {
     "name": "stdout",
     "output_type": "stream",
     "text": [
      "['Monday', 'Tuesday', 'Wednesday', 'Thursday', 'Friday']\n",
      "['Mango', 'Pineapple', 'Guava', 'Lime']\n",
      "[['Monday', 'Tuesday', 'Wednesday', 'Thursday', 'Friday'], ['Mango', 'Pineapple', 'Guava', 'Lime']]\n",
      "5 4\n",
      "['Pineapple', 'Guava'] ['Wednesday', 'Thursday'] nes\n"
     ]
    }
   ],
   "source": [
    "list1 = [\"Monday\", \"Tuesday\", \"Wednesday\", \"Thursday\", \"Friday\"]\n",
    "list2 = [\"Mango\", \"Pineapple\", \"Guava\", \"Lime\"]\n",
    "list3 = [list1, list2]      # list of lists\n",
    "print (list1)\n",
    "print (list2)\n",
    "print (list3)\n",
    "print (len(list3[0]), len(list3[1]))\n",
    "print (list3[1][1:3], list3[0][2:4], list3[0][2][3:6])"
   ]
  },
  {
   "cell_type": "code",
   "execution_count": 14,
   "id": "0d0b34f7-2418-45dc-9aac-38e0a33c4cd3",
   "metadata": {},
   "outputs": [
    {
     "name": "stdout",
     "output_type": "stream",
     "text": [
      "['Mango', 'Pineapple', 'Coconut', 'Banana', 'Lime']\n",
      "['Mango', 'Pineapple', 'Coconut', 'Banana', 'Lime', 'Guava']\n",
      "['Mango', 'Pineapple', 'Coconut', 'Banana', 'Lime', 'Guava', 'Mango']\n",
      "['Mango', 'Pineapple', 'Coconut', 'Banana', 'Lime', 'Guava', 'Mango', 'Peanut']\n",
      "['Mango', 'Lemon', 'Pineapple', 'Coconut', 'Banana', 'Lime', 'Guava', 'Mango', 'Peanut']\n"
     ]
    }
   ],
   "source": [
    "# insert operation on list\n",
    "list1 = ['Mango', 'Pineapple', 'Coconut', 'Banana', 'Lime']\n",
    "print (list1)\n",
    "list1.append(\"Guava\")\n",
    "print (list1)\n",
    "list1.append(\"Mango\")\n",
    "print (list1)\n",
    "list1.append(\"Peanut\")\n",
    "print (list1)\n",
    "list1.insert(1, \"Lemon\")\n",
    "print (list1)"
   ]
  },
  {
   "cell_type": "code",
   "execution_count": 12,
   "id": "238a3855-4a0e-44c7-a9ef-612d8414d026",
   "metadata": {},
   "outputs": [
    {
     "name": "stdout",
     "output_type": "stream",
     "text": [
      "['Himsagar', 'Lemon', 'Pineapple', 'Coconut', 'Banana', 'Lime', 'Guava', 'Mango', 'Peanut']\n"
     ]
    }
   ],
   "source": [
    "# update operation on list\n",
    "list1[0] = \"Himsagar\"\n",
    "print (list1)"
   ]
  },
  {
   "cell_type": "code",
   "execution_count": 20,
   "id": "94740604-b34d-4ecd-a0f1-c3c52561530c",
   "metadata": {},
   "outputs": [
    {
     "name": "stdout",
     "output_type": "stream",
     "text": [
      "['Mango', 'Pineapple', 'Coconut', 'Banana', 'Pineapple', 'Lime']\n",
      "['Mango', 'Coconut', 'Banana', 'Pineapple', 'Lime']\n",
      "['Mango', 'Coconut', 'Pineapple', 'Lime']\n"
     ]
    },
    {
     "ename": "ValueError",
     "evalue": "list.remove(x): x not in list",
     "output_type": "error",
     "traceback": [
      "\u001b[1;31m---------------------------------------------------------------------------\u001b[0m",
      "\u001b[1;31mValueError\u001b[0m                                Traceback (most recent call last)",
      "Cell \u001b[1;32mIn[20], line 8\u001b[0m\n\u001b[0;32m      6\u001b[0m list1\u001b[38;5;241m.\u001b[39mremove(\u001b[38;5;124m\"\u001b[39m\u001b[38;5;124mBanana\u001b[39m\u001b[38;5;124m\"\u001b[39m)\n\u001b[0;32m      7\u001b[0m \u001b[38;5;28mprint\u001b[39m (list1)\n\u001b[1;32m----> 8\u001b[0m \u001b[43mlist1\u001b[49m\u001b[38;5;241;43m.\u001b[39;49m\u001b[43mremove\u001b[49m\u001b[43m(\u001b[49m\u001b[38;5;124;43m\"\u001b[39;49m\u001b[38;5;124;43mBanana\u001b[39;49m\u001b[38;5;124;43m\"\u001b[39;49m\u001b[43m)\u001b[49m\n\u001b[0;32m      9\u001b[0m \u001b[38;5;28mprint\u001b[39m (list1)\n",
      "\u001b[1;31mValueError\u001b[0m: list.remove(x): x not in list"
     ]
    }
   ],
   "source": [
    "# deletion operation on list\n",
    "list1 = ['Mango', 'Pineapple', 'Coconut', 'Banana', 'Pineapple', 'Lime']\n",
    "print (list1)\n",
    "list1.remove(\"Pineapple\")\n",
    "print (list1)\n",
    "list1.remove(\"Banana\")\n",
    "print (list1)\n",
    "list1.remove(\"Banana\")\n",
    "print (list1)"
   ]
  },
  {
   "cell_type": "code",
   "execution_count": 19,
   "id": "62575fbf-af59-466c-beec-f2179ff3b0c7",
   "metadata": {},
   "outputs": [
    {
     "name": "stdout",
     "output_type": "stream",
     "text": [
      "['Mango', 'Pineapple', 'Coconut', 'Banana', 'Lime']\n",
      "Lime\n",
      "['Mango', 'Pineapple', 'Coconut', 'Banana']\n",
      "Banana\n",
      "['Mango', 'Pineapple', 'Coconut']\n",
      "Pineapple\n",
      "['Mango', 'Coconut']\n"
     ]
    }
   ],
   "source": [
    "list1 = ['Mango', 'Pineapple', 'Coconut', 'Banana', 'Lime']\n",
    "print (list1)\n",
    "print (list1.pop())\n",
    "print (list1)\n",
    "print (list1.pop())\n",
    "print (list1)\n",
    "print (list1.pop(1))\n",
    "print (list1)"
   ]
  },
  {
   "cell_type": "code",
   "execution_count": 21,
   "id": "d98d0933-1c4a-4b61-8a7c-506d2b22601e",
   "metadata": {},
   "outputs": [
    {
     "name": "stdout",
     "output_type": "stream",
     "text": [
      "['Mango', 'Pineapple', 'Coconut', 'Banana', 'Lime']\n",
      "[]\n"
     ]
    }
   ],
   "source": [
    "list1 = ['Mango', 'Pineapple', 'Coconut', 'Banana', 'Lime']\n",
    "print (list1)\n",
    "list1.clear()\n",
    "print (list1)"
   ]
  },
  {
   "cell_type": "code",
   "execution_count": 22,
   "id": "d9a6bfbf-ad21-4fb8-b321-af872b908456",
   "metadata": {},
   "outputs": [
    {
     "name": "stdout",
     "output_type": "stream",
     "text": [
      "['Mango', 'Pineapple', 'Coconut', 'Banana', 'Lime']\n",
      "['Mango', 'Pineapple', 'Banana', 'Lime']\n"
     ]
    },
    {
     "ename": "NameError",
     "evalue": "name 'list1' is not defined",
     "output_type": "error",
     "traceback": [
      "\u001b[1;31m---------------------------------------------------------------------------\u001b[0m",
      "\u001b[1;31mNameError\u001b[0m                                 Traceback (most recent call last)",
      "Cell \u001b[1;32mIn[22], line 6\u001b[0m\n\u001b[0;32m      4\u001b[0m \u001b[38;5;28mprint\u001b[39m (list1)\n\u001b[0;32m      5\u001b[0m \u001b[38;5;28;01mdel\u001b[39;00m list1\n\u001b[1;32m----> 6\u001b[0m \u001b[38;5;28mprint\u001b[39m (\u001b[43mlist1\u001b[49m)\n",
      "\u001b[1;31mNameError\u001b[0m: name 'list1' is not defined"
     ]
    }
   ],
   "source": [
    "list1 = ['Mango', 'Pineapple', 'Coconut', 'Banana', 'Lime']\n",
    "print (list1)\n",
    "del list1[2]\n",
    "print (list1)\n",
    "del list1\n",
    "print (list1)"
   ]
  },
  {
   "cell_type": "code",
   "execution_count": 24,
   "id": "798732fe-3dd7-4f44-bedc-72d1546c7f5e",
   "metadata": {},
   "outputs": [
    {
     "name": "stdout",
     "output_type": "stream",
     "text": [
      "['Mango', 'Pineapple', 'Coconut', 'Banana', 'Lime']\n",
      "['Lime', 'Banana', 'Coconut', 'Pineapple', 'Mango']\n"
     ]
    }
   ],
   "source": [
    "# reverse of a list\n",
    "list1 = ['Mango', 'Pineapple', 'Coconut', 'Banana', 'Lime']\n",
    "print (list1)\n",
    "list1.reverse()\n",
    "print (list1)"
   ]
  },
  {
   "cell_type": "code",
   "execution_count": 26,
   "id": "5f7d1c7b-3b3b-4c63-bf59-0524695b15cd",
   "metadata": {},
   "outputs": [
    {
     "name": "stdout",
     "output_type": "stream",
     "text": [
      "['Mango', 'Pineapple', 'Coconut', 'Banana', 'Lime']\n",
      "['Banana', 'Coconut', 'Lime', 'Mango', 'Pineapple']\n",
      "['Pineapple', 'Mango', 'Lime', 'Coconut', 'Banana']\n"
     ]
    }
   ],
   "source": [
    "# sorting of a list\n",
    "list1 = ['Mango', 'Pineapple', 'Coconut', 'Banana', 'Lime']\n",
    "print (list1)\n",
    "list1.sort()\n",
    "print (list1)\n",
    "list1.reverse()\n",
    "print (list1)"
   ]
  },
  {
   "cell_type": "code",
   "execution_count": 27,
   "id": "90de1e6d-250e-4358-9fb6-e59f14258cdc",
   "metadata": {},
   "outputs": [
    {
     "name": "stdout",
     "output_type": "stream",
     "text": [
      "['Mango', 'Pineapple', 'Coconut', 'Banana', 'Lime']\n",
      "['Pineapple', 'Mango', 'Lime', 'Coconut', 'Banana']\n"
     ]
    }
   ],
   "source": [
    "list1 = ['Mango', 'Pineapple', 'Coconut', 'Banana', 'Lime']\n",
    "print (list1)\n",
    "list1.sort(reverse = True)\n",
    "print (list1)"
   ]
  },
  {
   "cell_type": "code",
   "execution_count": 28,
   "id": "4a8b15b7-23c2-4609-8641-8404ad1acf6b",
   "metadata": {},
   "outputs": [
    {
     "name": "stdout",
     "output_type": "stream",
     "text": [
      "['Mango', 'Pineapple', 'Coconut', 'Banana', 'Lime']\n",
      "['Banana', 'Coconut', 'Lime', 'Mango', 'Pineapple']\n"
     ]
    }
   ],
   "source": [
    "list1 = ['Mango', 'Pineapple', 'Coconut', 'Banana', 'Lime']\n",
    "print (list1)\n",
    "list1 = sorted(list1)\n",
    "print (list1)"
   ]
  },
  {
   "cell_type": "code",
   "execution_count": 29,
   "id": "6a8d38d2-b857-4b22-b243-9859aed83cd8",
   "metadata": {},
   "outputs": [
    {
     "name": "stdout",
     "output_type": "stream",
     "text": [
      "['Mango', 'Pineapple', 'Coconut', 'Banana', 'Lime']\n",
      "['Pineapple', 'Mango', 'Lime', 'Coconut', 'Banana']\n"
     ]
    }
   ],
   "source": [
    "list1 = ['Mango', 'Pineapple', 'Coconut', 'Banana', 'Lime']\n",
    "print (list1)\n",
    "list1 = sorted(list1, reverse = True)\n",
    "print (list1)"
   ]
  },
  {
   "cell_type": "code",
   "execution_count": 3,
   "id": "a89e283a-9f23-4d36-aba1-0c30e2b87797",
   "metadata": {},
   "outputs": [
    {
     "name": "stdout",
     "output_type": "stream",
     "text": [
      "True False\n"
     ]
    }
   ],
   "source": [
    "list1 = [True, False, True, True]\n",
    "print (any(list1), all(list1))"
   ]
  },
  {
   "cell_type": "code",
   "execution_count": 4,
   "id": "258266ab",
   "metadata": {},
   "outputs": [
    {
     "name": "stdout",
     "output_type": "stream",
     "text": [
      "True True\n"
     ]
    }
   ],
   "source": [
    "list1 = [True, True, True, True]\n",
    "print (any(list1), all(list1))"
   ]
  },
  {
   "cell_type": "code",
   "execution_count": 5,
   "id": "becb76b5",
   "metadata": {},
   "outputs": [
    {
     "name": "stdout",
     "output_type": "stream",
     "text": [
      "False False\n"
     ]
    }
   ],
   "source": [
    "list1 = [False, False, False, False]\n",
    "print (any(list1), all(list1))"
   ]
  },
  {
   "cell_type": "code",
   "execution_count": 23,
   "id": "643f79fc-78b7-4736-83ea-d366dde914a3",
   "metadata": {},
   "outputs": [
    {
     "name": "stdout",
     "output_type": "stream",
     "text": [
      "2\n",
      "1\n",
      "4\n"
     ]
    }
   ],
   "source": [
    "list1 = ['Mango', 'Pineapple', 'Coconut', 'Banana', 'Pineapple', 'Coconut', 'Banana', 'Lime']\n",
    "print (list1.count('Pineapple'))\n",
    "print (list1.index(\"Pineapple\"))\n",
    "print (list1.index(\"Pineapple\", 2))"
   ]
  },
  {
   "cell_type": "markdown",
   "id": "1c0f8233-2fbd-4bb1-8a9e-217ac97ec4a5",
   "metadata": {},
   "source": [
    "### Tuple Processsing"
   ]
  },
  {
   "cell_type": "code",
   "execution_count": 7,
   "id": "5a2aa657-1cd4-4689-bfd6-df07622726f9",
   "metadata": {},
   "outputs": [
    {
     "name": "stdout",
     "output_type": "stream",
     "text": [
      "(100, 400, 300, 200, 700) 8 <class 'tuple'> 2099201598752\n",
      "700 100\n",
      "1700 340.0\n"
     ]
    }
   ],
   "source": [
    "tuple1 = (100, 400, 300, 200, 700)\n",
    "\n",
    "print (tuple1, len(list1), type(tuple1), id(tuple1))\n",
    "print (max(tuple1), min(tuple1))\n",
    "print (sum(tuple1), sum(tuple1) / len(tuple1))"
   ]
  },
  {
   "cell_type": "code",
   "execution_count": 8,
   "id": "6c449a64-da29-41ef-9933-20249f591f8c",
   "metadata": {},
   "outputs": [
    {
     "name": "stdout",
     "output_type": "stream",
     "text": [
      "(100, 400, True, 300, 200, False, 700) 8 <class 'tuple'> 2099201646528\n",
      "700 False\n",
      "1701 243.0\n"
     ]
    }
   ],
   "source": [
    "tuple1 = (100, 400, True, 300, 200, False, 700)\n",
    "print (tuple1, len(list1), type(tuple1), id(tuple1))\n",
    "print (max(tuple1), min(tuple1))\n",
    "print (sum(tuple1), sum(tuple1) / len(tuple1))"
   ]
  },
  {
   "cell_type": "code",
   "execution_count": 9,
   "id": "cab89e94-fc07-4f51-8161-9df2a917443d",
   "metadata": {},
   "outputs": [
    {
     "name": "stdout",
     "output_type": "stream",
     "text": [
      "(100, 400, True, 'Tuesday', 300, 'Wednesday', 200, False, 700) 8 <class 'tuple'> 2099201287872\n"
     ]
    },
    {
     "ename": "TypeError",
     "evalue": "'>' not supported between instances of 'str' and 'int'",
     "output_type": "error",
     "traceback": [
      "\u001b[1;31m---------------------------------------------------------------------------\u001b[0m",
      "\u001b[1;31mTypeError\u001b[0m                                 Traceback (most recent call last)",
      "Cell \u001b[1;32mIn[9], line 3\u001b[0m\n\u001b[0;32m      1\u001b[0m tuple1 \u001b[38;5;241m=\u001b[39m (\u001b[38;5;241m100\u001b[39m, \u001b[38;5;241m400\u001b[39m, \u001b[38;5;28;01mTrue\u001b[39;00m, \u001b[38;5;124m\"\u001b[39m\u001b[38;5;124mTuesday\u001b[39m\u001b[38;5;124m\"\u001b[39m, \u001b[38;5;241m300\u001b[39m, \u001b[38;5;124m\"\u001b[39m\u001b[38;5;124mWednesday\u001b[39m\u001b[38;5;124m\"\u001b[39m, \u001b[38;5;241m200\u001b[39m, \u001b[38;5;28;01mFalse\u001b[39;00m, \u001b[38;5;241m700\u001b[39m)\n\u001b[0;32m      2\u001b[0m \u001b[38;5;28mprint\u001b[39m (tuple1, \u001b[38;5;28mlen\u001b[39m(list1), \u001b[38;5;28mtype\u001b[39m(tuple1), \u001b[38;5;28mid\u001b[39m(tuple1))\n\u001b[1;32m----> 3\u001b[0m \u001b[38;5;28mprint\u001b[39m (\u001b[38;5;28;43mmax\u001b[39;49m\u001b[43m(\u001b[49m\u001b[43mtuple1\u001b[49m\u001b[43m)\u001b[49m, \u001b[38;5;28mmin\u001b[39m(tuple1))\n\u001b[0;32m      4\u001b[0m \u001b[38;5;28mprint\u001b[39m (\u001b[38;5;28msum\u001b[39m(tuple1), \u001b[38;5;28msum\u001b[39m(tuple1) \u001b[38;5;241m/\u001b[39m \u001b[38;5;28mlen\u001b[39m(tuple1))\n",
      "\u001b[1;31mTypeError\u001b[0m: '>' not supported between instances of 'str' and 'int'"
     ]
    }
   ],
   "source": [
    "tuple1 = (100, 400, True, \"Tuesday\", 300, \"Wednesday\", 200, False, 700)\n",
    "print (tuple1, len(list1), type(tuple1), id(tuple1))\n",
    "print (max(tuple1), min(tuple1))\n",
    "print (sum(tuple1), sum(tuple1) / len(tuple1))"
   ]
  },
  {
   "cell_type": "code",
   "execution_count": 10,
   "id": "676ade5f-00a3-4dba-8aa8-9edf8b2d03f4",
   "metadata": {},
   "outputs": [
    {
     "name": "stdout",
     "output_type": "stream",
     "text": [
      "Wednesday Wednesday Thursday Thursday\n",
      "nes nes\n"
     ]
    }
   ],
   "source": [
    "# Indexing and slicing\n",
    "# L ro R ->   0         1          2            3           4\n",
    "tuple1 =    (\"Monday\", \"Tuesday\", \"Wednesday\", \"Thursday\", \"Friday\")\n",
    "# R to L ->  -5        -4         -3           -2          -1\n",
    "print (tuple1[2], tuple1[-3], tuple1[3], tuple1[-2])\n",
    "print (tuple1[2][3:6], tuple1[-3][-6:-3])"
   ]
  },
  {
   "cell_type": "code",
   "execution_count": 11,
   "id": "2df215c5-2c46-4bf4-83cd-b7223aa41b84",
   "metadata": {},
   "outputs": [
    {
     "name": "stdout",
     "output_type": "stream",
     "text": [
      "('Monday', 'Tuesday', 'Wednesday', 'Thursday', 'Friday')\n",
      "('Mango', 'Pineapple', 'Guava', 'Lime')\n",
      "('Monday', 'Tuesday', 'Wednesday', 'Thursday', 'Friday', 'Mango', 'Pineapple', 'Guava', 'Lime')\n",
      "(('Monday', 'Tuesday', 'Wednesday', 'Thursday', 'Friday'), ('Mango', 'Pineapple', 'Guava', 'Lime'))\n"
     ]
    }
   ],
   "source": [
    "tuple1 = (\"Monday\", \"Tuesday\", \"Wednesday\", \"Thursday\", \"Friday\")\n",
    "tuple2 = (\"Mango\", \"Pineapple\", \"Guava\", \"Lime\")\n",
    "print (tuple1)\n",
    "print (tuple2)\n",
    "tuple3 = tuple1 + tuple2      # tuple concatenation\n",
    "print (tuple3)\n",
    "tuple3 = (tuple1, tuple2)     # tuple of tuples\n",
    "print (tuple3)"
   ]
  },
  {
   "cell_type": "code",
   "execution_count": 12,
   "id": "d082946a-2a14-4edb-b480-f9e6d8908b2e",
   "metadata": {},
   "outputs": [
    {
     "name": "stdout",
     "output_type": "stream",
     "text": [
      "10 <class 'int'>\n",
      "(10,) <class 'tuple'>\n"
     ]
    }
   ],
   "source": [
    "var1 = (10)\n",
    "print (var1, type(var1))\n",
    "var1 = (10,)   # singleton representation of a tuple\n",
    "print (var1, type(var1))"
   ]
  },
  {
   "cell_type": "code",
   "execution_count": 13,
   "id": "1707bb46-5e78-48e7-b8a3-18f97c77df9b",
   "metadata": {},
   "outputs": [
    {
     "ename": "TypeError",
     "evalue": "'tuple' object does not support item assignment",
     "output_type": "error",
     "traceback": [
      "\u001b[1;31m---------------------------------------------------------------------------\u001b[0m",
      "\u001b[1;31mTypeError\u001b[0m                                 Traceback (most recent call last)",
      "Cell \u001b[1;32mIn[13], line 3\u001b[0m\n\u001b[0;32m      1\u001b[0m \u001b[38;5;66;03m# update operation on a tuple\u001b[39;00m\n\u001b[0;32m      2\u001b[0m tuple1 \u001b[38;5;241m=\u001b[39m (\u001b[38;5;124m\"\u001b[39m\u001b[38;5;124mMonday\u001b[39m\u001b[38;5;124m\"\u001b[39m, \u001b[38;5;124m\"\u001b[39m\u001b[38;5;124mTuesday\u001b[39m\u001b[38;5;124m\"\u001b[39m, \u001b[38;5;124m\"\u001b[39m\u001b[38;5;124mWednesday\u001b[39m\u001b[38;5;124m\"\u001b[39m, \u001b[38;5;124m\"\u001b[39m\u001b[38;5;124mThursday\u001b[39m\u001b[38;5;124m\"\u001b[39m, \u001b[38;5;124m\"\u001b[39m\u001b[38;5;124mFriday\u001b[39m\u001b[38;5;124m\"\u001b[39m)\n\u001b[1;32m----> 3\u001b[0m tuple1[\u001b[38;5;241m1\u001b[39m] \u001b[38;5;241m=\u001b[39m \u001b[38;5;124m'\u001b[39m\u001b[38;5;124mSaturday\u001b[39m\u001b[38;5;124m'\u001b[39m\n\u001b[0;32m      4\u001b[0m list1 \u001b[38;5;241m=\u001b[39m \u001b[38;5;28mlist\u001b[39m(tuple1)\n\u001b[0;32m      5\u001b[0m list1[\u001b[38;5;241m1\u001b[39m] \u001b[38;5;241m=\u001b[39m \u001b[38;5;124m'\u001b[39m\u001b[38;5;124mSaturday\u001b[39m\u001b[38;5;124m'\u001b[39m\n",
      "\u001b[1;31mTypeError\u001b[0m: 'tuple' object does not support item assignment"
     ]
    }
   ],
   "source": [
    "# update operation on a tuple\n",
    "tuple1 = (\"Monday\", \"Tuesday\", \"Wednesday\", \"Thursday\", \"Friday\")\n",
    "tuple1[1] = 'Saturday'\n",
    "list1 = list(tuple1)\n",
    "list1[1] = 'Saturday'\n",
    "tuple1 = tuple(list1)"
   ]
  },
  {
   "cell_type": "code",
   "execution_count": 17,
   "id": "f3b97807-c673-4c77-9e69-1c80029efb07",
   "metadata": {},
   "outputs": [
    {
     "name": "stdout",
     "output_type": "stream",
     "text": [
      "('Monday', 'Tuesday', 'Wednesday', 'Thursday', 'Friday') 2099202490752\n",
      "['Monday', 'Tuesday', 'Wednesday', 'Thursday', 'Friday'] 2099201515264\n",
      "('Monday', 'Saturday', 'Wednesday', 'Thursday', 'Friday') 2099202215504\n",
      "['Monday', 'Saturday', 'Wednesday', 'Thursday', 'Friday'] 2099201515264\n"
     ]
    }
   ],
   "source": [
    "# update operation on a tuple\n",
    "tuple1 = (\"Monday\", \"Tuesday\", \"Wednesday\", \"Thursday\", \"Friday\")\n",
    "# tuple1[1] = 'Saturday'\n",
    "list1 = list(tuple1)\n",
    "print (tuple1, id(tuple1))\n",
    "print (list1, id(list1))\n",
    "list1[1] = 'Saturday'\n",
    "tuple1 = tuple(list1)\n",
    "print (tuple1, id(tuple1))\n",
    "print (list1, id(list1))"
   ]
  },
  {
   "cell_type": "code",
   "execution_count": 19,
   "id": "0ba9e4cc-0dfc-453b-8665-cba6bd2cc8ce",
   "metadata": {},
   "outputs": [
    {
     "name": "stdout",
     "output_type": "stream",
     "text": [
      "('Monday', 'Tuesday', 'Wednesday', 'Thursday', 'Friday') 2099202390624\n",
      "('Friday', 'Monday', 'Thursday', 'Tuesday', 'Wednesday') 2099202490752\n"
     ]
    }
   ],
   "source": [
    "# sorting on a tuple\n",
    "tuple1 = (\"Monday\", \"Tuesday\", \"Wednesday\", \"Thursday\", \"Friday\")\n",
    "print (tuple1, id(tuple1))\n",
    "tuple2 = tuple(sorted(tuple1))\n",
    "print (tuple2, id(tuple2))"
   ]
  },
  {
   "cell_type": "code",
   "execution_count": 20,
   "id": "4c278e74-b4b1-4a3c-bf7e-743d717dc2c5",
   "metadata": {},
   "outputs": [
    {
     "name": "stdout",
     "output_type": "stream",
     "text": [
      "2 0\n"
     ]
    }
   ],
   "source": [
    "tuple1 = ('Mango', 'Pineapple', 'Coconut', 'Banana', 'Pineapple', 'Coconut', 'Banana', 'Lime')\n",
    "print (tuple1.count('Pineapple'), tuple1.count('Lemon'))"
   ]
  },
  {
   "cell_type": "code",
   "execution_count": 22,
   "id": "0afe52e4-5748-42e8-a5dc-61c1a1623b08",
   "metadata": {},
   "outputs": [
    {
     "name": "stdout",
     "output_type": "stream",
     "text": [
      "1\n",
      "1 4\n"
     ]
    },
    {
     "ename": "ValueError",
     "evalue": "tuple.index(x): x not in tuple",
     "output_type": "error",
     "traceback": [
      "\u001b[1;31m---------------------------------------------------------------------------\u001b[0m",
      "\u001b[1;31mValueError\u001b[0m                                Traceback (most recent call last)",
      "Cell \u001b[1;32mIn[22], line 4\u001b[0m\n\u001b[0;32m      2\u001b[0m \u001b[38;5;28mprint\u001b[39m (tuple1\u001b[38;5;241m.\u001b[39mindex(\u001b[38;5;124m\"\u001b[39m\u001b[38;5;124mPineapple\u001b[39m\u001b[38;5;124m\"\u001b[39m))\n\u001b[0;32m      3\u001b[0m \u001b[38;5;28mprint\u001b[39m (tuple1\u001b[38;5;241m.\u001b[39mindex(\u001b[38;5;124m\"\u001b[39m\u001b[38;5;124mPineapple\u001b[39m\u001b[38;5;124m\"\u001b[39m, \u001b[38;5;241m0\u001b[39m), tuple1\u001b[38;5;241m.\u001b[39mindex(\u001b[38;5;124m\"\u001b[39m\u001b[38;5;124mPineapple\u001b[39m\u001b[38;5;124m\"\u001b[39m, \u001b[38;5;241m2\u001b[39m))\n\u001b[1;32m----> 4\u001b[0m \u001b[38;5;28mprint\u001b[39m (\u001b[43mtuple1\u001b[49m\u001b[38;5;241;43m.\u001b[39;49m\u001b[43mindex\u001b[49m\u001b[43m(\u001b[49m\u001b[38;5;124;43m\"\u001b[39;49m\u001b[38;5;124;43mPineapple\u001b[39;49m\u001b[38;5;124;43m\"\u001b[39;49m\u001b[43m,\u001b[49m\u001b[43m \u001b[49m\u001b[38;5;241;43m5\u001b[39;49m\u001b[43m)\u001b[49m)\n",
      "\u001b[1;31mValueError\u001b[0m: tuple.index(x): x not in tuple"
     ]
    }
   ],
   "source": [
    "tuple1 = ('Mango', 'Pineapple', 'Coconut', 'Banana', 'Pineapple', 'Coconut', 'Banana', 'Lime')\n",
    "print (tuple1.index(\"Pineapple\"))\n",
    "print (tuple1.index(\"Pineapple\", 0), tuple1.index(\"Pineapple\", 2))\n",
    "print (tuple1.index(\"Pineapple\", 5))"
   ]
  },
  {
   "cell_type": "markdown",
   "id": "7a02fd4a-5ced-4915-9bd1-ded9ae0872a7",
   "metadata": {},
   "source": [
    "### Dictionary Processsing"
   ]
  },
  {
   "cell_type": "code",
   "execution_count": 25,
   "id": "dfef79b0-466f-4f82-a1cd-7f5068424590",
   "metadata": {},
   "outputs": [
    {
     "name": "stdout",
     "output_type": "stream",
     "text": [
      "{'apple': 'red', 'pineapple': 'yellow', 'mango': 'red', 'orange': 'orange', 'lime': 'green'} 5 <class 'dict'> 2099205194432\n",
      "dict_keys(['apple', 'pineapple', 'mango', 'orange', 'lime'])\n",
      "dict_values(['red', 'yellow', 'red', 'orange', 'green'])\n",
      "dict_items([('apple', 'red'), ('pineapple', 'yellow'), ('mango', 'red'), ('orange', 'orange'), ('lime', 'green')])\n"
     ]
    }
   ],
   "source": [
    "dict1 = {\"apple\":\"red\", \"pineapple\":\"yellow\", \"mango\":\"green\", \"orange\":\"orange\", \n",
    "         \"lime\":\"green\", \"mango\":\"red\"}\n",
    "print (dict1, len(dict1), type(dict1), id(dict1))\n",
    "print (dict1.keys())     # returns list of keys\n",
    "print (dict1.values())   # returns list of values\n",
    "print (dict1.items())    # returns list of tuples"
   ]
  },
  {
   "cell_type": "code",
   "execution_count": 27,
   "id": "7da71c8d-8992-4dd7-aded-1a07b3627ffa",
   "metadata": {},
   "outputs": [
    {
     "name": "stdout",
     "output_type": "stream",
     "text": [
      "('apple', 'red')\n",
      "apple red\n",
      "('pineapple', 'yellow')\n",
      "pineapple yellow\n",
      "('mango', 'red')\n",
      "mango red\n",
      "('orange', 'orange')\n",
      "orange orange\n",
      "('lime', 'green')\n",
      "lime green\n"
     ]
    }
   ],
   "source": [
    "for var1 in dict1.items():\n",
    "    print (var1)\n",
    "    print (var1[0], var1[1])"
   ]
  },
  {
   "cell_type": "code",
   "execution_count": 28,
   "id": "2e4f30d6-a12c-479a-9d6b-02090313fa04",
   "metadata": {},
   "outputs": [
    {
     "name": "stdout",
     "output_type": "stream",
     "text": [
      "apple red\n",
      "pineapple yellow\n",
      "mango red\n",
      "orange orange\n",
      "lime green\n"
     ]
    }
   ],
   "source": [
    "for key_var, value_var in dict1.items():\n",
    "    print (key_var, value_var)"
   ]
  },
  {
   "cell_type": "code",
   "execution_count": 38,
   "id": "586ae621-216a-43d7-a341-987a2bd9b7e2",
   "metadata": {},
   "outputs": [
    {
     "name": "stdout",
     "output_type": "stream",
     "text": [
      "{'apple': 'red', 'pineapple': 'yellow', 'mango': 'green', 'orange': 'orange', 'lime': 'green'} 5 <class 'dict'> 2099205627392\n",
      "green\n",
      "None\n",
      "Not Available\n",
      "green\n",
      "green\n"
     ]
    },
    {
     "ename": "KeyError",
     "evalue": "'coconut'",
     "output_type": "error",
     "traceback": [
      "\u001b[1;31m---------------------------------------------------------------------------\u001b[0m",
      "\u001b[1;31mKeyError\u001b[0m                                  Traceback (most recent call last)",
      "Cell \u001b[1;32mIn[38], line 8\u001b[0m\n\u001b[0;32m      6\u001b[0m \u001b[38;5;28mprint\u001b[39m (dict1\u001b[38;5;241m.\u001b[39mget(\u001b[38;5;124m\"\u001b[39m\u001b[38;5;124mmango\u001b[39m\u001b[38;5;124m\"\u001b[39m, \u001b[38;5;124m\"\u001b[39m\u001b[38;5;124mNot Available\u001b[39m\u001b[38;5;124m\"\u001b[39m))\n\u001b[0;32m      7\u001b[0m \u001b[38;5;28mprint\u001b[39m (dict1[\u001b[38;5;124m'\u001b[39m\u001b[38;5;124mmango\u001b[39m\u001b[38;5;124m'\u001b[39m])\n\u001b[1;32m----> 8\u001b[0m \u001b[38;5;28mprint\u001b[39m (\u001b[43mdict1\u001b[49m\u001b[43m[\u001b[49m\u001b[38;5;124;43m'\u001b[39;49m\u001b[38;5;124;43mcoconut\u001b[39;49m\u001b[38;5;124;43m'\u001b[39;49m\u001b[43m]\u001b[49m)\n",
      "\u001b[1;31mKeyError\u001b[0m: 'coconut'"
     ]
    }
   ],
   "source": [
    "dict1 = {\"apple\":\"red\", \"pineapple\":\"yellow\", \"mango\":\"green\", \"orange\":\"orange\", \"lime\":\"green\"}\n",
    "print (dict1, len(dict1), type(dict1), id(dict1))\n",
    "print (dict1.get(\"mango\"))\n",
    "print (dict1.get(\"coconut\"))\n",
    "print (dict1.get(\"coconut\", \"Not Available\"))\n",
    "print (dict1.get(\"mango\", \"Not Available\"))\n",
    "print (dict1['mango'])\n",
    "print (dict1['coconut'])"
   ]
  },
  {
   "cell_type": "code",
   "execution_count": 40,
   "id": "f6a506b2-03f8-4168-89a6-e2a2f92068a4",
   "metadata": {},
   "outputs": [
    {
     "name": "stdout",
     "output_type": "stream",
     "text": [
      "{'apple': 'red', 'pineapple': 'yellow', 'mango': 'green', 'orange': 'orange'} 4 <class 'dict'> 2099205624448\n",
      "{'apple': 'red', 'pineapple': 'yellow', 'mango': 'green', 'orange': 'orange', 'banana': 'yellow'} 5 <class 'dict'> 2099205624448\n",
      "{'apple': 'red', 'pineapple': 'yellow', 'mango': 'red', 'orange': 'orange', 'banana': 'yellow'} 5 <class 'dict'> 2099205624448\n"
     ]
    }
   ],
   "source": [
    "# insert and update operations on a dictionary\n",
    "dict1 = {\"apple\":\"red\", \"pineapple\":\"yellow\", \"mango\":\"green\", \"orange\":\"orange\"}\n",
    "print (dict1, len(dict1), type(dict1), id(dict1))\n",
    "dict1['banana'] = 'yellow'    # insert operation\n",
    "print (dict1, len(dict1), type(dict1), id(dict1))\n",
    "dict1['mango'] = 'red'    # update operation\n",
    "print (dict1, len(dict1), type(dict1), id(dict1))\n"
   ]
  },
  {
   "cell_type": "code",
   "execution_count": 41,
   "id": "49c1d3b6-5a6f-44dc-aa91-3d1e36b07ca4",
   "metadata": {},
   "outputs": [
    {
     "name": "stdout",
     "output_type": "stream",
     "text": [
      "{'apple': 'red', 'pineapple': 'yellow', 'mango': 'green', 'orange': 'orange'} 4 <class 'dict'> 2099205600512\n",
      "{'apple': 'red', 'pineapple': 'yellow', 'mango': 'green', 'orange': 'orange'} 4 <class 'dict'> 2099205600512\n",
      "{'apple': 'red', 'pineapple': 'yellow', 'mango': 'green', 'orange': 'orange'} 4 <class 'dict'> 2099205600512\n",
      "{'apple': 'red', 'pineapple': 'yellow', 'mango': 'green', 'orange': 'orange', 'banana': 'yellow'} 5 <class 'dict'> 2099205600512\n"
     ]
    }
   ],
   "source": [
    "dict1 = {\"apple\":\"red\", \"pineapple\":\"yellow\", \"mango\":\"green\", \"orange\":\"orange\"}\n",
    "print (dict1, len(dict1), type(dict1), id(dict1))\n",
    "dict1.setdefault(\"apple\", \"deep red\")\n",
    "print (dict1, len(dict1), type(dict1), id(dict1))\n",
    "dict1.setdefault(\"mango\", \"red\")\n",
    "print (dict1, len(dict1), type(dict1), id(dict1))\n",
    "dict1.setdefault(\"banana\", \"yellow\")\n",
    "print (dict1, len(dict1), type(dict1), id(dict1))"
   ]
  },
  {
   "cell_type": "code",
   "execution_count": 42,
   "id": "3efdb02d-88aa-439d-bae1-01c96c29ed01",
   "metadata": {},
   "outputs": [
    {
     "name": "stdout",
     "output_type": "stream",
     "text": [
      "{'apple': 'red', 'pineapple': 'yellow', 'mango': 'green', 'orange': 'orange'} 4 <class 'dict'> 2099206186176\n",
      "yellow\n",
      "{'apple': 'red', 'mango': 'green', 'orange': 'orange'} 3 <class 'dict'> 2099206186176\n",
      "green\n",
      "{'apple': 'red', 'orange': 'orange'} 2 <class 'dict'> 2099206186176\n"
     ]
    },
    {
     "ename": "KeyError",
     "evalue": "'mango'",
     "output_type": "error",
     "traceback": [
      "\u001b[1;31m---------------------------------------------------------------------------\u001b[0m",
      "\u001b[1;31mKeyError\u001b[0m                                  Traceback (most recent call last)",
      "Cell \u001b[1;32mIn[42], line 8\u001b[0m\n\u001b[0;32m      6\u001b[0m \u001b[38;5;28mprint\u001b[39m (dict1\u001b[38;5;241m.\u001b[39mpop(\u001b[38;5;124m'\u001b[39m\u001b[38;5;124mmango\u001b[39m\u001b[38;5;124m'\u001b[39m))\n\u001b[0;32m      7\u001b[0m \u001b[38;5;28mprint\u001b[39m (dict1, \u001b[38;5;28mlen\u001b[39m(dict1), \u001b[38;5;28mtype\u001b[39m(dict1), \u001b[38;5;28mid\u001b[39m(dict1))\n\u001b[1;32m----> 8\u001b[0m \u001b[38;5;28mprint\u001b[39m (\u001b[43mdict1\u001b[49m\u001b[38;5;241;43m.\u001b[39;49m\u001b[43mpop\u001b[49m\u001b[43m(\u001b[49m\u001b[38;5;124;43m'\u001b[39;49m\u001b[38;5;124;43mmango\u001b[39;49m\u001b[38;5;124;43m'\u001b[39;49m\u001b[43m)\u001b[49m)\n\u001b[0;32m      9\u001b[0m \u001b[38;5;28mprint\u001b[39m (dict1, \u001b[38;5;28mlen\u001b[39m(dict1), \u001b[38;5;28mtype\u001b[39m(dict1), \u001b[38;5;28mid\u001b[39m(dict1))\n",
      "\u001b[1;31mKeyError\u001b[0m: 'mango'"
     ]
    }
   ],
   "source": [
    "# delete operation on dictionary\n",
    "dict1 = {\"apple\":\"red\", \"pineapple\":\"yellow\", \"mango\":\"green\", \"orange\":\"orange\"}\n",
    "print (dict1, len(dict1), type(dict1), id(dict1))\n",
    "print (dict1.pop('pineapple'))\n",
    "print (dict1, len(dict1), type(dict1), id(dict1))\n",
    "print (dict1.pop('mango'))\n",
    "print (dict1, len(dict1), type(dict1), id(dict1))\n",
    "print (dict1.pop('mango'))\n",
    "print (dict1, len(dict1), type(dict1), id(dict1))"
   ]
  },
  {
   "cell_type": "code",
   "execution_count": 43,
   "id": "b2fa441e-af1b-4c60-ad05-d2373fd17de8",
   "metadata": {},
   "outputs": [
    {
     "name": "stdout",
     "output_type": "stream",
     "text": [
      "{'apple': 'red', 'pineapple': 'yellow', 'mango': 'green', 'orange': 'orange'} 4 <class 'dict'> 2099206681664\n",
      "('orange', 'orange')\n",
      "{'apple': 'red', 'pineapple': 'yellow', 'mango': 'green'} 3 <class 'dict'> 2099206681664\n",
      "('mango', 'green')\n",
      "{'apple': 'red', 'pineapple': 'yellow'} 2 <class 'dict'> 2099206681664\n",
      "('pineapple', 'yellow')\n",
      "{'apple': 'red'} 1 <class 'dict'> 2099206681664\n"
     ]
    }
   ],
   "source": [
    "dict1 = {\"apple\":\"red\", \"pineapple\":\"yellow\", \"mango\":\"green\", \"orange\":\"orange\"}\n",
    "print (dict1, len(dict1), type(dict1), id(dict1))\n",
    "print (dict1.popitem())\n",
    "print (dict1, len(dict1), type(dict1), id(dict1))\n",
    "print (dict1.popitem())\n",
    "print (dict1, len(dict1), type(dict1), id(dict1))\n",
    "print (dict1.popitem())\n",
    "print (dict1, len(dict1), type(dict1), id(dict1))"
   ]
  },
  {
   "cell_type": "code",
   "execution_count": 44,
   "id": "78576037-5ab6-4900-8e4b-4e6a108e0299",
   "metadata": {},
   "outputs": [
    {
     "name": "stdout",
     "output_type": "stream",
     "text": [
      "{'apple': 'red', 'pineapple': 'yellow', 'mango': 'green', 'orange': 'orange'} 4 <class 'dict'> 2099206677312\n",
      "{} 0 <class 'dict'> 2099206677312\n"
     ]
    }
   ],
   "source": [
    "dict1 = {\"apple\":\"red\", \"pineapple\":\"yellow\", \"mango\":\"green\", \"orange\":\"orange\"}\n",
    "print (dict1, len(dict1), type(dict1), id(dict1))\n",
    "dict1.clear()\n",
    "print (dict1, len(dict1), type(dict1), id(dict1))"
   ]
  },
  {
   "cell_type": "code",
   "execution_count": 45,
   "id": "841f8e88-bf07-41c2-bdbe-da4f3115fc95",
   "metadata": {},
   "outputs": [
    {
     "name": "stdout",
     "output_type": "stream",
     "text": [
      "{'apple': 'red', 'pineapple': 'yellow', 'mango': 'green', 'orange': 'orange'} 4 <class 'dict'> 2099206678528\n"
     ]
    },
    {
     "ename": "NameError",
     "evalue": "name 'dict1' is not defined",
     "output_type": "error",
     "traceback": [
      "\u001b[1;31m---------------------------------------------------------------------------\u001b[0m",
      "\u001b[1;31mNameError\u001b[0m                                 Traceback (most recent call last)",
      "Cell \u001b[1;32mIn[45], line 4\u001b[0m\n\u001b[0;32m      2\u001b[0m \u001b[38;5;28mprint\u001b[39m (dict1, \u001b[38;5;28mlen\u001b[39m(dict1), \u001b[38;5;28mtype\u001b[39m(dict1), \u001b[38;5;28mid\u001b[39m(dict1))\n\u001b[0;32m      3\u001b[0m \u001b[38;5;28;01mdel\u001b[39;00m dict1\n\u001b[1;32m----> 4\u001b[0m \u001b[38;5;28mprint\u001b[39m (\u001b[43mdict1\u001b[49m, \u001b[38;5;28mlen\u001b[39m(dict1), \u001b[38;5;28mtype\u001b[39m(dict1), \u001b[38;5;28mid\u001b[39m(dict1))\n",
      "\u001b[1;31mNameError\u001b[0m: name 'dict1' is not defined"
     ]
    }
   ],
   "source": [
    "dict1 = {\"apple\":\"red\", \"pineapple\":\"yellow\", \"mango\":\"green\", \"orange\":\"orange\"}\n",
    "print (dict1, len(dict1), type(dict1), id(dict1))\n",
    "del dict1\n",
    "print (dict1, len(dict1), type(dict1), id(dict1))"
   ]
  },
  {
   "cell_type": "code",
   "execution_count": 47,
   "id": "eb616783-dec6-42cf-99b3-e8292fc94e0d",
   "metadata": {},
   "outputs": [
    {
     "name": "stdout",
     "output_type": "stream",
     "text": [
      "{'apple': 'red', 'pineapple': 'yellow'}\n",
      "{'mango': 'green', 'orange': 'orange', 'lime': 'green'}\n",
      "{'apple': 'red', 'pineapple': 'yellow'}\n",
      "{'mango': 'green', 'orange': 'orange', 'lime': 'green', 'apple': 'red', 'pineapple': 'yellow'}\n"
     ]
    }
   ],
   "source": [
    "# concatenation of dictionaries\n",
    "fruits1 = {\"apple\":\"red\", \"pineapple\":\"yellow\"}\n",
    "print (fruits1)\n",
    "fruits2 = {\"mango\":\"green\", \"orange\":\"orange\", \"lime\":\"green\"}\n",
    "print (fruits2)\n",
    "fruits2.update(fruits1)\n",
    "print (fruits1)\n",
    "print (fruits2)"
   ]
  },
  {
   "cell_type": "code",
   "execution_count": 47,
   "id": "7293b1c5",
   "metadata": {},
   "outputs": [
    {
     "name": "stdout",
     "output_type": "stream",
     "text": [
      "{'apple': 'red', 'pineapple': 'yellow'}\n",
      "{'mango': 'green', 'orange': 'orange', 'lime': 'green'}\n",
      "{'apple': 'red', 'pineapple': 'yellow'}\n",
      "{'mango': 'green', 'orange': 'orange', 'lime': 'green', 'apple': 'red', 'pineapple': 'yellow'}\n"
     ]
    }
   ],
   "source": [
    "# concatenation of dictionaries\n",
    "fruits1 = {\"apple\":\"red\", \"pineapple\":\"yellow\"}\n",
    "print (fruits1)\n",
    "fruits2 = {\"mango\":\"green\", \"orange\":\"orange\", \"lime\":\"green\"}\n",
    "print (fruits2)\n",
    "fruits2.update(fruits1)\n",
    "print (fruits1)\n",
    "print (fruits2)"
   ]
  },
  {
   "cell_type": "code",
   "execution_count": 61,
   "id": "456aee13-de29-4234-a984-e93620dc25ab",
   "metadata": {},
   "outputs": [
    {
     "name": "stdout",
     "output_type": "stream",
     "text": [
      "{'mango': 900, 'pineapple': 900, 'cherry': 900, 'lime': 900}\n"
     ]
    }
   ],
   "source": [
    "mykeys = [\"mango\", 'pineapple', \"cherry\", \"lime\"]\n",
    "price = 900\n",
    "dict1 = dict.fromkeys(mykeys, price)\n",
    "print (dict1)"
   ]
  },
  {
   "cell_type": "code",
   "execution_count": 53,
   "id": "56873fd2-ed29-419d-bc2b-c563bb5bbae8",
   "metadata": {},
   "outputs": [
    {
     "name": "stdout",
     "output_type": "stream",
     "text": [
      "<zip object at 0x000001E8C2786E40>\n",
      "[('mango', 100), ('pineapple', 300), ('cherry', 500), ('lime', 200), ('banana', 700)]\n",
      "(('mango', 100), ('pineapple', 300), ('cherry', 500), ('lime', 200), ('banana', 700))\n",
      "{'mango': 100, 'pineapple': 300, 'cherry': 500, 'lime': 200, 'banana': 700}\n",
      "{'mango': 100, 'pineapple': 300, 'cherry': 500, 'lime': 200, 'banana': 700}\n"
     ]
    }
   ],
   "source": [
    "fruits = [\"mango\", 'pineapple', \"cherry\", \"lime\", \"banana\"]\n",
    "prices = [100, 300, 500, 200, 700, 900]\n",
    "print (zip(fruits, prices))\n",
    "print (list(zip(fruits, prices)))\n",
    "print (tuple(zip(fruits, prices)))\n",
    "print (dict(zip(fruits, prices)))\n",
    "print (dict(list(zip(fruits, prices))))"
   ]
  },
  {
   "cell_type": "code",
   "execution_count": 54,
   "id": "8477eff1-fdee-473b-b896-be079bcbcf96",
   "metadata": {},
   "outputs": [
    {
     "name": "stdout",
     "output_type": "stream",
     "text": [
      "March\n",
      "August\n",
      "December\n",
      "Invalid Month No.\n"
     ]
    }
   ],
   "source": [
    "def switch_case_demo(month_no):\n",
    "    switcher = {1:\"January\",\n",
    "                2:\"February\",\n",
    "                3:\"March\",\n",
    "                4:\"April\",\n",
    "                5:\"May\",\n",
    "                6:\"June\",\n",
    "                7:\"July\",\n",
    "                8:\"August\",\n",
    "                9:\"September\",\n",
    "                10:\"October\",\n",
    "                11:\"November\",\n",
    "                12:\"December\"}\n",
    "    return switcher.get(month_no, \"Invalid Month No.\")\n",
    "\n",
    "print (switch_case_demo(3))\n",
    "print (switch_case_demo(8))\n",
    "print (switch_case_demo(12))\n",
    "print (switch_case_demo(13))"
   ]
  },
  {
   "cell_type": "code",
   "execution_count": 59,
   "id": "d00ed096-9317-4c99-a456-a9b6745e0bf6",
   "metadata": {},
   "outputs": [
    {
     "name": "stdout",
     "output_type": "stream",
     "text": [
      "{'apple': 'red', 'pineapple': 'yellow', 'mango': 'green', 'orange': 'orange'} 2099206506752\n",
      "{'apple': 'red', 'pineapple': 'yellow', 'mango': 'green', 'orange': 'orange'} 2099206709504\n",
      "{'apple': 'red', 'pineapple': 'yellow', 'mango': 'red', 'orange': 'orange'} 2099206506752\n",
      "{'apple': 'red', 'pineapple': 'yellow', 'mango': 'green', 'orange': 'orange'} 2099206709504\n"
     ]
    }
   ],
   "source": [
    "dict1 = {\"apple\":\"red\", \"pineapple\":\"yellow\", \"mango\":\"green\", \"orange\":\"orange\"}\n",
    "print (dict1, id(dict1))\n",
    "dict2 = dict1.copy()\n",
    "print (dict2, id(dict2))\n",
    "dict1['mango'] = \"red\"\n",
    "print (dict1, id(dict1))\n",
    "print (dict2, id(dict2))"
   ]
  },
  {
   "cell_type": "markdown",
   "id": "e67862db-3182-49f2-abd7-4765e6ff9951",
   "metadata": {},
   "source": [
    "### Set Processsing"
   ]
  },
  {
   "cell_type": "code",
   "execution_count": 62,
   "id": "739487ab-ff01-417c-b12f-ea5d637ea486",
   "metadata": {},
   "outputs": [
    {
     "name": "stdout",
     "output_type": "stream",
     "text": [
      "['Amitava', True, 38.5, 70000, 'Chennai', True, 38.5, 70000, 'Chennai', True, 38.5, 70000, 'Chennai', True, 38.5]\n",
      "{True, 38.5, 'Amitava', 70000, 'Chennai'}\n"
     ]
    }
   ],
   "source": [
    "# forming a set from a list\n",
    "list1 = ['Amitava', True, 38.5, 70000, \"Chennai\", True, 38.5, 70000, \"Chennai\", True, 38.5,\n",
    "         70000, \"Chennai\", True, 38.5]\n",
    "print (list1)\n",
    "set1 = set(list1)\n",
    "print (set1)"
   ]
  },
  {
   "cell_type": "code",
   "execution_count": 63,
   "id": "c0109c0a-a1aa-4852-89fd-c1a10ffe5c63",
   "metadata": {},
   "outputs": [
    {
     "name": "stdout",
     "output_type": "stream",
     "text": [
      "('Amitava', True, 38.5, 70000, 'Chennai', True, 38.5, 70000, 'Chennai', True, 38.5, 70000, 'Chennai', True, 38.5)\n",
      "{True, 38.5, 'Amitava', 70000, 'Chennai'}\n"
     ]
    }
   ],
   "source": [
    "# forming a set from a tuple\n",
    "tuple1 = ('Amitava', True, 38.5, 70000, \"Chennai\", True, 38.5, 70000, \"Chennai\", True, 38.5,\n",
    "         70000, \"Chennai\", True, 38.5)\n",
    "print (tuple1)\n",
    "set1 = set(tuple1)\n",
    "print (set1)"
   ]
  },
  {
   "cell_type": "code",
   "execution_count": 64,
   "id": "ef87e22a-3d3f-4187-9d2c-d0ad36ddefb9",
   "metadata": {},
   "outputs": [
    {
     "name": "stdout",
     "output_type": "stream",
     "text": [
      "{70000, True, 38.5, 'Amitava', 'Chennai'}\n"
     ]
    }
   ],
   "source": [
    "# forming a set directly\n",
    "set1 = {'Amitava', True, 38.5, 70000, \"Chennai\", True, 38.5, 70000, \"Chennai\", True, 38.5,\n",
    "        70000, \"Chennai\", True, 38.5}\n",
    "print (set1)"
   ]
  },
  {
   "cell_type": "markdown",
   "id": "981ba40d-af2d-4759-8bea-de565edecce4",
   "metadata": {},
   "source": [
    "#### set operations: union, intersection, set difference, symmetric difference"
   ]
  },
  {
   "cell_type": "code",
   "execution_count": 69,
   "id": "5e197e95-b1a4-442e-aa15-a5f2697bfc7f",
   "metadata": {},
   "outputs": [
    {
     "name": "stdout",
     "output_type": "stream",
     "text": [
      "{'cobra', 'python', 'viper'}\n",
      "{'c++', 'python', 'java'}\n",
      "{'cobra', 'python', 'viper', 'c++', 'java'}\n",
      "{'cobra', 'python', 'viper', 'c++', 'java'}\n"
     ]
    }
   ],
   "source": [
    "# union operations\n",
    "snakes = {'viper', 'python', 'cobra'}\n",
    "languages = {'java', 'c++', 'python'}\n",
    "print (snakes)\n",
    "print (languages)\n",
    "result = snakes.union(languages)\n",
    "print (result)\n",
    "result = snakes | languages\n",
    "print (result)"
   ]
  },
  {
   "cell_type": "code",
   "execution_count": 72,
   "id": "da62066f-3df8-4e64-9a75-c96f08ad481c",
   "metadata": {},
   "outputs": [
    {
     "name": "stdout",
     "output_type": "stream",
     "text": [
      "{'cobra', 'python', 'viper'}\n",
      "{'c++', 'python', 'java'}\n",
      "{'python'}\n",
      "{'python'}\n",
      "{'cobra', 'python', 'viper'}\n",
      "{'c++', 'python', 'java'}\n"
     ]
    }
   ],
   "source": [
    "# intersection operations\n",
    "snakes = {'viper', 'python', 'cobra'}\n",
    "languages = {'java', 'c++', 'python'}\n",
    "print (snakes)\n",
    "print (languages)\n",
    "result = snakes.intersection(languages)\n",
    "print (result)\n",
    "result = snakes & languages\n",
    "print (result)\n",
    "print (snakes)\n",
    "print (languages)"
   ]
  },
  {
   "cell_type": "code",
   "execution_count": 74,
   "id": "27ccfe87-5117-4152-a246-0943255863aa",
   "metadata": {},
   "outputs": [
    {
     "name": "stdout",
     "output_type": "stream",
     "text": [
      "{'cobra', 'python', 'viper'}\n",
      "{'c++', 'python', 'java'}\n",
      "{'python'}\n",
      "{'c++', 'python', 'java'}\n"
     ]
    }
   ],
   "source": [
    "# intersection operations\n",
    "snakes = {'viper', 'python', 'cobra'}\n",
    "languages = {'java', 'c++', 'python'}\n",
    "print (snakes)\n",
    "print (languages)\n",
    "snakes.intersection_update(languages)\n",
    "print (snakes)\n",
    "print (languages)"
   ]
  },
  {
   "cell_type": "code",
   "execution_count": 75,
   "id": "355ca572-c7ed-4a0c-ab64-00632849ac38",
   "metadata": {},
   "outputs": [
    {
     "name": "stdout",
     "output_type": "stream",
     "text": [
      "{'cobra', 'python', 'viper'}\n",
      "{'c++', 'python', 'java'}\n",
      "{'cobra', 'viper'}\n",
      "{'cobra', 'viper'}\n",
      "{'cobra', 'python', 'viper'}\n",
      "{'c++', 'python', 'java'}\n"
     ]
    }
   ],
   "source": [
    "# set difference operations\n",
    "snakes = {'viper', 'python', 'cobra'}\n",
    "languages = {'java', 'c++', 'python'}\n",
    "print (snakes)\n",
    "print (languages)\n",
    "result = snakes.difference(languages)\n",
    "print (result)\n",
    "result = snakes - languages\n",
    "print (result)\n",
    "print (snakes)\n",
    "print (languages)"
   ]
  },
  {
   "cell_type": "code",
   "execution_count": 77,
   "id": "0d2b00f9-1c7a-4429-9fdc-96edd7d7242d",
   "metadata": {},
   "outputs": [
    {
     "name": "stdout",
     "output_type": "stream",
     "text": [
      "{'cobra', 'python', 'viper'}\n",
      "{'c++', 'python', 'java'}\n",
      "{'cobra', 'viper'}\n",
      "{'c++', 'python', 'java'}\n"
     ]
    }
   ],
   "source": [
    "# set difference operations\n",
    "snakes = {'viper', 'python', 'cobra'}\n",
    "languages = {'java', 'c++', 'python'}\n",
    "print (snakes)\n",
    "print (languages)\n",
    "snakes.difference_update(languages)\n",
    "print (snakes)\n",
    "print (languages)"
   ]
  },
  {
   "cell_type": "code",
   "execution_count": 78,
   "id": "26528caf-65d5-4146-a472-66ba62f554c4",
   "metadata": {},
   "outputs": [
    {
     "name": "stdout",
     "output_type": "stream",
     "text": [
      "{'cobra', 'python', 'viper'}\n",
      "{'c++', 'python', 'java'}\n",
      "{'cobra', 'viper', 'c++', 'java'}\n",
      "{'cobra', 'viper', 'c++', 'java'}\n",
      "{'cobra', 'python', 'viper'}\n",
      "{'c++', 'python', 'java'}\n"
     ]
    }
   ],
   "source": [
    "# set symmetric difference operations\n",
    "snakes = {'viper', 'python', 'cobra'}\n",
    "languages = {'java', 'c++', 'python'}\n",
    "print (snakes)\n",
    "print (languages)\n",
    "result = snakes.symmetric_difference(languages)\n",
    "print (result)\n",
    "result = snakes ^ languages\n",
    "print (result)\n",
    "print (snakes)\n",
    "print (languages)"
   ]
  },
  {
   "cell_type": "code",
   "execution_count": 80,
   "id": "06e75073-481d-42f3-b38f-7ff4c752b69b",
   "metadata": {},
   "outputs": [
    {
     "name": "stdout",
     "output_type": "stream",
     "text": [
      "{'cobra', 'python', 'viper'}\n",
      "{'c++', 'python', 'java'}\n",
      "{'cobra', 'viper', 'c++', 'java'}\n",
      "{'c++', 'python', 'java'}\n"
     ]
    }
   ],
   "source": [
    "# set symmetric difference operations\n",
    "snakes = {'viper', 'python', 'cobra'}\n",
    "languages = {'java', 'c++', 'python'}\n",
    "print (snakes)\n",
    "print (languages)\n",
    "snakes.symmetric_difference_update(languages)\n",
    "print (snakes)\n",
    "print (languages)"
   ]
  },
  {
   "cell_type": "code",
   "execution_count": 81,
   "id": "7a0c74b2-069c-4a3e-971a-1ca06841932b",
   "metadata": {},
   "outputs": [
    {
     "name": "stdout",
     "output_type": "stream",
     "text": [
      "False True False\n",
      "False False True\n",
      "True False False\n"
     ]
    }
   ],
   "source": [
    "set1 = {100, 200, 300}\n",
    "set2 = {400, 500, 600, 700, 800}\n",
    "set3 = {600, 700, 800}\n",
    "print (set1.issuperset(set2), set2.issuperset(set3), set3.issuperset(set2))\n",
    "print (set1.issubset(set2), set2.issubset(set3), set3.issubset(set2))\n",
    "print (set1.isdisjoint(set2), set2.isdisjoint(set3), set3.isdisjoint(set2))"
   ]
  },
  {
   "cell_type": "code",
   "execution_count": 83,
   "id": "af5f7ae0-21a6-4e08-879b-efeeb7df25c8",
   "metadata": {},
   "outputs": [
    {
     "name": "stdout",
     "output_type": "stream",
     "text": [
      "{200, 100, 300} 2099216011264 {200, 100, 300} 2099216011488\n",
      "{200, 100, 300} 2099216011264 {100, 300} 2099216011488\n"
     ]
    }
   ],
   "source": [
    "set1 = {100, 200, 300}\n",
    "set2 = set1.copy()\n",
    "print (set1, id(set1), set2, id(set2))\n",
    "set2.pop()\n",
    "print (set1, id(set1), set2, id(set2))"
   ]
  },
  {
   "cell_type": "code",
   "execution_count": 86,
   "id": "892c5412-64dd-4998-8dc0-08cb30a3cadf",
   "metadata": {},
   "outputs": [
    {
     "name": "stdout",
     "output_type": "stream",
     "text": [
      "{200, 100, 300}\n",
      "{200, 100, 400, 300}\n",
      "{100, 200, 300, 400, 700}\n",
      "{800, 100, 200, 300, 400, 700}\n",
      "{800, 100, 200, 300, 400, 700}\n"
     ]
    }
   ],
   "source": [
    "# insert operation on a set\n",
    "set1 = {100, 200, 300}\n",
    "print (set1)\n",
    "set1.add(400)\n",
    "print (set1)\n",
    "set1.add(700)\n",
    "print (set1)\n",
    "set1.add(800)\n",
    "print (set1)\n",
    "set1.add(400)\n",
    "print (set1)"
   ]
  },
  {
   "cell_type": "code",
   "execution_count": 88,
   "id": "51c94212-b8cb-4318-b59b-b58e311776b7",
   "metadata": {},
   "outputs": [
    {
     "name": "stdout",
     "output_type": "stream",
     "text": [
      "{400, 700, 100, 500, 200, 600, 300}\n",
      "{400, 700, 100, 500, 200, 600}\n",
      "{400, 700, 500, 200, 600}\n",
      "{700, 500, 200, 600}\n"
     ]
    },
    {
     "ename": "KeyError",
     "evalue": "400",
     "output_type": "error",
     "traceback": [
      "\u001b[1;31m---------------------------------------------------------------------------\u001b[0m",
      "\u001b[1;31mKeyError\u001b[0m                                  Traceback (most recent call last)",
      "Cell \u001b[1;32mIn[88], line 10\u001b[0m\n\u001b[0;32m      8\u001b[0m set1\u001b[38;5;241m.\u001b[39mremove(\u001b[38;5;241m400\u001b[39m)\n\u001b[0;32m      9\u001b[0m \u001b[38;5;28mprint\u001b[39m (set1)\n\u001b[1;32m---> 10\u001b[0m \u001b[43mset1\u001b[49m\u001b[38;5;241;43m.\u001b[39;49m\u001b[43mremove\u001b[49m\u001b[43m(\u001b[49m\u001b[38;5;241;43m400\u001b[39;49m\u001b[43m)\u001b[49m\n\u001b[0;32m     11\u001b[0m \u001b[38;5;28mprint\u001b[39m (set1)\n",
      "\u001b[1;31mKeyError\u001b[0m: 400"
     ]
    }
   ],
   "source": [
    "# delete operation on a set\n",
    "set1 = {100, 200, 300, 600, 700, 500, 400}\n",
    "print (set1)\n",
    "set1.remove(300)\n",
    "print (set1)\n",
    "set1.remove(100)\n",
    "print (set1)\n",
    "set1.remove(400)\n",
    "print (set1)\n",
    "set1.remove(400)\n",
    "print (set1)"
   ]
  },
  {
   "cell_type": "code",
   "execution_count": 89,
   "id": "1cc68a87-f879-4c1b-8cd0-19450ffc0113",
   "metadata": {},
   "outputs": [
    {
     "name": "stdout",
     "output_type": "stream",
     "text": [
      "{400, 700, 100, 500, 200, 600, 300}\n",
      "{400, 700, 100, 500, 200, 600}\n",
      "{400, 700, 100, 500, 200}\n",
      "{400, 700, 100, 200}\n",
      "{400, 700, 100, 200}\n"
     ]
    }
   ],
   "source": [
    "# delete operation on a set\n",
    "set1 = {100, 200, 300, 600, 700, 500, 400}\n",
    "print (set1)\n",
    "set1.discard(300)\n",
    "print (set1)\n",
    "set1.discard(600)\n",
    "print (set1)\n",
    "set1.discard(500)\n",
    "print (set1)\n",
    "set1.discard(500)\n",
    "print (set1)"
   ]
  },
  {
   "cell_type": "code",
   "execution_count": 90,
   "id": "9383dfb4-ce3d-4235-9306-8658122f4b13",
   "metadata": {},
   "outputs": [
    {
     "name": "stdout",
     "output_type": "stream",
     "text": [
      "{400, 700, 100, 500, 200, 600, 300}\n",
      "400\n",
      "{700, 100, 500, 200, 600, 300}\n",
      "700\n",
      "{100, 500, 200, 600, 300}\n",
      "100\n",
      "{500, 200, 600, 300}\n",
      "500\n",
      "{200, 600, 300}\n"
     ]
    }
   ],
   "source": [
    "# delete operation on a set\n",
    "set1 = {100, 200, 300, 600, 700, 500, 400}\n",
    "print (set1)\n",
    "print (set1.pop())\n",
    "print (set1)\n",
    "print (set1.pop())\n",
    "print (set1)\n",
    "print (set1.pop())\n",
    "print (set1)\n",
    "print (set1.pop())\n",
    "print (set1)"
   ]
  },
  {
   "cell_type": "code",
   "execution_count": 91,
   "id": "1eb30eb2-5300-4e04-8826-fb42718846eb",
   "metadata": {},
   "outputs": [
    {
     "name": "stdout",
     "output_type": "stream",
     "text": [
      "{400, 700, 100, 500, 200, 600, 300}\n",
      "set()\n"
     ]
    }
   ],
   "source": [
    "# delete operation on a set\n",
    "set1 = {100, 200, 300, 600, 700, 500, 400}\n",
    "print (set1)\n",
    "set1.clear()\n",
    "print (set1)"
   ]
  },
  {
   "cell_type": "code",
   "execution_count": 95,
   "id": "a4fb5b9c-c093-4c37-9552-74c62d7c80e3",
   "metadata": {},
   "outputs": [
    {
     "name": "stdout",
     "output_type": "stream",
     "text": [
      "[] <class 'list'> 0\n",
      "() <class 'tuple'> 0\n",
      "{} <class 'dict'> 0\n",
      "set() <class 'set'> 0\n"
     ]
    }
   ],
   "source": [
    "var1 = []\n",
    "print (var1, type(var1), len(var1))\n",
    "var1 = ()\n",
    "print (var1, type(var1), len(var1))\n",
    "var1 = {}\n",
    "print (var1, type(var1), len(var1))\n",
    "var1 = set()\n",
    "print (var1, type(var1), len(var1))"
   ]
  },
  {
   "cell_type": "code",
   "execution_count": 96,
   "id": "1e0be442-453c-471a-aa78-883306cbd165",
   "metadata": {},
   "outputs": [
    {
     "name": "stdout",
     "output_type": "stream",
     "text": [
      "{400, 700, 100, 500, 200, 600, 300}\n"
     ]
    },
    {
     "ename": "NameError",
     "evalue": "name 'set1' is not defined",
     "output_type": "error",
     "traceback": [
      "\u001b[1;31m---------------------------------------------------------------------------\u001b[0m",
      "\u001b[1;31mNameError\u001b[0m                                 Traceback (most recent call last)",
      "Cell \u001b[1;32mIn[96], line 4\u001b[0m\n\u001b[0;32m      2\u001b[0m \u001b[38;5;28mprint\u001b[39m (set1)\n\u001b[0;32m      3\u001b[0m \u001b[38;5;28;01mdel\u001b[39;00m set1\n\u001b[1;32m----> 4\u001b[0m \u001b[38;5;28mprint\u001b[39m (\u001b[43mset1\u001b[49m)\n",
      "\u001b[1;31mNameError\u001b[0m: name 'set1' is not defined"
     ]
    }
   ],
   "source": [
    "set1 = {100, 200, 300, 600, 700, 500, 400}\n",
    "print (set1)\n",
    "del set1\n",
    "print (set1)"
   ]
  },
  {
   "cell_type": "code",
   "execution_count": 98,
   "id": "efdb06bd-d708-4ccf-928b-2a84e7c2cbf7",
   "metadata": {},
   "outputs": [
    {
     "name": "stdout",
     "output_type": "stream",
     "text": [
      "{400, 700, 100, 500, 200, 600, 300}\n",
      "{400, 1600, 700, 100, 500, 200, 300}\n"
     ]
    }
   ],
   "source": [
    "# update operation on a set, actually not possible\n",
    "set1 = {100, 200, 300, 600, 700, 500, 400}\n",
    "print (set1)\n",
    "set1.remove(600)   # deleting the item\n",
    "set1.add(1600)   # inserting the item\n",
    "print (set1)"
   ]
  },
  {
   "cell_type": "code",
   "execution_count": 100,
   "id": "78786ffe-980f-40c0-b701-7e5f1909532e",
   "metadata": {},
   "outputs": [
    {
     "name": "stdout",
     "output_type": "stream",
     "text": [
      "{200, 100, 300}\n",
      "{400, 700, 500, 600, 300}\n",
      "{100, 200, 300, 400, 500, 600, 700}\n",
      "{400, 700, 500, 600, 300}\n"
     ]
    }
   ],
   "source": [
    "# concatenating two sets\n",
    "set1 = {100, 200, 300}\n",
    "set2 = {300, 600, 700, 500, 400}\n",
    "print (set1)\n",
    "print (set2)\n",
    "set1.update(set2)\n",
    "print (set1)\n",
    "print (set2)"
   ]
  },
  {
   "cell_type": "markdown",
   "id": "72f07825-a702-4522-a0b0-49f5d5b25946",
   "metadata": {},
   "source": [
    "### Frozen Set Processsing"
   ]
  },
  {
   "cell_type": "code",
   "execution_count": 65,
   "id": "276a706d-22ed-45cd-8ee0-0a10bd047956",
   "metadata": {},
   "outputs": [
    {
     "name": "stdout",
     "output_type": "stream",
     "text": [
      "['Amitava', True, 38.5, 70000, 'Chennai', True, 38.5, 70000, 'Chennai', True, 38.5, 70000, 'Chennai', True, 38.5]\n",
      "frozenset({True, 38.5, 'Amitava', 70000, 'Chennai'})\n"
     ]
    }
   ],
   "source": [
    "# forming a set from a list\n",
    "list1 = ['Amitava', True, 38.5, 70000, \"Chennai\", True, 38.5, 70000, \"Chennai\", True, 38.5,\n",
    "         70000, \"Chennai\", True, 38.5]\n",
    "print (list1)\n",
    "set1 = frozenset(list1)\n",
    "print (set1)"
   ]
  },
  {
   "cell_type": "code",
   "execution_count": 66,
   "id": "2ad132d5-d47a-43ce-9bf3-8199b4347358",
   "metadata": {},
   "outputs": [
    {
     "name": "stdout",
     "output_type": "stream",
     "text": [
      "('Amitava', True, 38.5, 70000, 'Chennai', True, 38.5, 70000, 'Chennai', True, 38.5, 70000, 'Chennai', True, 38.5)\n",
      "frozenset({True, 38.5, 'Amitava', 70000, 'Chennai'})\n"
     ]
    }
   ],
   "source": [
    "# forming a set from a tuple\n",
    "tuple1 = ('Amitava', True, 38.5, 70000, \"Chennai\", True, 38.5, 70000, \"Chennai\", True, 38.5,\n",
    "         70000, \"Chennai\", True, 38.5)\n",
    "print (tuple1)\n",
    "set1 = frozenset(tuple1)\n",
    "print (set1)"
   ]
  },
  {
   "cell_type": "markdown",
   "id": "98d6c64e-074a-48b2-a0d3-ddd0dd7d8bcf",
   "metadata": {},
   "source": [
    "#### set operations: union, intersection, set difference, symmetric difference"
   ]
  },
  {
   "cell_type": "code",
   "execution_count": 70,
   "id": "3bb5f61a-3fb5-4415-aa92-c54856523952",
   "metadata": {},
   "outputs": [
    {
     "name": "stdout",
     "output_type": "stream",
     "text": [
      "frozenset({'cobra', 'python', 'viper'})\n",
      "frozenset({'c++', 'python', 'java'})\n",
      "frozenset({'cobra', 'python', 'viper', 'c++', 'java'})\n",
      "frozenset({'cobra', 'python', 'viper', 'c++', 'java'})\n"
     ]
    }
   ],
   "source": [
    "# union operations\n",
    "snakes = frozenset(['viper', 'python', 'cobra'])\n",
    "languages = frozenset(['java', 'c++', 'python'])\n",
    "print (snakes)\n",
    "print (languages)\n",
    "result = snakes.union(languages)\n",
    "print (result)\n",
    "result = snakes | languages\n",
    "print (result)"
   ]
  },
  {
   "cell_type": "code",
   "execution_count": 73,
   "id": "cd415192-947c-454b-ab5c-07d138407246",
   "metadata": {},
   "outputs": [
    {
     "name": "stdout",
     "output_type": "stream",
     "text": [
      "frozenset({'cobra', 'python', 'viper'})\n",
      "frozenset({'c++', 'python', 'java'})\n",
      "frozenset({'python'})\n",
      "frozenset({'python'})\n",
      "frozenset({'cobra', 'python', 'viper'})\n",
      "frozenset({'c++', 'python', 'java'})\n"
     ]
    }
   ],
   "source": [
    "# intersection operations\n",
    "snakes = frozenset(['viper', 'python', 'cobra'])\n",
    "languages = frozenset(['java', 'c++', 'python'])\n",
    "print (snakes)\n",
    "print (languages)\n",
    "result = snakes.intersection(languages)\n",
    "print (result)\n",
    "result = snakes & languages\n",
    "print (result)\n",
    "print (snakes)\n",
    "print (languages)"
   ]
  },
  {
   "cell_type": "code",
   "execution_count": 76,
   "id": "fc6e39fe-a7ee-4187-8817-1096138bf164",
   "metadata": {},
   "outputs": [
    {
     "name": "stdout",
     "output_type": "stream",
     "text": [
      "frozenset({'cobra', 'python', 'viper'})\n",
      "frozenset({'c++', 'python', 'java'})\n",
      "frozenset({'cobra', 'viper'})\n",
      "frozenset({'cobra', 'viper'})\n",
      "frozenset({'cobra', 'python', 'viper'})\n",
      "frozenset({'c++', 'python', 'java'})\n"
     ]
    }
   ],
   "source": [
    "# set difference operations\n",
    "snakes = frozenset(['viper', 'python', 'cobra'])\n",
    "languages = frozenset(['java', 'c++', 'python'])\n",
    "print (snakes)\n",
    "print (languages)\n",
    "result = snakes.difference(languages)\n",
    "print (result)\n",
    "result = snakes - languages\n",
    "print (result)\n",
    "print (snakes)\n",
    "print (languages)"
   ]
  },
  {
   "cell_type": "code",
   "execution_count": 79,
   "id": "f0c0cbda-cfc3-4fcb-a755-ce8da165e77f",
   "metadata": {},
   "outputs": [
    {
     "name": "stdout",
     "output_type": "stream",
     "text": [
      "frozenset({'cobra', 'python', 'viper'})\n",
      "frozenset({'c++', 'python', 'java'})\n",
      "frozenset({'cobra', 'viper', 'c++', 'java'})\n",
      "frozenset({'cobra', 'viper', 'c++', 'java'})\n",
      "frozenset({'cobra', 'python', 'viper'})\n",
      "frozenset({'c++', 'python', 'java'})\n"
     ]
    }
   ],
   "source": [
    "# set symmetric difference operations\n",
    "snakes = frozenset(['viper', 'python', 'cobra'])\n",
    "languages = frozenset(['java', 'c++', 'python'])\n",
    "print (snakes)\n",
    "print (languages)\n",
    "result = snakes.symmetric_difference(languages)\n",
    "print (result)\n",
    "result = snakes ^ languages\n",
    "print (result)\n",
    "print (snakes)\n",
    "print (languages)"
   ]
  },
  {
   "cell_type": "code",
   "execution_count": 82,
   "id": "37b87562-9551-4899-bd38-9cf68b82fc42",
   "metadata": {},
   "outputs": [
    {
     "name": "stdout",
     "output_type": "stream",
     "text": [
      "False True False\n",
      "False False True\n",
      "True False False\n"
     ]
    }
   ],
   "source": [
    "set1 = frozenset([100, 200, 300])\n",
    "set2 = frozenset([400, 500, 600, 700, 800])\n",
    "set3 = frozenset([600, 700, 800])\n",
    "print (set1.issuperset(set2), set2.issuperset(set3), set3.issuperset(set2))\n",
    "print (set1.issubset(set2), set2.issubset(set3), set3.issubset(set2))\n",
    "print (set1.isdisjoint(set2), set2.isdisjoint(set3), set3.isdisjoint(set2))"
   ]
  },
  {
   "cell_type": "code",
   "execution_count": 85,
   "id": "13b7f7e0-d48d-4c20-bc26-24f4cfaf815f",
   "metadata": {},
   "outputs": [
    {
     "name": "stdout",
     "output_type": "stream",
     "text": [
      "frozenset({200, 100, 300}) 2099213652416 frozenset({200, 100, 300}) 2099213652416\n"
     ]
    }
   ],
   "source": [
    "set1 = frozenset([100, 200, 300])\n",
    "set2 = set1.copy()\n",
    "print (set1, id(set1), set2, id(set2))"
   ]
  },
  {
   "cell_type": "code",
   "execution_count": null,
   "id": "db0f8ab2-cf6d-42fd-b6e7-dc158b64f30f",
   "metadata": {},
   "outputs": [],
   "source": []
  },
  {
   "cell_type": "code",
   "execution_count": null,
   "id": "5ed06412-d81a-480c-b0cf-25c5ec66edb1",
   "metadata": {},
   "outputs": [],
   "source": []
  }
 ],
 "metadata": {
  "kernelspec": {
   "display_name": "Python 3 (ipykernel)",
   "language": "python",
   "name": "python3"
  },
  "language_info": {
   "codemirror_mode": {
    "name": "ipython",
    "version": 3
   },
   "file_extension": ".py",
   "mimetype": "text/x-python",
   "name": "python",
   "nbconvert_exporter": "python",
   "pygments_lexer": "ipython3",
   "version": "3.10.9"
  }
 },
 "nbformat": 4,
 "nbformat_minor": 5
}
