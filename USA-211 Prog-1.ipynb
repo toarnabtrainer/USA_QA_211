{
 "cells": [
  {
   "cell_type": "markdown",
   "id": "2196df4e-6451-48cb-8bf9-b3ec60cd2a8e",
   "metadata": {},
   "source": [
    "## **Inroduction to Python**"
   ]
  },
  {
   "cell_type": "markdown",
   "id": "2de5aa25-1d2b-404a-abd2-b2132ba49d7a",
   "metadata": {},
   "source": [
    "### Comment lines"
   ]
  },
  {
   "cell_type": "code",
   "execution_count": null,
   "id": "074e38fd-3f5e-4ab2-a412-6c2016a016e0",
   "metadata": {},
   "outputs": [],
   "source": [
    "# This is the first comment line\n",
    "# This is the second comment line\n",
    "# This is the third comment line"
   ]
  },
  {
   "cell_type": "markdown",
   "id": "fd76a3c1-9b09-40d6-8d5b-358e2e044c05",
   "metadata": {},
   "source": [
    "### Inputs and Outputs"
   ]
  },
  {
   "cell_type": "code",
   "execution_count": 3,
   "id": "98ac9fae-fe1a-401c-8598-0c3c1856bba4",
   "metadata": {},
   "outputs": [
    {
     "name": "stdin",
     "output_type": "stream",
     "text": [
      "Please enter the first number:  100\n",
      "Please enter the second number:  400\n"
     ]
    },
    {
     "name": "stdout",
     "output_type": "stream",
     "text": [
      "100 <class 'str'> 400 <class 'str'>\n",
      "So the result is 100400\n",
      "So the result is 500\n",
      "End of the program...\n"
     ]
    }
   ],
   "source": [
    "num1 = input(\"Please enter the first number: \")\n",
    "num2 = input(\"Please enter the second number: \")\n",
    "print (num1, type(num1), num2, type(num2))\n",
    "result = num1 + num2\n",
    "print (\"So the result is\", result)\n",
    "result = int(num1) + int(num2)\n",
    "print (\"So the result is\", result)\n",
    "print (\"End of the program...\")"
   ]
  },
  {
   "cell_type": "code",
   "execution_count": 4,
   "id": "680f1c51-877a-4a84-9c5c-097196f851b5",
   "metadata": {},
   "outputs": [
    {
     "name": "stdin",
     "output_type": "stream",
     "text": [
      "Please enter the first number:  100\n",
      "Please enter the second number:  400\n"
     ]
    },
    {
     "name": "stdout",
     "output_type": "stream",
     "text": [
      "100 <class 'int'> 400 <class 'int'>\n",
      "So the result is 500\n",
      "End of the program...\n"
     ]
    }
   ],
   "source": [
    "num1 = int(input(\"Please enter the first number: \"))\n",
    "num2 = int(input(\"Please enter the second number: \"))\n",
    "print (num1, type(num1), num2, type(num2))\n",
    "result = num1 + num2\n",
    "print (\"So the result is\", result)\n",
    "print (\"End of the program...\")"
   ]
  },
  {
   "cell_type": "code",
   "execution_count": 21,
   "id": "09ac7f8a-5dd5-44cc-9657-5b87b258a7e9",
   "metadata": {},
   "outputs": [
    {
     "name": "stdout",
     "output_type": "stream",
     "text": [
      "Here 100 + 400 = 500\n",
      "Here 100 + 400 = 500\n",
      "Here 100 + 400 = 500\n",
      "Here 100 + 400 = 500\n",
      "Here 100 + 400 = 500\n",
      "Here 100 + 400 = 500\n",
      "Here 100 + 400 = 500\n",
      "Here 100 + 400.000000 = 500\n",
      "Here 100 + 400.000000 = 500\n",
      "Here 100 +   400.00 = 500\n",
      "Here 100 + 400 = 500\n"
     ]
    }
   ],
   "source": [
    "print (\"Here\", num1, \"+\", num2, \"=\", result)\n",
    "print (\"Here \" + str(num1) + \" + \" + str(num2) + \" = \" + str(result))\n",
    "print (\"Here {0} + {1} = {2}\".format(num1, num2, result))  # {} is indexed variable placeholder\n",
    "print (\"Here {2} + {1} = {0}\".format(result, num2, num1))\n",
    "print (\"Here {fnum} + {snum} = {tot}\".format(fnum = num1, snum = num2, tot = result))  # {} is labeled variable placeholder\n",
    "print (\"Here {fnum} + {snum} = {tot}\".format(snum = num2, fnum = num1, tot = result))\n",
    "print (\"Here %d + %d = %d\"%(num1, num2, result))\n",
    "print (\"Here %d + %f = %d\"%(num1, num2, result))\n",
    "print (\"Here %d + %10.6f = %d\"%(num1, num2, result))\n",
    "print (\"Here %d + %8.2f = %d\"%(num1, num2, result))\n",
    "print (f\"Here {num1} + {num2} = {result}\")    # smart formatting"
   ]
  },
  {
   "cell_type": "markdown",
   "id": "c525a400-4673-41a8-be93-94e3f893156f",
   "metadata": {},
   "source": [
    "### Operators"
   ]
  },
  {
   "cell_type": "code",
   "execution_count": 26,
   "id": "33dd596a-ffce-4d2e-9d79-7ba7ba0a56ad",
   "metadata": {},
   "outputs": [
    {
     "name": "stdout",
     "output_type": "stream",
     "text": [
      "140\n",
      "60\n",
      "4000\n",
      "2.5\n",
      "2\n",
      "20\n",
      "100000000\n"
     ]
    }
   ],
   "source": [
    "# Arithmetic Operators: + - * / // % **\n",
    "print(100 + 40)\n",
    "print (100 - 40)\n",
    "print (100 * 40)\n",
    "print (100 / 40)   # float division\n",
    "print (100 // 40)   # integer division\n",
    "print (100 % 40)   # modulus or mod division\n",
    "print (100 ** 4)   # exponentiation"
   ]
  },
  {
   "cell_type": "code",
   "execution_count": 27,
   "id": "f608370a-7799-4fba-b738-34d6f89167c8",
   "metadata": {},
   "outputs": [
    {
     "name": "stdout",
     "output_type": "stream",
     "text": [
      "True True False\n"
     ]
    }
   ],
   "source": [
    "# Relational Operators: > >= < <= = !=\n",
    "print (100 >= 40, 100 == 100, 100 != 100)"
   ]
  },
  {
   "cell_type": "code",
   "execution_count": 30,
   "id": "ac89b261-8bb4-448d-be90-7395aef2d8fc",
   "metadata": {},
   "outputs": [
    {
     "name": "stdout",
     "output_type": "stream",
     "text": [
      "True False False False\n",
      "True False True True\n",
      "False True\n"
     ]
    }
   ],
   "source": [
    "# Logical Operators: and, or, not\n",
    "print (True and True, False and False, False and True, True and False)\n",
    "print (True or True, False or False, False or True, True or False)\n",
    "print (not True, not False)"
   ]
  },
  {
   "cell_type": "markdown",
   "id": "24ebe26e-a929-42dd-bd28-6f1676cf9649",
   "metadata": {},
   "source": [
    "### Conditional Statements"
   ]
  },
  {
   "cell_type": "code",
   "execution_count": 35,
   "id": "36d093a0-a92e-441d-a368-0a6abfb9ed8c",
   "metadata": {},
   "outputs": [
    {
     "name": "stdin",
     "output_type": "stream",
     "text": [
      "Please enter the first number:  300\n",
      "Please enter the second number:  10\n",
      "Please enter the third number:  200\n"
     ]
    },
    {
     "name": "stdout",
     "output_type": "stream",
     "text": [
      "The maximum number is the first number = 300\n"
     ]
    }
   ],
   "source": [
    "# take three numbers from the user as inputs and print the maximum of them\n",
    "num1 = int(input(\"Please enter the first number: \"))\n",
    "num2 = int(input(\"Please enter the second number: \"))\n",
    "num3 = int(input(\"Please enter the third number: \"))\n",
    "if (num1 > num2):\n",
    "    if (num1 > num3):\n",
    "        print (\"The maximum number is the first number =\", num1)\n",
    "    else:\n",
    "        print (\"The maximum number is the third number =\", num3)\n",
    "elif (num2 > num3):\n",
    "    print (\"The maximum number is the second number =\", num2)\n",
    "else:\n",
    "    print (\"The maximum number is the third number =\", num3)"
   ]
  },
  {
   "cell_type": "code",
   "execution_count": null,
   "id": "ec325069-3059-417b-b462-739ba5667b83",
   "metadata": {},
   "outputs": [],
   "source": [
    "# take three numbers from the user as inputs and print the maximum of them\n",
    "num1 = int(input(\"Please enter the first number: \"))\n",
    "num2 = int(input(\"Please enter the second number: \"))\n",
    "num3 = int(input(\"Please enter the third number: \"))\n",
    "if (num1 > num2 and num1 > num3):\n",
    "    print (\"The maximum number is the first number =\", num1)\n",
    "elif (num2 > num3):\n",
    "    print (\"The maximum number is the second number =\", num2)\n",
    "else:\n",
    "    print (\"The maximum number is the third number =\", num3)"
   ]
  },
  {
   "cell_type": "code",
   "execution_count": null,
   "id": "a007a7d2-22c3-43ec-9779-900d63e413b0",
   "metadata": {},
   "outputs": [],
   "source": []
  },
  {
   "cell_type": "code",
   "execution_count": null,
   "id": "4ba74c67-d43a-48b7-a625-f3a03456f481",
   "metadata": {},
   "outputs": [],
   "source": []
  },
  {
   "cell_type": "code",
   "execution_count": null,
   "id": "1259afa9-e739-41ef-be1c-9710466ecbf3",
   "metadata": {},
   "outputs": [],
   "source": []
  },
  {
   "cell_type": "code",
   "execution_count": null,
   "id": "075a98ad-01d8-4110-bfb9-95213b1d0ff9",
   "metadata": {},
   "outputs": [],
   "source": []
  },
  {
   "cell_type": "code",
   "execution_count": null,
   "id": "35836602-7387-4f45-b32c-f64f22ede9a5",
   "metadata": {},
   "outputs": [],
   "source": []
  },
  {
   "cell_type": "code",
   "execution_count": null,
   "id": "6b4e6b95-4d06-4b63-842e-4e9e5ad15206",
   "metadata": {},
   "outputs": [],
   "source": []
  },
  {
   "cell_type": "code",
   "execution_count": null,
   "id": "c895c6e1-b2ff-495a-96dd-1780767ec518",
   "metadata": {},
   "outputs": [],
   "source": []
  },
  {
   "cell_type": "code",
   "execution_count": null,
   "id": "c0b82553-a4f2-4ec6-b491-5d85d7b31cd0",
   "metadata": {},
   "outputs": [],
   "source": []
  },
  {
   "cell_type": "code",
   "execution_count": null,
   "id": "5474e603-5df6-478f-befc-6bc626b50e75",
   "metadata": {},
   "outputs": [],
   "source": []
  },
  {
   "cell_type": "code",
   "execution_count": null,
   "id": "2fa0559c-5382-4665-802d-50236375ad3e",
   "metadata": {},
   "outputs": [],
   "source": []
  },
  {
   "cell_type": "code",
   "execution_count": null,
   "id": "fd1b00dd-65fc-497d-a877-b7bf59cbe4b5",
   "metadata": {},
   "outputs": [],
   "source": []
  }
 ],
 "metadata": {
  "kernelspec": {
   "display_name": "Python 3 (ipykernel)",
   "language": "python",
   "name": "python3"
  },
  "language_info": {
   "codemirror_mode": {
    "name": "ipython",
    "version": 3
   },
   "file_extension": ".py",
   "mimetype": "text/x-python",
   "name": "python",
   "nbconvert_exporter": "python",
   "pygments_lexer": "ipython3",
   "version": "3.10.9"
  }
 },
 "nbformat": 4,
 "nbformat_minor": 5
}
